{
 "cells": [
  {
   "cell_type": "code",
   "execution_count": 1,
   "metadata": {},
   "outputs": [],
   "source": [
    "import pandas as pd\n",
    "import numpy as np\n",
    "import matplotlib.pyplot as plt\n",
    "%matplotlib inline\n",
    "#pd.options.display.max_columns = None\n",
    "#pd.options.display.max_rows = None\n",
    "#pd.set_option('max_colwidth', 5000)\n",
    "from IPython.display import display\n",
    "from sklearn.model_selection import train_test_split as tts"
   ]
  },
  {
   "cell_type": "markdown",
   "metadata": {},
   "source": [
    "## Load Data From CSV File\n",
    "\n",
    "First thing is merging the csv file into one file <br />\n",
    "Here is the code:\n",
    "`cat *.csv >merged.csv`\n",
    "<br/>\n",
    "**Note:** to read the csv file in, need to do `skiprows=1` and `low_memory=False`\n",
    "\n",
    "<br/>\n",
    "Next, take a look at the data. Simple command to explore the data so I can explore over time"
   ]
  },
  {
   "cell_type": "code",
   "execution_count": 2,
   "metadata": {},
   "outputs": [],
   "source": [
    "df_backup = pd.read_csv('/Users/fayadabbasi/Desktop/Python_Scripts/Galvanize/DSI/CreditRisk/merged.csv', skiprows=1, low_memory=False)"
   ]
  },
  {
   "cell_type": "code",
   "execution_count": 3,
   "metadata": {},
   "outputs": [],
   "source": [
    "df = df_backup.copy()"
   ]
  },
  {
   "cell_type": "markdown",
   "metadata": {},
   "source": [
    "### First Modification\n",
    "Since I have the merged `.csv` files, I need to drop the redundant rows\n",
    "<br/>\n",
    "There should be 16 of them"
   ]
  },
  {
   "cell_type": "code",
   "execution_count": 4,
   "metadata": {},
   "outputs": [],
   "source": [
    "df = df[df.id!='id'] # leave behind those that do not have id in the id column\n",
    "# due to csv merge, need to eliminate rows with redundant index; 16 of these"
   ]
  },
  {
   "cell_type": "markdown",
   "metadata": {},
   "source": [
    "### Next, Check Loan Status\n",
    "Want to see loan_status counts"
   ]
  },
  {
   "cell_type": "code",
   "execution_count": 5,
   "metadata": {},
   "outputs": [
    {
     "data": {
      "text/plain": [
       "Fully Paid                                             1191125\n",
       "Current                                                 868848\n",
       "Charged Off                                             287174\n",
       "Late (31-120 days)                                       20775\n",
       "In Grace Period                                           9242\n",
       "Late (16-30 days)                                         4826\n",
       "Does not meet the credit policy. Status:Fully Paid        1988\n",
       "Does not meet the credit policy. Status:Charged Off        761\n",
       "Default                                                     42\n",
       "Name: loan_status, dtype: int64"
      ]
     },
     "execution_count": 5,
     "metadata": {},
     "output_type": "execute_result"
    }
   ],
   "source": [
    "df.loan_status.value_counts()"
   ]
  },
  {
   "cell_type": "code",
   "execution_count": null,
   "metadata": {},
   "outputs": [],
   "source": []
  },
  {
   "cell_type": "markdown",
   "metadata": {},
   "source": [
    "Create a dataframe with the most likely fields to analyze for loan performance\n",
    "<br/>\n",
    "Note that I can look at a variety of items in the future but this is initial analysis."
   ]
  },
  {
   "cell_type": "code",
   "execution_count": 6,
   "metadata": {},
   "outputs": [],
   "source": [
    "df = df[['loan_amnt','grade','emp_length','annual_inc','purpose','revol_util','home_ownership','term','int_rate','loan_status']]"
   ]
  },
  {
   "cell_type": "code",
   "execution_count": 7,
   "metadata": {},
   "outputs": [
    {
     "data": {
      "text/html": [
       "<div>\n",
       "<style scoped>\n",
       "    .dataframe tbody tr th:only-of-type {\n",
       "        vertical-align: middle;\n",
       "    }\n",
       "\n",
       "    .dataframe tbody tr th {\n",
       "        vertical-align: top;\n",
       "    }\n",
       "\n",
       "    .dataframe thead th {\n",
       "        text-align: right;\n",
       "    }\n",
       "</style>\n",
       "<table border=\"1\" class=\"dataframe\">\n",
       "  <thead>\n",
       "    <tr style=\"text-align: right;\">\n",
       "      <th></th>\n",
       "      <th>loan_amnt</th>\n",
       "      <th>grade</th>\n",
       "      <th>emp_length</th>\n",
       "      <th>annual_inc</th>\n",
       "      <th>purpose</th>\n",
       "      <th>revol_util</th>\n",
       "      <th>home_ownership</th>\n",
       "      <th>term</th>\n",
       "      <th>int_rate</th>\n",
       "      <th>loan_status</th>\n",
       "    </tr>\n",
       "  </thead>\n",
       "  <tbody>\n",
       "    <tr>\n",
       "      <th>0</th>\n",
       "      <td>5000</td>\n",
       "      <td>B</td>\n",
       "      <td>10+ years</td>\n",
       "      <td>24000</td>\n",
       "      <td>credit_card</td>\n",
       "      <td>83.7%</td>\n",
       "      <td>RENT</td>\n",
       "      <td>36 months</td>\n",
       "      <td>10.65%</td>\n",
       "      <td>Fully Paid</td>\n",
       "    </tr>\n",
       "    <tr>\n",
       "      <th>1</th>\n",
       "      <td>2500</td>\n",
       "      <td>C</td>\n",
       "      <td>&lt; 1 year</td>\n",
       "      <td>30000</td>\n",
       "      <td>car</td>\n",
       "      <td>9.4%</td>\n",
       "      <td>RENT</td>\n",
       "      <td>60 months</td>\n",
       "      <td>15.27%</td>\n",
       "      <td>Charged Off</td>\n",
       "    </tr>\n",
       "  </tbody>\n",
       "</table>\n",
       "</div>"
      ],
      "text/plain": [
       "  loan_amnt grade emp_length annual_inc      purpose revol_util  \\\n",
       "0      5000     B  10+ years      24000  credit_card      83.7%   \n",
       "1      2500     C   < 1 year      30000          car       9.4%   \n",
       "\n",
       "  home_ownership        term int_rate  loan_status  \n",
       "0           RENT   36 months   10.65%   Fully Paid  \n",
       "1           RENT   60 months   15.27%  Charged Off  "
      ]
     },
     "execution_count": 7,
     "metadata": {},
     "output_type": "execute_result"
    }
   ],
   "source": [
    "df.head(2)"
   ]
  },
  {
   "cell_type": "markdown",
   "metadata": {},
   "source": [
    "### Preprocessing\n",
    "\n",
    "First convert object items to numeric - only two fields\n",
    "<br/>\n",
    "Then apply my universal preprocessing function to do broader cleaning"
   ]
  },
  {
   "cell_type": "code",
   "execution_count": 8,
   "metadata": {},
   "outputs": [],
   "source": [
    "convert_to_numeric = ['loan_amnt','annual_inc']\n",
    "for items in convert_to_numeric:\n",
    "    df[items] = pd.to_numeric(df[items])"
   ]
  },
  {
   "cell_type": "code",
   "execution_count": 9,
   "metadata": {},
   "outputs": [],
   "source": [
    "def pre_processing(dataframe, date='2019-8-01'):\n",
    "    def emp_length(dataframe,column='emp_length'):\n",
    "        dataframe[column+'_int'] = dataframe[column]\n",
    "        dataframe[column+'_int'] = dataframe[column+'_int'].str.replace('\\+ years','')\n",
    "        dataframe[column+'_int'] = dataframe[column+'_int'].str.replace('< 1 year',str(0))\n",
    "        dataframe[column+'_int'] = dataframe[column+'_int'].str.replace('n\\a',str(0))\n",
    "        dataframe[column+'_int'] = dataframe[column+'_int'].str.replace(' years','')\n",
    "        dataframe[column+'_int'] = dataframe[column+'_int'].str.replace(' year','')\n",
    "        dataframe[column+'_int'] = pd.to_numeric(dataframe[column+'_int'])\n",
    "        dataframe[column+'_int'].fillna(0, inplace=True)\n",
    "    \n",
    "    def term_length(dataframe, column='term'):\n",
    "        dataframe[column+'_int'] = dataframe[column]\n",
    "        dataframe[column+'_int'] = dataframe[column].str.replace(' months','')\n",
    "        dataframe[column+'_int'] = pd.to_numeric(dataframe[column+'_int'])\n",
    "    \n",
    "    def perc_convert(dataframe, column):\n",
    "        dataframe[column+'_t'] = dataframe[column].fillna(str('0'))\n",
    "        dataframe[column+'_factor'] = dataframe[column+'_t'].map(lambda x: str(x).rstrip('%').strip())\n",
    "        dataframe[column+'_factor'] = pd.to_numeric(dataframe[column+'_factor'])\n",
    "    \n",
    "    emp_length(dataframe)\n",
    "    term_length(dataframe)\n",
    "    perc_convert(dataframe, column='int_rate')\n",
    "    perc_convert(dataframe, column='revol_util')\n",
    "\n",
    "    dataframe['annual_inc'].fillna(dataframe['annual_inc'].mean(), inplace=True)\n",
    "    dataframe['good_bad'] = np.where(dataframe['loan_status'].isin(['Charged Off','Default','Does not meet the credit policy. Status:Fully Paid','Does not meet the credit policy. Status:Charged Off','Late (31-120 days)','Late (16-30 days)']),0,1)\n",
    "    \n",
    "    return dataframe"
   ]
  },
  {
   "cell_type": "code",
   "execution_count": 10,
   "metadata": {},
   "outputs": [],
   "source": [
    "df = pre_processing(df)"
   ]
  },
  {
   "cell_type": "code",
   "execution_count": 11,
   "metadata": {},
   "outputs": [
    {
     "data": {
      "text/html": [
       "<div>\n",
       "<style scoped>\n",
       "    .dataframe tbody tr th:only-of-type {\n",
       "        vertical-align: middle;\n",
       "    }\n",
       "\n",
       "    .dataframe tbody tr th {\n",
       "        vertical-align: top;\n",
       "    }\n",
       "\n",
       "    .dataframe thead th {\n",
       "        text-align: right;\n",
       "    }\n",
       "</style>\n",
       "<table border=\"1\" class=\"dataframe\">\n",
       "  <thead>\n",
       "    <tr style=\"text-align: right;\">\n",
       "      <th></th>\n",
       "      <th>loan_amnt</th>\n",
       "      <th>grade</th>\n",
       "      <th>emp_length</th>\n",
       "      <th>annual_inc</th>\n",
       "      <th>purpose</th>\n",
       "      <th>revol_util</th>\n",
       "      <th>home_ownership</th>\n",
       "      <th>term</th>\n",
       "      <th>int_rate</th>\n",
       "      <th>loan_status</th>\n",
       "      <th>emp_length_int</th>\n",
       "      <th>term_int</th>\n",
       "      <th>int_rate_t</th>\n",
       "      <th>int_rate_factor</th>\n",
       "      <th>revol_util_t</th>\n",
       "      <th>revol_util_factor</th>\n",
       "      <th>good_bad</th>\n",
       "    </tr>\n",
       "  </thead>\n",
       "  <tbody>\n",
       "    <tr>\n",
       "      <th>0</th>\n",
       "      <td>5000.0</td>\n",
       "      <td>B</td>\n",
       "      <td>10+ years</td>\n",
       "      <td>24000.0</td>\n",
       "      <td>credit_card</td>\n",
       "      <td>83.7%</td>\n",
       "      <td>RENT</td>\n",
       "      <td>36 months</td>\n",
       "      <td>10.65%</td>\n",
       "      <td>Fully Paid</td>\n",
       "      <td>10.0</td>\n",
       "      <td>36.0</td>\n",
       "      <td>10.65%</td>\n",
       "      <td>10.65</td>\n",
       "      <td>83.7%</td>\n",
       "      <td>83.7</td>\n",
       "      <td>1</td>\n",
       "    </tr>\n",
       "    <tr>\n",
       "      <th>1</th>\n",
       "      <td>2500.0</td>\n",
       "      <td>C</td>\n",
       "      <td>&lt; 1 year</td>\n",
       "      <td>30000.0</td>\n",
       "      <td>car</td>\n",
       "      <td>9.4%</td>\n",
       "      <td>RENT</td>\n",
       "      <td>60 months</td>\n",
       "      <td>15.27%</td>\n",
       "      <td>Charged Off</td>\n",
       "      <td>0.0</td>\n",
       "      <td>60.0</td>\n",
       "      <td>15.27%</td>\n",
       "      <td>15.27</td>\n",
       "      <td>9.4%</td>\n",
       "      <td>9.4</td>\n",
       "      <td>0</td>\n",
       "    </tr>\n",
       "  </tbody>\n",
       "</table>\n",
       "</div>"
      ],
      "text/plain": [
       "   loan_amnt grade emp_length  annual_inc      purpose revol_util  \\\n",
       "0     5000.0     B  10+ years     24000.0  credit_card      83.7%   \n",
       "1     2500.0     C   < 1 year     30000.0          car       9.4%   \n",
       "\n",
       "  home_ownership        term int_rate  loan_status  emp_length_int  term_int  \\\n",
       "0           RENT   36 months   10.65%   Fully Paid            10.0      36.0   \n",
       "1           RENT   60 months   15.27%  Charged Off             0.0      60.0   \n",
       "\n",
       "  int_rate_t  int_rate_factor revol_util_t  revol_util_factor  good_bad  \n",
       "0     10.65%            10.65        83.7%               83.7         1  \n",
       "1     15.27%            15.27         9.4%                9.4         0  "
      ]
     },
     "execution_count": 11,
     "metadata": {},
     "output_type": "execute_result"
    }
   ],
   "source": [
    "df.head(2)"
   ]
  },
  {
   "cell_type": "code",
   "execution_count": 12,
   "metadata": {},
   "outputs": [],
   "source": [
    "df = df.drop(['emp_length','term','int_rate','int_rate_t','revol_util','revol_util_t'], axis=1)"
   ]
  },
  {
   "cell_type": "code",
   "execution_count": 13,
   "metadata": {},
   "outputs": [],
   "source": [
    "def missing_values(dataframe,column):\n",
    "    dataframe = dataframe[dataframe[column].notnull()]\n",
    "    return dataframe"
   ]
  },
  {
   "cell_type": "code",
   "execution_count": 14,
   "metadata": {},
   "outputs": [],
   "source": [
    "df = missing_values(df,'loan_amnt') "
   ]
  },
  {
   "cell_type": "code",
   "execution_count": 15,
   "metadata": {},
   "outputs": [],
   "source": [
    "def null_values(d):\n",
    "    mis_valu = d.isnull().sum()\n",
    "    mis_val_percent = 100* d.isnull().sum() / len(d)\n",
    "    mis_val_table = pd.concat([mis_valu, mis_val_percent],axis=1)\n",
    "    mis_val_table_ren_columns = mis_val_table.rename(columns={0: 'Missing Values', 1: '% of Total Values'})\n",
    "    mis_val_table_ren_columns = mis_val_table_ren_columns[mis_val_table_ren_columns.iloc[:,1]!=0].sort_values('% of Total Values', ascending=False).round(1)\n",
    "    print(\"Dataframe has \" + str(d.shape[1]) + \" columns.\\nThere are \"+ str(mis_val_table_ren_columns.shape[0]) + \" columns that have missing values.\")\n",
    "    return mis_val_table_ren_columns"
   ]
  },
  {
   "cell_type": "code",
   "execution_count": 16,
   "metadata": {},
   "outputs": [
    {
     "name": "stdout",
     "output_type": "stream",
     "text": [
      "Dataframe has 11 columns.\n",
      "There are 0 columns that have missing values.\n"
     ]
    }
   ],
   "source": [
    "miss_values = null_values(df)"
   ]
  },
  {
   "cell_type": "code",
   "execution_count": 17,
   "metadata": {},
   "outputs": [
    {
     "data": {
      "text/html": [
       "<div>\n",
       "<style scoped>\n",
       "    .dataframe tbody tr th:only-of-type {\n",
       "        vertical-align: middle;\n",
       "    }\n",
       "\n",
       "    .dataframe tbody tr th {\n",
       "        vertical-align: top;\n",
       "    }\n",
       "\n",
       "    .dataframe thead th {\n",
       "        text-align: right;\n",
       "    }\n",
       "</style>\n",
       "<table border=\"1\" class=\"dataframe\">\n",
       "  <thead>\n",
       "    <tr style=\"text-align: right;\">\n",
       "      <th></th>\n",
       "      <th>loan_amnt</th>\n",
       "      <th>grade</th>\n",
       "      <th>annual_inc</th>\n",
       "      <th>purpose</th>\n",
       "      <th>home_ownership</th>\n",
       "      <th>loan_status</th>\n",
       "      <th>emp_length_int</th>\n",
       "      <th>term_int</th>\n",
       "      <th>int_rate_factor</th>\n",
       "      <th>revol_util_factor</th>\n",
       "      <th>good_bad</th>\n",
       "    </tr>\n",
       "  </thead>\n",
       "  <tbody>\n",
       "    <tr>\n",
       "      <th>0</th>\n",
       "      <td>5000.0</td>\n",
       "      <td>B</td>\n",
       "      <td>24000.0</td>\n",
       "      <td>credit_card</td>\n",
       "      <td>RENT</td>\n",
       "      <td>Fully Paid</td>\n",
       "      <td>10.0</td>\n",
       "      <td>36.0</td>\n",
       "      <td>10.65</td>\n",
       "      <td>83.7</td>\n",
       "      <td>1</td>\n",
       "    </tr>\n",
       "    <tr>\n",
       "      <th>1</th>\n",
       "      <td>2500.0</td>\n",
       "      <td>C</td>\n",
       "      <td>30000.0</td>\n",
       "      <td>car</td>\n",
       "      <td>RENT</td>\n",
       "      <td>Charged Off</td>\n",
       "      <td>0.0</td>\n",
       "      <td>60.0</td>\n",
       "      <td>15.27</td>\n",
       "      <td>9.4</td>\n",
       "      <td>0</td>\n",
       "    </tr>\n",
       "  </tbody>\n",
       "</table>\n",
       "</div>"
      ],
      "text/plain": [
       "   loan_amnt grade  annual_inc      purpose home_ownership  loan_status  \\\n",
       "0     5000.0     B     24000.0  credit_card           RENT   Fully Paid   \n",
       "1     2500.0     C     30000.0          car           RENT  Charged Off   \n",
       "\n",
       "   emp_length_int  term_int  int_rate_factor  revol_util_factor  good_bad  \n",
       "0            10.0      36.0            10.65               83.7         1  \n",
       "1             0.0      60.0            15.27                9.4         0  "
      ]
     },
     "execution_count": 17,
     "metadata": {},
     "output_type": "execute_result"
    }
   ],
   "source": [
    "df.head(2)"
   ]
  },
  {
   "cell_type": "markdown",
   "metadata": {},
   "source": [
    "### View a few plots"
   ]
  },
  {
   "cell_type": "code",
   "execution_count": 18,
   "metadata": {},
   "outputs": [
    {
     "data": {
      "image/png": "[encoded data removed]",
      "text/plain": [
       "<Figure size 432x288 with 1 Axes>"
      ]
     },
     "metadata": {
      "needs_background": "light"
     },
     "output_type": "display_data"
    }
   ],
   "source": [
    "df.dtypes.value_counts().sort_values().plot(kind='barh')\n",
    "plt.title('Number of columns by data type')\n",
    "plt.xlabel(\"number of columns\")\n",
    "plt.ylabel(\"data type\");"
   ]
  },
  {
   "cell_type": "code",
   "execution_count": 19,
   "metadata": {},
   "outputs": [
    {
     "data": {
      "image/png": "[encoded data removed]",
      "text/plain": [
       "<Figure size 432x288 with 1 Axes>"
      ]
     },
     "metadata": {
      "needs_background": "light"
     },
     "output_type": "display_data"
    }
   ],
   "source": [
    "df['emp_length_int'].value_counts().sort_values().plot(kind='barh')\n",
    "plt.title('Number of loans based on emp length')\n",
    "plt.xlabel('number of loans')\n",
    "plt.ylabel('years worked');"
   ]
  },
  {
   "cell_type": "code",
   "execution_count": 20,
   "metadata": {},
   "outputs": [
    {
     "data": {
      "image/png": "[encoded data removed]",
      "text/plain": [
       "<Figure size 432x288 with 1 Axes>"
      ]
     },
     "metadata": {
      "needs_background": "light"
     },
     "output_type": "display_data"
    }
   ],
   "source": [
    "df.good_bad.value_counts().sort_values().plot(kind='barh')\n",
    "plt.title('Good loans vs bad');"
   ]
  },
  {
   "cell_type": "markdown",
   "metadata": {},
   "source": [
    "### Create One Hot Encoding for Categorical Items\n",
    "There are 5 columns that are already in categorical form"
   ]
  },
  {
   "cell_type": "code",
   "execution_count": 21,
   "metadata": {},
   "outputs": [],
   "source": [
    "lst = ['grade','home_ownership','purpose','emp_length_int','term_int']\n",
    "def loan_data_d(dataframe, lst = []):\n",
    "    for items in lst:\n",
    "        loan_data_dummies = [pd.get_dummies(dataframe[items], prefix=items,prefix_sep=':')]\n",
    "        loan_data_dummies = pd.concat(loan_data_dummies, axis=1)\n",
    "        dataframe = pd.concat([dataframe, loan_data_dummies], axis = 1)\n",
    "    return dataframe"
   ]
  },
  {
   "cell_type": "code",
   "execution_count": 22,
   "metadata": {},
   "outputs": [],
   "source": [
    "df = loan_data_d(df,lst)"
   ]
  },
  {
   "cell_type": "code",
   "execution_count": 23,
   "metadata": {},
   "outputs": [],
   "source": [
    "df = df.drop(lst, axis=1)"
   ]
  },
  {
   "cell_type": "code",
   "execution_count": 24,
   "metadata": {},
   "outputs": [
    {
     "data": {
      "text/html": [
       "<div>\n",
       "<style scoped>\n",
       "    .dataframe tbody tr th:only-of-type {\n",
       "        vertical-align: middle;\n",
       "    }\n",
       "\n",
       "    .dataframe tbody tr th {\n",
       "        vertical-align: top;\n",
       "    }\n",
       "\n",
       "    .dataframe thead th {\n",
       "        text-align: right;\n",
       "    }\n",
       "</style>\n",
       "<table border=\"1\" class=\"dataframe\">\n",
       "  <thead>\n",
       "    <tr style=\"text-align: right;\">\n",
       "      <th></th>\n",
       "      <th>loan_amnt</th>\n",
       "      <th>annual_inc</th>\n",
       "      <th>loan_status</th>\n",
       "      <th>int_rate_factor</th>\n",
       "      <th>revol_util_factor</th>\n",
       "      <th>good_bad</th>\n",
       "      <th>grade:A</th>\n",
       "      <th>grade:B</th>\n",
       "      <th>grade:C</th>\n",
       "      <th>grade:D</th>\n",
       "      <th>...</th>\n",
       "      <th>emp_length_int:3.0</th>\n",
       "      <th>emp_length_int:4.0</th>\n",
       "      <th>emp_length_int:5.0</th>\n",
       "      <th>emp_length_int:6.0</th>\n",
       "      <th>emp_length_int:7.0</th>\n",
       "      <th>emp_length_int:8.0</th>\n",
       "      <th>emp_length_int:9.0</th>\n",
       "      <th>emp_length_int:10.0</th>\n",
       "      <th>term_int:36.0</th>\n",
       "      <th>term_int:60.0</th>\n",
       "    </tr>\n",
       "  </thead>\n",
       "  <tbody>\n",
       "    <tr>\n",
       "      <th>0</th>\n",
       "      <td>5000.0</td>\n",
       "      <td>24000.0</td>\n",
       "      <td>Fully Paid</td>\n",
       "      <td>10.65</td>\n",
       "      <td>83.7</td>\n",
       "      <td>1</td>\n",
       "      <td>0</td>\n",
       "      <td>1</td>\n",
       "      <td>0</td>\n",
       "      <td>0</td>\n",
       "      <td>...</td>\n",
       "      <td>0</td>\n",
       "      <td>0</td>\n",
       "      <td>0</td>\n",
       "      <td>0</td>\n",
       "      <td>0</td>\n",
       "      <td>0</td>\n",
       "      <td>0</td>\n",
       "      <td>1</td>\n",
       "      <td>1</td>\n",
       "      <td>0</td>\n",
       "    </tr>\n",
       "    <tr>\n",
       "      <th>1</th>\n",
       "      <td>2500.0</td>\n",
       "      <td>30000.0</td>\n",
       "      <td>Charged Off</td>\n",
       "      <td>15.27</td>\n",
       "      <td>9.4</td>\n",
       "      <td>0</td>\n",
       "      <td>0</td>\n",
       "      <td>0</td>\n",
       "      <td>1</td>\n",
       "      <td>0</td>\n",
       "      <td>...</td>\n",
       "      <td>0</td>\n",
       "      <td>0</td>\n",
       "      <td>0</td>\n",
       "      <td>0</td>\n",
       "      <td>0</td>\n",
       "      <td>0</td>\n",
       "      <td>0</td>\n",
       "      <td>0</td>\n",
       "      <td>0</td>\n",
       "      <td>1</td>\n",
       "    </tr>\n",
       "  </tbody>\n",
       "</table>\n",
       "<p>2 rows × 46 columns</p>\n",
       "</div>"
      ],
      "text/plain": [
       "   loan_amnt  annual_inc  loan_status  int_rate_factor  revol_util_factor  \\\n",
       "0     5000.0     24000.0   Fully Paid            10.65               83.7   \n",
       "1     2500.0     30000.0  Charged Off            15.27                9.4   \n",
       "\n",
       "   good_bad  grade:A  grade:B  grade:C  grade:D      ...        \\\n",
       "0         1        0        1        0        0      ...         \n",
       "1         0        0        0        1        0      ...         \n",
       "\n",
       "   emp_length_int:3.0  emp_length_int:4.0  emp_length_int:5.0  \\\n",
       "0                   0                   0                   0   \n",
       "1                   0                   0                   0   \n",
       "\n",
       "   emp_length_int:6.0  emp_length_int:7.0  emp_length_int:8.0  \\\n",
       "0                   0                   0                   0   \n",
       "1                   0                   0                   0   \n",
       "\n",
       "   emp_length_int:9.0  emp_length_int:10.0  term_int:36.0  term_int:60.0  \n",
       "0                   0                    1              1              0  \n",
       "1                   0                    0              0              1  \n",
       "\n",
       "[2 rows x 46 columns]"
      ]
     },
     "execution_count": 24,
     "metadata": {},
     "output_type": "execute_result"
    }
   ],
   "source": [
    "df.head(2)"
   ]
  },
  {
   "cell_type": "code",
   "execution_count": 25,
   "metadata": {},
   "outputs": [
    {
     "data": {
      "text/plain": [
       "Fully Paid                                             0.499469\n",
       "Current                                                0.364330\n",
       "Charged Off                                            0.120419\n",
       "Late (31-120 days)                                     0.008711\n",
       "In Grace Period                                        0.003875\n",
       "Late (16-30 days)                                      0.002024\n",
       "Does not meet the credit policy. Status:Fully Paid     0.000834\n",
       "Does not meet the credit policy. Status:Charged Off    0.000319\n",
       "Default                                                0.000018\n",
       "Name: loan_status, dtype: float64"
      ]
     },
     "execution_count": 25,
     "metadata": {},
     "output_type": "execute_result"
    }
   ],
   "source": [
    "df['loan_status'].value_counts() / df['loan_status'].count()"
   ]
  },
  {
   "cell_type": "markdown",
   "metadata": {},
   "source": [
    "### Create Train Test Split"
   ]
  },
  {
   "cell_type": "code",
   "execution_count": 26,
   "metadata": {},
   "outputs": [],
   "source": [
    "loan_data_input_train, loan_data_input_test, loan_data_target_train, loan_data_target_test = tts(df.drop(['loan_status','good_bad'], axis=1), df['good_bad'], test_size=0.25, random_state=42)"
   ]
  },
  {
   "cell_type": "code",
   "execution_count": 27,
   "metadata": {},
   "outputs": [],
   "source": [
    "df_inputs_prepr, df_targets_prepr = loan_data_input_train, loan_data_target_train"
   ]
  },
  {
   "cell_type": "markdown",
   "metadata": {},
   "source": [
    "### Create One Hot Encoding for Continuous Variables\n",
    "Will do a Weight of Evidence to see how to break down continuous variables to bins based on WoE"
   ]
  },
  {
   "cell_type": "code",
   "execution_count": 28,
   "metadata": {},
   "outputs": [],
   "source": [
    "def woe_ordered_continuous(df, discrete_variable_name, good_bad_variable_df):\n",
    "    df = pd.concat([df[discrete_variable_name], good_bad_variable_df],axis=1)\n",
    "    df = pd.concat([df.groupby(df.columns.values[0], as_index=False)[df.columns.values[1]].count(),df.groupby(df.columns.values[0], as_index=False)[df.columns.values[1]].mean()], axis=1)\n",
    "    df = df.iloc[:,[0,1,3]]\n",
    "    df.columns = [df.columns.values[0], 'n_obs', 'prop_good']\n",
    "    df['prop_n_obs'] = df['n_obs'] / df['n_obs'].sum()\n",
    "    df['n_good'] = df['prop_good'] * df['n_obs']\n",
    "    df['n_bad'] = (1-df['prop_good']) * df['n_obs']\n",
    "    df['prop_n_good'] = df['n_good']/ df['n_good'].sum()\n",
    "    df['prop_n_bad'] = df['n_bad'] / df['n_bad'].sum()\n",
    "    df['WoE'] = np.log(df['prop_n_good'] / df['prop_n_bad'])\n",
    "    # df = df.sort_values(['WoE'])\n",
    "    # df = df.reset_index(drop=True)\n",
    "    df['diff_prop_good'] = df['prop_good'].diff().abs()\n",
    "    df['diff_WoE'] = df['WoE'].diff().abs()\n",
    "    df['IV'] = (df['prop_n_good'] - df['prop_n_bad']) * df['WoE']\n",
    "    df['IV'] = df['IV'].sum()\n",
    "    return df"
   ]
  },
  {
   "cell_type": "code",
   "execution_count": 29,
   "metadata": {},
   "outputs": [],
   "source": [
    "df_inputs_prepr['loan_amnt_factor'] = pd.cut(df_inputs_prepr['loan_amnt'],30)\n",
    "#df_inputs_prepr['loan_amnt_factor'] = pd.cut(df_inputs_prepr['loan_amnt'],5).astype(str)\n",
    "# df_inputs_prepr.loan_amnt_factor[0].replace('(','').replace(']','').replace(' ','').split(',')[1]"
   ]
  },
  {
   "cell_type": "code",
   "execution_count": 30,
   "metadata": {},
   "outputs": [
    {
     "data": {
      "text/html": [
       "<div>\n",
       "<style scoped>\n",
       "    .dataframe tbody tr th:only-of-type {\n",
       "        vertical-align: middle;\n",
       "    }\n",
       "\n",
       "    .dataframe tbody tr th {\n",
       "        vertical-align: top;\n",
       "    }\n",
       "\n",
       "    .dataframe thead th {\n",
       "        text-align: right;\n",
       "    }\n",
       "</style>\n",
       "<table border=\"1\" class=\"dataframe\">\n",
       "  <thead>\n",
       "    <tr style=\"text-align: right;\">\n",
       "      <th></th>\n",
       "      <th>loan_amnt_factor</th>\n",
       "      <th>n_obs</th>\n",
       "      <th>prop_good</th>\n",
       "      <th>prop_n_obs</th>\n",
       "      <th>n_good</th>\n",
       "      <th>n_bad</th>\n",
       "      <th>prop_n_good</th>\n",
       "      <th>prop_n_bad</th>\n",
       "      <th>WoE</th>\n",
       "      <th>diff_prop_good</th>\n",
       "      <th>diff_WoE</th>\n",
       "      <th>IV</th>\n",
       "    </tr>\n",
       "  </thead>\n",
       "  <tbody>\n",
       "    <tr>\n",
       "      <th>0</th>\n",
       "      <td>(460.5, 1816.667]</td>\n",
       "      <td>22280</td>\n",
       "      <td>0.909246</td>\n",
       "      <td>0.012457</td>\n",
       "      <td>20258.0</td>\n",
       "      <td>2022.0</td>\n",
       "      <td>0.013052</td>\n",
       "      <td>0.008552</td>\n",
       "      <td>0.422808</td>\n",
       "      <td>NaN</td>\n",
       "      <td>NaN</td>\n",
       "      <td>0.031895</td>\n",
       "    </tr>\n",
       "    <tr>\n",
       "      <th>1</th>\n",
       "      <td>(1816.667, 3133.333]</td>\n",
       "      <td>61094</td>\n",
       "      <td>0.893590</td>\n",
       "      <td>0.034158</td>\n",
       "      <td>54593.0</td>\n",
       "      <td>6501.0</td>\n",
       "      <td>0.035173</td>\n",
       "      <td>0.027494</td>\n",
       "      <td>0.246295</td>\n",
       "      <td>0.015656</td>\n",
       "      <td>0.176513</td>\n",
       "      <td>0.031895</td>\n",
       "    </tr>\n",
       "    <tr>\n",
       "      <th>2</th>\n",
       "      <td>(3133.333, 4450.0]</td>\n",
       "      <td>61247</td>\n",
       "      <td>0.887717</td>\n",
       "      <td>0.034243</td>\n",
       "      <td>54370.0</td>\n",
       "      <td>6877.0</td>\n",
       "      <td>0.035029</td>\n",
       "      <td>0.029084</td>\n",
       "      <td>0.185975</td>\n",
       "      <td>0.005873</td>\n",
       "      <td>0.060320</td>\n",
       "      <td>0.031895</td>\n",
       "    </tr>\n",
       "    <tr>\n",
       "      <th>3</th>\n",
       "      <td>(4450.0, 5766.667]</td>\n",
       "      <td>111706</td>\n",
       "      <td>0.885736</td>\n",
       "      <td>0.062455</td>\n",
       "      <td>98942.0</td>\n",
       "      <td>12764.0</td>\n",
       "      <td>0.063746</td>\n",
       "      <td>0.053982</td>\n",
       "      <td>0.166250</td>\n",
       "      <td>0.001981</td>\n",
       "      <td>0.019725</td>\n",
       "      <td>0.031895</td>\n",
       "    </tr>\n",
       "    <tr>\n",
       "      <th>4</th>\n",
       "      <td>(5766.667, 7083.333]</td>\n",
       "      <td>119687</td>\n",
       "      <td>0.887030</td>\n",
       "      <td>0.066917</td>\n",
       "      <td>106166.0</td>\n",
       "      <td>13521.0</td>\n",
       "      <td>0.068400</td>\n",
       "      <td>0.057184</td>\n",
       "      <td>0.179105</td>\n",
       "      <td>0.001295</td>\n",
       "      <td>0.012855</td>\n",
       "      <td>0.031895</td>\n",
       "    </tr>\n",
       "    <tr>\n",
       "      <th>5</th>\n",
       "      <td>(7083.333, 8400.0]</td>\n",
       "      <td>107454</td>\n",
       "      <td>0.873453</td>\n",
       "      <td>0.060078</td>\n",
       "      <td>93856.0</td>\n",
       "      <td>13598.0</td>\n",
       "      <td>0.060469</td>\n",
       "      <td>0.057509</td>\n",
       "      <td>0.050184</td>\n",
       "      <td>0.013578</td>\n",
       "      <td>0.128921</td>\n",
       "      <td>0.031895</td>\n",
       "    </tr>\n",
       "    <tr>\n",
       "      <th>6</th>\n",
       "      <td>(8400.0, 9716.667]</td>\n",
       "      <td>60820</td>\n",
       "      <td>0.871868</td>\n",
       "      <td>0.034005</td>\n",
       "      <td>53027.0</td>\n",
       "      <td>7793.0</td>\n",
       "      <td>0.034164</td>\n",
       "      <td>0.032958</td>\n",
       "      <td>0.035921</td>\n",
       "      <td>0.001585</td>\n",
       "      <td>0.014264</td>\n",
       "      <td>0.031895</td>\n",
       "    </tr>\n",
       "    <tr>\n",
       "      <th>7</th>\n",
       "      <td>(9716.667, 11033.333]</td>\n",
       "      <td>200095</td>\n",
       "      <td>0.878378</td>\n",
       "      <td>0.111873</td>\n",
       "      <td>175759.0</td>\n",
       "      <td>24336.0</td>\n",
       "      <td>0.113237</td>\n",
       "      <td>0.102923</td>\n",
       "      <td>0.095502</td>\n",
       "      <td>0.006510</td>\n",
       "      <td>0.059582</td>\n",
       "      <td>0.031895</td>\n",
       "    </tr>\n",
       "    <tr>\n",
       "      <th>8</th>\n",
       "      <td>(11033.333, 12350.0]</td>\n",
       "      <td>123226</td>\n",
       "      <td>0.856597</td>\n",
       "      <td>0.068896</td>\n",
       "      <td>105555.0</td>\n",
       "      <td>17671.0</td>\n",
       "      <td>0.068006</td>\n",
       "      <td>0.074735</td>\n",
       "      <td>-0.094348</td>\n",
       "      <td>0.021781</td>\n",
       "      <td>0.189850</td>\n",
       "      <td>0.031895</td>\n",
       "    </tr>\n",
       "    <tr>\n",
       "      <th>9</th>\n",
       "      <td>(12350.0, 13666.667]</td>\n",
       "      <td>46806</td>\n",
       "      <td>0.857454</td>\n",
       "      <td>0.026169</td>\n",
       "      <td>40134.0</td>\n",
       "      <td>6672.0</td>\n",
       "      <td>0.025857</td>\n",
       "      <td>0.028218</td>\n",
       "      <td>-0.087351</td>\n",
       "      <td>0.000857</td>\n",
       "      <td>0.006997</td>\n",
       "      <td>0.031895</td>\n",
       "    </tr>\n",
       "    <tr>\n",
       "      <th>10</th>\n",
       "      <td>(13666.667, 14983.333]</td>\n",
       "      <td>53261</td>\n",
       "      <td>0.840183</td>\n",
       "      <td>0.029778</td>\n",
       "      <td>44749.0</td>\n",
       "      <td>8512.0</td>\n",
       "      <td>0.028831</td>\n",
       "      <td>0.035999</td>\n",
       "      <td>-0.222063</td>\n",
       "      <td>0.017271</td>\n",
       "      <td>0.134712</td>\n",
       "      <td>0.031895</td>\n",
       "    </tr>\n",
       "    <tr>\n",
       "      <th>11</th>\n",
       "      <td>(14983.333, 16300.0]</td>\n",
       "      <td>168635</td>\n",
       "      <td>0.864477</td>\n",
       "      <td>0.094284</td>\n",
       "      <td>145781.0</td>\n",
       "      <td>22854.0</td>\n",
       "      <td>0.093923</td>\n",
       "      <td>0.096655</td>\n",
       "      <td>-0.028675</td>\n",
       "      <td>0.024293</td>\n",
       "      <td>0.193387</td>\n",
       "      <td>0.031895</td>\n",
       "    </tr>\n",
       "    <tr>\n",
       "      <th>12</th>\n",
       "      <td>(16300.0, 17616.667]</td>\n",
       "      <td>35017</td>\n",
       "      <td>0.842791</td>\n",
       "      <td>0.019578</td>\n",
       "      <td>29512.0</td>\n",
       "      <td>5505.0</td>\n",
       "      <td>0.019014</td>\n",
       "      <td>0.023282</td>\n",
       "      <td>-0.202515</td>\n",
       "      <td>0.021686</td>\n",
       "      <td>0.173839</td>\n",
       "      <td>0.031895</td>\n",
       "    </tr>\n",
       "    <tr>\n",
       "      <th>13</th>\n",
       "      <td>(17616.667, 18933.333]</td>\n",
       "      <td>53526</td>\n",
       "      <td>0.839031</td>\n",
       "      <td>0.029926</td>\n",
       "      <td>44910.0</td>\n",
       "      <td>8616.0</td>\n",
       "      <td>0.028934</td>\n",
       "      <td>0.036439</td>\n",
       "      <td>-0.230615</td>\n",
       "      <td>0.003759</td>\n",
       "      <td>0.028101</td>\n",
       "      <td>0.031895</td>\n",
       "    </tr>\n",
       "    <tr>\n",
       "      <th>14</th>\n",
       "      <td>(18933.333, 20250.0]</td>\n",
       "      <td>130462</td>\n",
       "      <td>0.860810</td>\n",
       "      <td>0.072941</td>\n",
       "      <td>112303.0</td>\n",
       "      <td>18159.0</td>\n",
       "      <td>0.072354</td>\n",
       "      <td>0.076799</td>\n",
       "      <td>-0.059621</td>\n",
       "      <td>0.021779</td>\n",
       "      <td>0.170995</td>\n",
       "      <td>0.031895</td>\n",
       "    </tr>\n",
       "    <tr>\n",
       "      <th>15</th>\n",
       "      <td>(20250.0, 21566.667]</td>\n",
       "      <td>33571</td>\n",
       "      <td>0.836317</td>\n",
       "      <td>0.018770</td>\n",
       "      <td>28076.0</td>\n",
       "      <td>5495.0</td>\n",
       "      <td>0.018089</td>\n",
       "      <td>0.023240</td>\n",
       "      <td>-0.250578</td>\n",
       "      <td>0.024493</td>\n",
       "      <td>0.190958</td>\n",
       "      <td>0.031895</td>\n",
       "    </tr>\n",
       "    <tr>\n",
       "      <th>16</th>\n",
       "      <td>(21566.667, 22883.333]</td>\n",
       "      <td>25487</td>\n",
       "      <td>0.842547</td>\n",
       "      <td>0.014250</td>\n",
       "      <td>21474.0</td>\n",
       "      <td>4013.0</td>\n",
       "      <td>0.013835</td>\n",
       "      <td>0.016972</td>\n",
       "      <td>-0.204351</td>\n",
       "      <td>0.006230</td>\n",
       "      <td>0.046227</td>\n",
       "      <td>0.031895</td>\n",
       "    </tr>\n",
       "    <tr>\n",
       "      <th>17</th>\n",
       "      <td>(22883.333, 24200.0]</td>\n",
       "      <td>58306</td>\n",
       "      <td>0.850530</td>\n",
       "      <td>0.032599</td>\n",
       "      <td>49591.0</td>\n",
       "      <td>8715.0</td>\n",
       "      <td>0.031950</td>\n",
       "      <td>0.036858</td>\n",
       "      <td>-0.142891</td>\n",
       "      <td>0.007983</td>\n",
       "      <td>0.061460</td>\n",
       "      <td>0.031895</td>\n",
       "    </tr>\n",
       "    <tr>\n",
       "      <th>18</th>\n",
       "      <td>(24200.0, 25516.667]</td>\n",
       "      <td>64158</td>\n",
       "      <td>0.864771</td>\n",
       "      <td>0.035871</td>\n",
       "      <td>55482.0</td>\n",
       "      <td>8676.0</td>\n",
       "      <td>0.035746</td>\n",
       "      <td>0.036693</td>\n",
       "      <td>-0.026157</td>\n",
       "      <td>0.014241</td>\n",
       "      <td>0.116734</td>\n",
       "      <td>0.031895</td>\n",
       "    </tr>\n",
       "    <tr>\n",
       "      <th>19</th>\n",
       "      <td>(25516.667, 26833.333]</td>\n",
       "      <td>13013</td>\n",
       "      <td>0.846769</td>\n",
       "      <td>0.007276</td>\n",
       "      <td>11019.0</td>\n",
       "      <td>1994.0</td>\n",
       "      <td>0.007099</td>\n",
       "      <td>0.008433</td>\n",
       "      <td>-0.172176</td>\n",
       "      <td>0.018003</td>\n",
       "      <td>0.146020</td>\n",
       "      <td>0.031895</td>\n",
       "    </tr>\n",
       "    <tr>\n",
       "      <th>20</th>\n",
       "      <td>(26833.333, 28150.0]</td>\n",
       "      <td>34533</td>\n",
       "      <td>0.858338</td>\n",
       "      <td>0.019307</td>\n",
       "      <td>29641.0</td>\n",
       "      <td>4892.0</td>\n",
       "      <td>0.019097</td>\n",
       "      <td>0.020689</td>\n",
       "      <td>-0.080097</td>\n",
       "      <td>0.011570</td>\n",
       "      <td>0.092079</td>\n",
       "      <td>0.031895</td>\n",
       "    </tr>\n",
       "    <tr>\n",
       "      <th>21</th>\n",
       "      <td>(28150.0, 29466.667]</td>\n",
       "      <td>8409</td>\n",
       "      <td>0.822690</td>\n",
       "      <td>0.004701</td>\n",
       "      <td>6918.0</td>\n",
       "      <td>1491.0</td>\n",
       "      <td>0.004457</td>\n",
       "      <td>0.006306</td>\n",
       "      <td>-0.346975</td>\n",
       "      <td>0.035648</td>\n",
       "      <td>0.266878</td>\n",
       "      <td>0.031895</td>\n",
       "    </tr>\n",
       "    <tr>\n",
       "      <th>22</th>\n",
       "      <td>(29466.667, 30783.333]</td>\n",
       "      <td>55339</td>\n",
       "      <td>0.862484</td>\n",
       "      <td>0.030940</td>\n",
       "      <td>47729.0</td>\n",
       "      <td>7610.0</td>\n",
       "      <td>0.030751</td>\n",
       "      <td>0.032185</td>\n",
       "      <td>-0.045579</td>\n",
       "      <td>0.039794</td>\n",
       "      <td>0.301396</td>\n",
       "      <td>0.031895</td>\n",
       "    </tr>\n",
       "    <tr>\n",
       "      <th>23</th>\n",
       "      <td>(30783.333, 32100.0]</td>\n",
       "      <td>17816</td>\n",
       "      <td>0.866075</td>\n",
       "      <td>0.009961</td>\n",
       "      <td>15430.0</td>\n",
       "      <td>2386.0</td>\n",
       "      <td>0.009941</td>\n",
       "      <td>0.010091</td>\n",
       "      <td>-0.014959</td>\n",
       "      <td>0.003591</td>\n",
       "      <td>0.030619</td>\n",
       "      <td>0.031895</td>\n",
       "    </tr>\n",
       "    <tr>\n",
       "      <th>24</th>\n",
       "      <td>(32100.0, 33416.667]</td>\n",
       "      <td>6104</td>\n",
       "      <td>0.839450</td>\n",
       "      <td>0.003413</td>\n",
       "      <td>5124.0</td>\n",
       "      <td>980.0</td>\n",
       "      <td>0.003301</td>\n",
       "      <td>0.004145</td>\n",
       "      <td>-0.227517</td>\n",
       "      <td>0.026626</td>\n",
       "      <td>0.212557</td>\n",
       "      <td>0.031895</td>\n",
       "    </tr>\n",
       "    <tr>\n",
       "      <th>25</th>\n",
       "      <td>(33416.667, 34733.333]</td>\n",
       "      <td>5838</td>\n",
       "      <td>0.838472</td>\n",
       "      <td>0.003264</td>\n",
       "      <td>4895.0</td>\n",
       "      <td>943.0</td>\n",
       "      <td>0.003154</td>\n",
       "      <td>0.003988</td>\n",
       "      <td>-0.234752</td>\n",
       "      <td>0.000977</td>\n",
       "      <td>0.007235</td>\n",
       "      <td>0.031895</td>\n",
       "    </tr>\n",
       "    <tr>\n",
       "      <th>26</th>\n",
       "      <td>(34733.333, 36050.0]</td>\n",
       "      <td>73410</td>\n",
       "      <td>0.842596</td>\n",
       "      <td>0.041044</td>\n",
       "      <td>61855.0</td>\n",
       "      <td>11555.0</td>\n",
       "      <td>0.039852</td>\n",
       "      <td>0.048869</td>\n",
       "      <td>-0.203980</td>\n",
       "      <td>0.004124</td>\n",
       "      <td>0.030771</td>\n",
       "      <td>0.031895</td>\n",
       "    </tr>\n",
       "    <tr>\n",
       "      <th>27</th>\n",
       "      <td>(36050.0, 37366.667]</td>\n",
       "      <td>1645</td>\n",
       "      <td>0.953191</td>\n",
       "      <td>0.000920</td>\n",
       "      <td>1568.0</td>\n",
       "      <td>77.0</td>\n",
       "      <td>0.001010</td>\n",
       "      <td>0.000326</td>\n",
       "      <td>1.132096</td>\n",
       "      <td>0.110595</td>\n",
       "      <td>1.336076</td>\n",
       "      <td>0.031895</td>\n",
       "    </tr>\n",
       "    <tr>\n",
       "      <th>28</th>\n",
       "      <td>(37366.667, 38683.333]</td>\n",
       "      <td>2036</td>\n",
       "      <td>0.945972</td>\n",
       "      <td>0.001138</td>\n",
       "      <td>1926.0</td>\n",
       "      <td>110.0</td>\n",
       "      <td>0.001241</td>\n",
       "      <td>0.000465</td>\n",
       "      <td>0.981065</td>\n",
       "      <td>0.007219</td>\n",
       "      <td>0.151031</td>\n",
       "      <td>0.031895</td>\n",
       "    </tr>\n",
       "    <tr>\n",
       "      <th>29</th>\n",
       "      <td>(38683.333, 40000.0]</td>\n",
       "      <td>33604</td>\n",
       "      <td>0.937180</td>\n",
       "      <td>0.018788</td>\n",
       "      <td>31493.0</td>\n",
       "      <td>2111.0</td>\n",
       "      <td>0.020290</td>\n",
       "      <td>0.008928</td>\n",
       "      <td>0.820949</td>\n",
       "      <td>0.008792</td>\n",
       "      <td>0.160117</td>\n",
       "      <td>0.031895</td>\n",
       "    </tr>\n",
       "  </tbody>\n",
       "</table>\n",
       "</div>"
      ],
      "text/plain": [
       "          loan_amnt_factor   n_obs  prop_good  prop_n_obs    n_good    n_bad  \\\n",
       "0        (460.5, 1816.667]   22280   0.909246    0.012457   20258.0   2022.0   \n",
       "1     (1816.667, 3133.333]   61094   0.893590    0.034158   54593.0   6501.0   \n",
       "2       (3133.333, 4450.0]   61247   0.887717    0.034243   54370.0   6877.0   \n",
       "3       (4450.0, 5766.667]  111706   0.885736    0.062455   98942.0  12764.0   \n",
       "4     (5766.667, 7083.333]  119687   0.887030    0.066917  106166.0  13521.0   \n",
       "5       (7083.333, 8400.0]  107454   0.873453    0.060078   93856.0  13598.0   \n",
       "6       (8400.0, 9716.667]   60820   0.871868    0.034005   53027.0   7793.0   \n",
       "7    (9716.667, 11033.333]  200095   0.878378    0.111873  175759.0  24336.0   \n",
       "8     (11033.333, 12350.0]  123226   0.856597    0.068896  105555.0  17671.0   \n",
       "9     (12350.0, 13666.667]   46806   0.857454    0.026169   40134.0   6672.0   \n",
       "10  (13666.667, 14983.333]   53261   0.840183    0.029778   44749.0   8512.0   \n",
       "11    (14983.333, 16300.0]  168635   0.864477    0.094284  145781.0  22854.0   \n",
       "12    (16300.0, 17616.667]   35017   0.842791    0.019578   29512.0   5505.0   \n",
       "13  (17616.667, 18933.333]   53526   0.839031    0.029926   44910.0   8616.0   \n",
       "14    (18933.333, 20250.0]  130462   0.860810    0.072941  112303.0  18159.0   \n",
       "15    (20250.0, 21566.667]   33571   0.836317    0.018770   28076.0   5495.0   \n",
       "16  (21566.667, 22883.333]   25487   0.842547    0.014250   21474.0   4013.0   \n",
       "17    (22883.333, 24200.0]   58306   0.850530    0.032599   49591.0   8715.0   \n",
       "18    (24200.0, 25516.667]   64158   0.864771    0.035871   55482.0   8676.0   \n",
       "19  (25516.667, 26833.333]   13013   0.846769    0.007276   11019.0   1994.0   \n",
       "20    (26833.333, 28150.0]   34533   0.858338    0.019307   29641.0   4892.0   \n",
       "21    (28150.0, 29466.667]    8409   0.822690    0.004701    6918.0   1491.0   \n",
       "22  (29466.667, 30783.333]   55339   0.862484    0.030940   47729.0   7610.0   \n",
       "23    (30783.333, 32100.0]   17816   0.866075    0.009961   15430.0   2386.0   \n",
       "24    (32100.0, 33416.667]    6104   0.839450    0.003413    5124.0    980.0   \n",
       "25  (33416.667, 34733.333]    5838   0.838472    0.003264    4895.0    943.0   \n",
       "26    (34733.333, 36050.0]   73410   0.842596    0.041044   61855.0  11555.0   \n",
       "27    (36050.0, 37366.667]    1645   0.953191    0.000920    1568.0     77.0   \n",
       "28  (37366.667, 38683.333]    2036   0.945972    0.001138    1926.0    110.0   \n",
       "29    (38683.333, 40000.0]   33604   0.937180    0.018788   31493.0   2111.0   \n",
       "\n",
       "    prop_n_good  prop_n_bad       WoE  diff_prop_good  diff_WoE        IV  \n",
       "0      0.013052    0.008552  0.422808             NaN       NaN  0.031895  \n",
       "1      0.035173    0.027494  0.246295        0.015656  0.176513  0.031895  \n",
       "2      0.035029    0.029084  0.185975        0.005873  0.060320  0.031895  \n",
       "3      0.063746    0.053982  0.166250        0.001981  0.019725  0.031895  \n",
       "4      0.068400    0.057184  0.179105        0.001295  0.012855  0.031895  \n",
       "5      0.060469    0.057509  0.050184        0.013578  0.128921  0.031895  \n",
       "6      0.034164    0.032958  0.035921        0.001585  0.014264  0.031895  \n",
       "7      0.113237    0.102923  0.095502        0.006510  0.059582  0.031895  \n",
       "8      0.068006    0.074735 -0.094348        0.021781  0.189850  0.031895  \n",
       "9      0.025857    0.028218 -0.087351        0.000857  0.006997  0.031895  \n",
       "10     0.028831    0.035999 -0.222063        0.017271  0.134712  0.031895  \n",
       "11     0.093923    0.096655 -0.028675        0.024293  0.193387  0.031895  \n",
       "12     0.019014    0.023282 -0.202515        0.021686  0.173839  0.031895  \n",
       "13     0.028934    0.036439 -0.230615        0.003759  0.028101  0.031895  \n",
       "14     0.072354    0.076799 -0.059621        0.021779  0.170995  0.031895  \n",
       "15     0.018089    0.023240 -0.250578        0.024493  0.190958  0.031895  \n",
       "16     0.013835    0.016972 -0.204351        0.006230  0.046227  0.031895  \n",
       "17     0.031950    0.036858 -0.142891        0.007983  0.061460  0.031895  \n",
       "18     0.035746    0.036693 -0.026157        0.014241  0.116734  0.031895  \n",
       "19     0.007099    0.008433 -0.172176        0.018003  0.146020  0.031895  \n",
       "20     0.019097    0.020689 -0.080097        0.011570  0.092079  0.031895  \n",
       "21     0.004457    0.006306 -0.346975        0.035648  0.266878  0.031895  \n",
       "22     0.030751    0.032185 -0.045579        0.039794  0.301396  0.031895  \n",
       "23     0.009941    0.010091 -0.014959        0.003591  0.030619  0.031895  \n",
       "24     0.003301    0.004145 -0.227517        0.026626  0.212557  0.031895  \n",
       "25     0.003154    0.003988 -0.234752        0.000977  0.007235  0.031895  \n",
       "26     0.039852    0.048869 -0.203980        0.004124  0.030771  0.031895  \n",
       "27     0.001010    0.000326  1.132096        0.110595  1.336076  0.031895  \n",
       "28     0.001241    0.000465  0.981065        0.007219  0.151031  0.031895  \n",
       "29     0.020290    0.008928  0.820949        0.008792  0.160117  0.031895  "
      ]
     },
     "execution_count": 30,
     "metadata": {},
     "output_type": "execute_result"
    }
   ],
   "source": [
    "df_temp = woe_ordered_continuous(df_inputs_prepr,'loan_amnt_factor',df_targets_prepr)\n",
    "df_temp"
   ]
  },
  {
   "cell_type": "code",
   "execution_count": 31,
   "metadata": {},
   "outputs": [],
   "source": [
    "def plot_by_woe(df_WoE, rotation_of_x_axis_label=0):\n",
    "    x = np.array(df_WoE.iloc[:,0].apply(str))\n",
    "    y = df_WoE['WoE']\n",
    "    plt.figure(figsize=(18,6))\n",
    "    plt.plot(x,y,marker='o', linestyle='--',color='k')\n",
    "    plt.xlabel = (df_WoE.columns[0])\n",
    "    plt.ylabel = ('Weight of Evidence')\n",
    "    plt.title(str('Weight of Evidence by '+ df_WoE.columns[0]))\n",
    "    plt.xticks(rotation=rotation_of_x_axis_label)"
   ]
  },
  {
   "cell_type": "code",
   "execution_count": 32,
   "metadata": {},
   "outputs": [
    {
     "data": {
      "image/png": "[encoded data removed]",
      "text/plain": [
       "<Figure size 1296x432 with 1 Axes>"
      ]
     },
     "metadata": {
      "needs_background": "light"
     },
     "output_type": "display_data"
    }
   ],
   "source": [
    "plot_by_woe(df_temp, 90)"
   ]
  },
  {
   "cell_type": "code",
   "execution_count": 33,
   "metadata": {},
   "outputs": [],
   "source": [
    "df_inputs_prepr['loan_amnt_factor:1'] = np.where((df_inputs_prepr['loan_amnt_factor'].isin(range(1817))),1,0)\n",
    "df_inputs_prepr['loan_amnt_factor:2'] = np.where((df_inputs_prepr['loan_amnt_factor'].isin(range(1817,7084))),1,0)\n",
    "df_inputs_prepr['loan_amnt_factor:3'] = np.where((df_inputs_prepr['loan_amnt_factor'].isin(range(7084,11034))),1,0)\n",
    "df_inputs_prepr['loan_amnt_factor:4'] = np.where((df_inputs_prepr['loan_amnt_factor'].isin(range(11034,28150))),1,0)\n",
    "df_inputs_prepr['loan_amnt_factor:5'] = np.where((df_inputs_prepr['loan_amnt_factor'].isin(range(28150,28160))),1,0)\n",
    "df_inputs_prepr['loan_amnt_factor:6'] = np.where((df_inputs_prepr['loan_amnt_factor'].isin(range(28160,32100))),1,0)\n",
    "df_inputs_prepr['loan_amnt_factor:7'] = np.where((df_inputs_prepr['loan_amnt_factor'].isin(range(32100,36050))),1,0)\n",
    "df_inputs_prepr['loan_amnt_factor:8'] = np.where((df_inputs_prepr['loan_amnt_factor'].isin(range(36050,int(df_inputs_prepr['loan_amnt'].max())))),1,0)"
   ]
  },
  {
   "cell_type": "code",
   "execution_count": 34,
   "metadata": {},
   "outputs": [
    {
     "data": {
      "text/html": [
       "<div>\n",
       "<style scoped>\n",
       "    .dataframe tbody tr th:only-of-type {\n",
       "        vertical-align: middle;\n",
       "    }\n",
       "\n",
       "    .dataframe tbody tr th {\n",
       "        vertical-align: top;\n",
       "    }\n",
       "\n",
       "    .dataframe thead th {\n",
       "        text-align: right;\n",
       "    }\n",
       "</style>\n",
       "<table border=\"1\" class=\"dataframe\">\n",
       "  <thead>\n",
       "    <tr style=\"text-align: right;\">\n",
       "      <th></th>\n",
       "      <th>loan_amnt</th>\n",
       "      <th>annual_inc</th>\n",
       "      <th>int_rate_factor</th>\n",
       "      <th>revol_util_factor</th>\n",
       "      <th>grade:A</th>\n",
       "      <th>grade:B</th>\n",
       "      <th>grade:C</th>\n",
       "      <th>grade:D</th>\n",
       "      <th>grade:E</th>\n",
       "      <th>grade:F</th>\n",
       "      <th>...</th>\n",
       "      <th>term_int:60.0</th>\n",
       "      <th>loan_amnt_factor</th>\n",
       "      <th>loan_amnt_factor:1</th>\n",
       "      <th>loan_amnt_factor:2</th>\n",
       "      <th>loan_amnt_factor:3</th>\n",
       "      <th>loan_amnt_factor:4</th>\n",
       "      <th>loan_amnt_factor:5</th>\n",
       "      <th>loan_amnt_factor:6</th>\n",
       "      <th>loan_amnt_factor:7</th>\n",
       "      <th>loan_amnt_factor:8</th>\n",
       "    </tr>\n",
       "  </thead>\n",
       "  <tbody>\n",
       "    <tr>\n",
       "      <th>1378684</th>\n",
       "      <td>32000.0</td>\n",
       "      <td>94000.0</td>\n",
       "      <td>15.99</td>\n",
       "      <td>75.8</td>\n",
       "      <td>0</td>\n",
       "      <td>0</td>\n",
       "      <td>1</td>\n",
       "      <td>0</td>\n",
       "      <td>0</td>\n",
       "      <td>0</td>\n",
       "      <td>...</td>\n",
       "      <td>1</td>\n",
       "      <td>(30783.333, 32100.0]</td>\n",
       "      <td>0</td>\n",
       "      <td>0</td>\n",
       "      <td>0</td>\n",
       "      <td>0</td>\n",
       "      <td>0</td>\n",
       "      <td>1</td>\n",
       "      <td>1</td>\n",
       "      <td>0</td>\n",
       "    </tr>\n",
       "    <tr>\n",
       "      <th>1047648</th>\n",
       "      <td>14400.0</td>\n",
       "      <td>60000.0</td>\n",
       "      <td>11.99</td>\n",
       "      <td>12.0</td>\n",
       "      <td>0</td>\n",
       "      <td>0</td>\n",
       "      <td>1</td>\n",
       "      <td>0</td>\n",
       "      <td>0</td>\n",
       "      <td>0</td>\n",
       "      <td>...</td>\n",
       "      <td>1</td>\n",
       "      <td>(13666.667, 14983.333]</td>\n",
       "      <td>0</td>\n",
       "      <td>0</td>\n",
       "      <td>0</td>\n",
       "      <td>1</td>\n",
       "      <td>0</td>\n",
       "      <td>0</td>\n",
       "      <td>0</td>\n",
       "      <td>0</td>\n",
       "    </tr>\n",
       "  </tbody>\n",
       "</table>\n",
       "<p>2 rows × 53 columns</p>\n",
       "</div>"
      ],
      "text/plain": [
       "         loan_amnt  annual_inc  int_rate_factor  revol_util_factor  grade:A  \\\n",
       "1378684    32000.0     94000.0            15.99               75.8        0   \n",
       "1047648    14400.0     60000.0            11.99               12.0        0   \n",
       "\n",
       "         grade:B  grade:C  grade:D  grade:E  grade:F         ...          \\\n",
       "1378684        0        1        0        0        0         ...           \n",
       "1047648        0        1        0        0        0         ...           \n",
       "\n",
       "         term_int:60.0        loan_amnt_factor  loan_amnt_factor:1  \\\n",
       "1378684              1    (30783.333, 32100.0]                   0   \n",
       "1047648              1  (13666.667, 14983.333]                   0   \n",
       "\n",
       "         loan_amnt_factor:2  loan_amnt_factor:3  loan_amnt_factor:4  \\\n",
       "1378684                   0                   0                   0   \n",
       "1047648                   0                   0                   1   \n",
       "\n",
       "         loan_amnt_factor:5  loan_amnt_factor:6  loan_amnt_factor:7  \\\n",
       "1378684                   0                   1                   1   \n",
       "1047648                   0                   0                   0   \n",
       "\n",
       "         loan_amnt_factor:8  \n",
       "1378684                   0  \n",
       "1047648                   0  \n",
       "\n",
       "[2 rows x 53 columns]"
      ]
     },
     "execution_count": 34,
     "metadata": {},
     "output_type": "execute_result"
    }
   ],
   "source": [
    "df_inputs_prepr.head(2)"
   ]
  },
  {
   "cell_type": "code",
   "execution_count": 35,
   "metadata": {},
   "outputs": [],
   "source": [
    "df_inputs_prepr = df_inputs_prepr.drop(['loan_amnt', 'loan_amnt_factor'], axis=1)"
   ]
  },
  {
   "cell_type": "code",
   "execution_count": 36,
   "metadata": {},
   "outputs": [],
   "source": [
    "df_inputs_prepr['annual_inc_factor'] = pd.cut(df_inputs_prepr['annual_inc'],100)"
   ]
  },
  {
   "cell_type": "code",
   "execution_count": 37,
   "metadata": {},
   "outputs": [],
   "source": [
    "df_inputs_prepr_temp = df_inputs_prepr.loc[df_inputs_prepr['annual_inc']<140000,:]"
   ]
  },
  {
   "cell_type": "code",
   "execution_count": 38,
   "metadata": {},
   "outputs": [
    {
     "name": "stderr",
     "output_type": "stream",
     "text": [
      "/Users/fayadabbasi/anaconda3/lib/python3.7/site-packages/ipykernel_launcher.py:1: SettingWithCopyWarning: \n",
      "A value is trying to be set on a copy of a slice from a DataFrame.\n",
      "Try using .loc[row_indexer,col_indexer] = value instead\n",
      "\n",
      "See the caveats in the documentation: http://pandas.pydata.org/pandas-docs/stable/indexing.html#indexing-view-versus-copy\n",
      "  \"\"\"Entry point for launching an IPython kernel.\n"
     ]
    }
   ],
   "source": [
    "df_inputs_prepr_temp['annual_inc_factor'] = pd.cut(df_inputs_prepr_temp['annual_inc'],20)"
   ]
  },
  {
   "cell_type": "code",
   "execution_count": 39,
   "metadata": {},
   "outputs": [
    {
     "data": {
      "text/html": [
       "<div>\n",
       "<style scoped>\n",
       "    .dataframe tbody tr th:only-of-type {\n",
       "        vertical-align: middle;\n",
       "    }\n",
       "\n",
       "    .dataframe tbody tr th {\n",
       "        vertical-align: top;\n",
       "    }\n",
       "\n",
       "    .dataframe thead th {\n",
       "        text-align: right;\n",
       "    }\n",
       "</style>\n",
       "<table border=\"1\" class=\"dataframe\">\n",
       "  <thead>\n",
       "    <tr style=\"text-align: right;\">\n",
       "      <th></th>\n",
       "      <th>annual_inc_factor</th>\n",
       "      <th>n_obs</th>\n",
       "      <th>prop_good</th>\n",
       "      <th>prop_n_obs</th>\n",
       "      <th>n_good</th>\n",
       "      <th>n_bad</th>\n",
       "      <th>prop_n_good</th>\n",
       "      <th>prop_n_bad</th>\n",
       "      <th>WoE</th>\n",
       "      <th>diff_prop_good</th>\n",
       "      <th>diff_WoE</th>\n",
       "      <th>IV</th>\n",
       "    </tr>\n",
       "  </thead>\n",
       "  <tbody>\n",
       "    <tr>\n",
       "      <th>0</th>\n",
       "      <td>(-139.999, 6999.95]</td>\n",
       "      <td>2642</td>\n",
       "      <td>0.921650</td>\n",
       "      <td>0.001619</td>\n",
       "      <td>2435.0</td>\n",
       "      <td>207.0</td>\n",
       "      <td>0.001727</td>\n",
       "      <td>0.000933</td>\n",
       "      <td>0.615973</td>\n",
       "      <td>NaN</td>\n",
       "      <td>NaN</td>\n",
       "      <td>0.023823</td>\n",
       "    </tr>\n",
       "    <tr>\n",
       "      <th>1</th>\n",
       "      <td>(6999.95, 13999.9]</td>\n",
       "      <td>7808</td>\n",
       "      <td>0.846952</td>\n",
       "      <td>0.004785</td>\n",
       "      <td>6613.0</td>\n",
       "      <td>1195.0</td>\n",
       "      <td>0.004691</td>\n",
       "      <td>0.005385</td>\n",
       "      <td>-0.138119</td>\n",
       "      <td>0.074698</td>\n",
       "      <td>0.754092</td>\n",
       "      <td>0.023823</td>\n",
       "    </tr>\n",
       "    <tr>\n",
       "      <th>2</th>\n",
       "      <td>(13999.9, 20999.85]</td>\n",
       "      <td>25426</td>\n",
       "      <td>0.838708</td>\n",
       "      <td>0.015582</td>\n",
       "      <td>21325.0</td>\n",
       "      <td>4101.0</td>\n",
       "      <td>0.015126</td>\n",
       "      <td>0.018481</td>\n",
       "      <td>-0.200361</td>\n",
       "      <td>0.008243</td>\n",
       "      <td>0.062242</td>\n",
       "      <td>0.023823</td>\n",
       "    </tr>\n",
       "    <tr>\n",
       "      <th>3</th>\n",
       "      <td>(20999.85, 27999.8]</td>\n",
       "      <td>53860</td>\n",
       "      <td>0.837579</td>\n",
       "      <td>0.033007</td>\n",
       "      <td>45112.0</td>\n",
       "      <td>8748.0</td>\n",
       "      <td>0.031997</td>\n",
       "      <td>0.039423</td>\n",
       "      <td>-0.208687</td>\n",
       "      <td>0.001130</td>\n",
       "      <td>0.008326</td>\n",
       "      <td>0.023823</td>\n",
       "    </tr>\n",
       "    <tr>\n",
       "      <th>4</th>\n",
       "      <td>(27999.8, 34999.75]</td>\n",
       "      <td>93435</td>\n",
       "      <td>0.839086</td>\n",
       "      <td>0.057260</td>\n",
       "      <td>78400.0</td>\n",
       "      <td>15035.0</td>\n",
       "      <td>0.055608</td>\n",
       "      <td>0.067755</td>\n",
       "      <td>-0.197567</td>\n",
       "      <td>0.001507</td>\n",
       "      <td>0.011120</td>\n",
       "      <td>0.023823</td>\n",
       "    </tr>\n",
       "    <tr>\n",
       "      <th>5</th>\n",
       "      <td>(34999.75, 41999.7]</td>\n",
       "      <td>154114</td>\n",
       "      <td>0.845186</td>\n",
       "      <td>0.094446</td>\n",
       "      <td>130255.0</td>\n",
       "      <td>23859.0</td>\n",
       "      <td>0.092389</td>\n",
       "      <td>0.107520</td>\n",
       "      <td>-0.151678</td>\n",
       "      <td>0.006100</td>\n",
       "      <td>0.045889</td>\n",
       "      <td>0.023823</td>\n",
       "    </tr>\n",
       "    <tr>\n",
       "      <th>6</th>\n",
       "      <td>(41999.7, 48999.65]</td>\n",
       "      <td>150516</td>\n",
       "      <td>0.848308</td>\n",
       "      <td>0.092241</td>\n",
       "      <td>127684.0</td>\n",
       "      <td>22832.0</td>\n",
       "      <td>0.090565</td>\n",
       "      <td>0.102892</td>\n",
       "      <td>-0.127615</td>\n",
       "      <td>0.003122</td>\n",
       "      <td>0.024063</td>\n",
       "      <td>0.023823</td>\n",
       "    </tr>\n",
       "    <tr>\n",
       "      <th>7</th>\n",
       "      <td>(48999.65, 55999.6]</td>\n",
       "      <td>187025</td>\n",
       "      <td>0.855688</td>\n",
       "      <td>0.114615</td>\n",
       "      <td>160035.0</td>\n",
       "      <td>26990.0</td>\n",
       "      <td>0.113511</td>\n",
       "      <td>0.121630</td>\n",
       "      <td>-0.069084</td>\n",
       "      <td>0.007379</td>\n",
       "      <td>0.058531</td>\n",
       "      <td>0.023823</td>\n",
       "    </tr>\n",
       "    <tr>\n",
       "      <th>8</th>\n",
       "      <td>(55999.6, 62999.55]</td>\n",
       "      <td>153143</td>\n",
       "      <td>0.858910</td>\n",
       "      <td>0.093851</td>\n",
       "      <td>131536.0</td>\n",
       "      <td>21607.0</td>\n",
       "      <td>0.093297</td>\n",
       "      <td>0.097372</td>\n",
       "      <td>-0.042747</td>\n",
       "      <td>0.003222</td>\n",
       "      <td>0.026337</td>\n",
       "      <td>0.023823</td>\n",
       "    </tr>\n",
       "    <tr>\n",
       "      <th>9</th>\n",
       "      <td>(62999.55, 69999.5]</td>\n",
       "      <td>120460</td>\n",
       "      <td>0.863980</td>\n",
       "      <td>0.073822</td>\n",
       "      <td>104075.0</td>\n",
       "      <td>16385.0</td>\n",
       "      <td>0.073819</td>\n",
       "      <td>0.073839</td>\n",
       "      <td>-0.000265</td>\n",
       "      <td>0.005070</td>\n",
       "      <td>0.042482</td>\n",
       "      <td>0.023823</td>\n",
       "    </tr>\n",
       "    <tr>\n",
       "      <th>10</th>\n",
       "      <td>(69999.5, 76999.45]</td>\n",
       "      <td>155474</td>\n",
       "      <td>0.869689</td>\n",
       "      <td>0.095280</td>\n",
       "      <td>135214.0</td>\n",
       "      <td>20260.0</td>\n",
       "      <td>0.095906</td>\n",
       "      <td>0.091302</td>\n",
       "      <td>0.049200</td>\n",
       "      <td>0.005709</td>\n",
       "      <td>0.049465</td>\n",
       "      <td>0.023823</td>\n",
       "    </tr>\n",
       "    <tr>\n",
       "      <th>11</th>\n",
       "      <td>(76999.45, 83999.4]</td>\n",
       "      <td>100914</td>\n",
       "      <td>0.873140</td>\n",
       "      <td>0.061844</td>\n",
       "      <td>88112.0</td>\n",
       "      <td>12802.0</td>\n",
       "      <td>0.062497</td>\n",
       "      <td>0.057692</td>\n",
       "      <td>0.079997</td>\n",
       "      <td>0.003451</td>\n",
       "      <td>0.030797</td>\n",
       "      <td>0.023823</td>\n",
       "    </tr>\n",
       "    <tr>\n",
       "      <th>12</th>\n",
       "      <td>(83999.4, 90999.35]</td>\n",
       "      <td>110067</td>\n",
       "      <td>0.877893</td>\n",
       "      <td>0.067453</td>\n",
       "      <td>96627.0</td>\n",
       "      <td>13440.0</td>\n",
       "      <td>0.068537</td>\n",
       "      <td>0.060567</td>\n",
       "      <td>0.123612</td>\n",
       "      <td>0.004753</td>\n",
       "      <td>0.043616</td>\n",
       "      <td>0.023823</td>\n",
       "    </tr>\n",
       "    <tr>\n",
       "      <th>13</th>\n",
       "      <td>(90999.35, 97999.3]</td>\n",
       "      <td>61501</td>\n",
       "      <td>0.884067</td>\n",
       "      <td>0.037690</td>\n",
       "      <td>54371.0</td>\n",
       "      <td>7130.0</td>\n",
       "      <td>0.038565</td>\n",
       "      <td>0.032131</td>\n",
       "      <td>0.182509</td>\n",
       "      <td>0.006174</td>\n",
       "      <td>0.058897</td>\n",
       "      <td>0.023823</td>\n",
       "    </tr>\n",
       "    <tr>\n",
       "      <th>14</th>\n",
       "      <td>(97999.3, 104999.25]</td>\n",
       "      <td>71983</td>\n",
       "      <td>0.886251</td>\n",
       "      <td>0.044114</td>\n",
       "      <td>63795.0</td>\n",
       "      <td>8188.0</td>\n",
       "      <td>0.045249</td>\n",
       "      <td>0.036899</td>\n",
       "      <td>0.203995</td>\n",
       "      <td>0.002184</td>\n",
       "      <td>0.021485</td>\n",
       "      <td>0.023823</td>\n",
       "    </tr>\n",
       "    <tr>\n",
       "      <th>15</th>\n",
       "      <td>(104999.25, 111999.2]</td>\n",
       "      <td>56995</td>\n",
       "      <td>0.892482</td>\n",
       "      <td>0.034928</td>\n",
       "      <td>50867.0</td>\n",
       "      <td>6128.0</td>\n",
       "      <td>0.036079</td>\n",
       "      <td>0.027616</td>\n",
       "      <td>0.267335</td>\n",
       "      <td>0.006231</td>\n",
       "      <td>0.063341</td>\n",
       "      <td>0.023823</td>\n",
       "    </tr>\n",
       "    <tr>\n",
       "      <th>16</th>\n",
       "      <td>(111999.2, 118999.15]</td>\n",
       "      <td>28744</td>\n",
       "      <td>0.900745</td>\n",
       "      <td>0.017615</td>\n",
       "      <td>25891.0</td>\n",
       "      <td>2853.0</td>\n",
       "      <td>0.018364</td>\n",
       "      <td>0.012857</td>\n",
       "      <td>0.356514</td>\n",
       "      <td>0.008263</td>\n",
       "      <td>0.089178</td>\n",
       "      <td>0.023823</td>\n",
       "    </tr>\n",
       "    <tr>\n",
       "      <th>17</th>\n",
       "      <td>(118999.15, 125999.1]</td>\n",
       "      <td>55863</td>\n",
       "      <td>0.890410</td>\n",
       "      <td>0.034235</td>\n",
       "      <td>49741.0</td>\n",
       "      <td>6122.0</td>\n",
       "      <td>0.035281</td>\n",
       "      <td>0.027589</td>\n",
       "      <td>0.245930</td>\n",
       "      <td>0.010334</td>\n",
       "      <td>0.110584</td>\n",
       "      <td>0.023823</td>\n",
       "    </tr>\n",
       "    <tr>\n",
       "      <th>18</th>\n",
       "      <td>(125999.1, 132999.05]</td>\n",
       "      <td>25677</td>\n",
       "      <td>0.901468</td>\n",
       "      <td>0.015736</td>\n",
       "      <td>23147.0</td>\n",
       "      <td>2530.0</td>\n",
       "      <td>0.016418</td>\n",
       "      <td>0.011401</td>\n",
       "      <td>0.364635</td>\n",
       "      <td>0.011058</td>\n",
       "      <td>0.118705</td>\n",
       "      <td>0.023823</td>\n",
       "    </tr>\n",
       "    <tr>\n",
       "      <th>19</th>\n",
       "      <td>(132999.05, 139999.0]</td>\n",
       "      <td>16116</td>\n",
       "      <td>0.907545</td>\n",
       "      <td>0.009876</td>\n",
       "      <td>14626.0</td>\n",
       "      <td>1490.0</td>\n",
       "      <td>0.010374</td>\n",
       "      <td>0.006715</td>\n",
       "      <td>0.435014</td>\n",
       "      <td>0.006077</td>\n",
       "      <td>0.070379</td>\n",
       "      <td>0.023823</td>\n",
       "    </tr>\n",
       "  </tbody>\n",
       "</table>\n",
       "</div>"
      ],
      "text/plain": [
       "        annual_inc_factor   n_obs  prop_good  prop_n_obs    n_good    n_bad  \\\n",
       "0     (-139.999, 6999.95]    2642   0.921650    0.001619    2435.0    207.0   \n",
       "1      (6999.95, 13999.9]    7808   0.846952    0.004785    6613.0   1195.0   \n",
       "2     (13999.9, 20999.85]   25426   0.838708    0.015582   21325.0   4101.0   \n",
       "3     (20999.85, 27999.8]   53860   0.837579    0.033007   45112.0   8748.0   \n",
       "4     (27999.8, 34999.75]   93435   0.839086    0.057260   78400.0  15035.0   \n",
       "5     (34999.75, 41999.7]  154114   0.845186    0.094446  130255.0  23859.0   \n",
       "6     (41999.7, 48999.65]  150516   0.848308    0.092241  127684.0  22832.0   \n",
       "7     (48999.65, 55999.6]  187025   0.855688    0.114615  160035.0  26990.0   \n",
       "8     (55999.6, 62999.55]  153143   0.858910    0.093851  131536.0  21607.0   \n",
       "9     (62999.55, 69999.5]  120460   0.863980    0.073822  104075.0  16385.0   \n",
       "10    (69999.5, 76999.45]  155474   0.869689    0.095280  135214.0  20260.0   \n",
       "11    (76999.45, 83999.4]  100914   0.873140    0.061844   88112.0  12802.0   \n",
       "12    (83999.4, 90999.35]  110067   0.877893    0.067453   96627.0  13440.0   \n",
       "13    (90999.35, 97999.3]   61501   0.884067    0.037690   54371.0   7130.0   \n",
       "14   (97999.3, 104999.25]   71983   0.886251    0.044114   63795.0   8188.0   \n",
       "15  (104999.25, 111999.2]   56995   0.892482    0.034928   50867.0   6128.0   \n",
       "16  (111999.2, 118999.15]   28744   0.900745    0.017615   25891.0   2853.0   \n",
       "17  (118999.15, 125999.1]   55863   0.890410    0.034235   49741.0   6122.0   \n",
       "18  (125999.1, 132999.05]   25677   0.901468    0.015736   23147.0   2530.0   \n",
       "19  (132999.05, 139999.0]   16116   0.907545    0.009876   14626.0   1490.0   \n",
       "\n",
       "    prop_n_good  prop_n_bad       WoE  diff_prop_good  diff_WoE        IV  \n",
       "0      0.001727    0.000933  0.615973             NaN       NaN  0.023823  \n",
       "1      0.004691    0.005385 -0.138119        0.074698  0.754092  0.023823  \n",
       "2      0.015126    0.018481 -0.200361        0.008243  0.062242  0.023823  \n",
       "3      0.031997    0.039423 -0.208687        0.001130  0.008326  0.023823  \n",
       "4      0.055608    0.067755 -0.197567        0.001507  0.011120  0.023823  \n",
       "5      0.092389    0.107520 -0.151678        0.006100  0.045889  0.023823  \n",
       "6      0.090565    0.102892 -0.127615        0.003122  0.024063  0.023823  \n",
       "7      0.113511    0.121630 -0.069084        0.007379  0.058531  0.023823  \n",
       "8      0.093297    0.097372 -0.042747        0.003222  0.026337  0.023823  \n",
       "9      0.073819    0.073839 -0.000265        0.005070  0.042482  0.023823  \n",
       "10     0.095906    0.091302  0.049200        0.005709  0.049465  0.023823  \n",
       "11     0.062497    0.057692  0.079997        0.003451  0.030797  0.023823  \n",
       "12     0.068537    0.060567  0.123612        0.004753  0.043616  0.023823  \n",
       "13     0.038565    0.032131  0.182509        0.006174  0.058897  0.023823  \n",
       "14     0.045249    0.036899  0.203995        0.002184  0.021485  0.023823  \n",
       "15     0.036079    0.027616  0.267335        0.006231  0.063341  0.023823  \n",
       "16     0.018364    0.012857  0.356514        0.008263  0.089178  0.023823  \n",
       "17     0.035281    0.027589  0.245930        0.010334  0.110584  0.023823  \n",
       "18     0.016418    0.011401  0.364635        0.011058  0.118705  0.023823  \n",
       "19     0.010374    0.006715  0.435014        0.006077  0.070379  0.023823  "
      ]
     },
     "execution_count": 39,
     "metadata": {},
     "output_type": "execute_result"
    }
   ],
   "source": [
    "df_temp = woe_ordered_continuous(df_inputs_prepr_temp,'annual_inc_factor',df_targets_prepr[df_inputs_prepr_temp.index])\n",
    "df_temp"
   ]
  },
  {
   "cell_type": "code",
   "execution_count": 40,
   "metadata": {},
   "outputs": [
    {
     "data": {
      "image/png": "[encoded data removed]",
      "text/plain": [
       "<Figure size 1296x432 with 1 Axes>"
      ]
     },
     "metadata": {
      "needs_background": "light"
     },
     "output_type": "display_data"
    }
   ],
   "source": [
    "plot_by_woe(df_temp, 90)"
   ]
  },
  {
   "cell_type": "code",
   "execution_count": 41,
   "metadata": {},
   "outputs": [],
   "source": [
    "df_inputs_prepr['annual_inc_factor:1'] = np.where((df_inputs_prepr['annual_inc_factor'].isin(range(7000))),1,0)\n",
    "df_inputs_prepr['annual_inc_factor:2'] = np.where((df_inputs_prepr['annual_inc_factor'].isin(range(7000,42000))),1,0)\n",
    "df_inputs_prepr['annual_inc_factor:3'] = np.where((df_inputs_prepr['annual_inc_factor'].isin(range(42000,70000))),1,0)\n",
    "df_inputs_prepr['annual_inc_factor:4'] = np.where((df_inputs_prepr['annual_inc_factor'].isin(range(70000,100000))),1,0)\n",
    "df_inputs_prepr['annual_inc_factor:5'] = np.where((df_inputs_prepr['annual_inc_factor'].isin(range(100000,112000))),1,0)\n",
    "df_inputs_prepr['annual_inc_factor:6'] = np.where((df_inputs_prepr['annual_inc_factor'].isin(range(112000,126000))),1,0)\n",
    "df_inputs_prepr['annual_inc_factor:7'] = np.where((df_inputs_prepr['annual_inc_factor'].isin(range(126000,int(df_inputs_prepr['annual_inc'].max())))),1,0)"
   ]
  },
  {
   "cell_type": "code",
   "execution_count": 42,
   "metadata": {},
   "outputs": [],
   "source": [
    "df_inputs_prepr = df_inputs_prepr.drop(['annual_inc','annual_inc_factor'], axis=1)"
   ]
  },
  {
   "cell_type": "code",
   "execution_count": 43,
   "metadata": {},
   "outputs": [],
   "source": [
    "df_inputs_prepr['int_rate_factor_f'] = pd.cut(df_inputs_prepr['int_rate_factor'],10)"
   ]
  },
  {
   "cell_type": "code",
   "execution_count": 44,
   "metadata": {},
   "outputs": [
    {
     "data": {
      "text/html": [
       "<div>\n",
       "<style scoped>\n",
       "    .dataframe tbody tr th:only-of-type {\n",
       "        vertical-align: middle;\n",
       "    }\n",
       "\n",
       "    .dataframe tbody tr th {\n",
       "        vertical-align: top;\n",
       "    }\n",
       "\n",
       "    .dataframe thead th {\n",
       "        text-align: right;\n",
       "    }\n",
       "</style>\n",
       "<table border=\"1\" class=\"dataframe\">\n",
       "  <thead>\n",
       "    <tr style=\"text-align: right;\">\n",
       "      <th></th>\n",
       "      <th>int_rate_factor_f</th>\n",
       "      <th>n_obs</th>\n",
       "      <th>prop_good</th>\n",
       "      <th>prop_n_obs</th>\n",
       "      <th>n_good</th>\n",
       "      <th>n_bad</th>\n",
       "      <th>prop_n_good</th>\n",
       "      <th>prop_n_bad</th>\n",
       "      <th>WoE</th>\n",
       "      <th>diff_prop_good</th>\n",
       "      <th>diff_WoE</th>\n",
       "      <th>IV</th>\n",
       "    </tr>\n",
       "  </thead>\n",
       "  <tbody>\n",
       "    <tr>\n",
       "      <th>0</th>\n",
       "      <td>(5.284, 7.878]</td>\n",
       "      <td>249264</td>\n",
       "      <td>0.968567</td>\n",
       "      <td>0.139364</td>\n",
       "      <td>241429.0</td>\n",
       "      <td>7835.0</td>\n",
       "      <td>0.155546</td>\n",
       "      <td>0.033136</td>\n",
       "      <td>1.546320</td>\n",
       "      <td>NaN</td>\n",
       "      <td>NaN</td>\n",
       "      <td>0.437131</td>\n",
       "    </tr>\n",
       "    <tr>\n",
       "      <th>1</th>\n",
       "      <td>(7.878, 10.446]</td>\n",
       "      <td>320097</td>\n",
       "      <td>0.930218</td>\n",
       "      <td>0.178967</td>\n",
       "      <td>297760.0</td>\n",
       "      <td>22337.0</td>\n",
       "      <td>0.191839</td>\n",
       "      <td>0.094469</td>\n",
       "      <td>0.708389</td>\n",
       "      <td>0.038349</td>\n",
       "      <td>0.837931</td>\n",
       "      <td>0.437131</td>\n",
       "    </tr>\n",
       "    <tr>\n",
       "      <th>2</th>\n",
       "      <td>(10.446, 13.014]</td>\n",
       "      <td>411013</td>\n",
       "      <td>0.886330</td>\n",
       "      <td>0.229798</td>\n",
       "      <td>364293.0</td>\n",
       "      <td>46720.0</td>\n",
       "      <td>0.234704</td>\n",
       "      <td>0.197590</td>\n",
       "      <td>0.172131</td>\n",
       "      <td>0.043888</td>\n",
       "      <td>0.536257</td>\n",
       "      <td>0.437131</td>\n",
       "    </tr>\n",
       "    <tr>\n",
       "      <th>3</th>\n",
       "      <td>(13.014, 15.582]</td>\n",
       "      <td>326701</td>\n",
       "      <td>0.849716</td>\n",
       "      <td>0.182659</td>\n",
       "      <td>277603.0</td>\n",
       "      <td>49098.0</td>\n",
       "      <td>0.178852</td>\n",
       "      <td>0.207647</td>\n",
       "      <td>-0.149281</td>\n",
       "      <td>0.036614</td>\n",
       "      <td>0.321412</td>\n",
       "      <td>0.437131</td>\n",
       "    </tr>\n",
       "    <tr>\n",
       "      <th>4</th>\n",
       "      <td>(15.582, 18.15]</td>\n",
       "      <td>228846</td>\n",
       "      <td>0.804401</td>\n",
       "      <td>0.127948</td>\n",
       "      <td>184084.0</td>\n",
       "      <td>44762.0</td>\n",
       "      <td>0.118600</td>\n",
       "      <td>0.189309</td>\n",
       "      <td>-0.467622</td>\n",
       "      <td>0.045315</td>\n",
       "      <td>0.318341</td>\n",
       "      <td>0.437131</td>\n",
       "    </tr>\n",
       "    <tr>\n",
       "      <th>5</th>\n",
       "      <td>(18.15, 20.718]</td>\n",
       "      <td>127408</td>\n",
       "      <td>0.762378</td>\n",
       "      <td>0.071234</td>\n",
       "      <td>97133.0</td>\n",
       "      <td>30275.0</td>\n",
       "      <td>0.062580</td>\n",
       "      <td>0.128040</td>\n",
       "      <td>-0.715896</td>\n",
       "      <td>0.042024</td>\n",
       "      <td>0.248274</td>\n",
       "      <td>0.437131</td>\n",
       "    </tr>\n",
       "    <tr>\n",
       "      <th>6</th>\n",
       "      <td>(20.718, 23.286]</td>\n",
       "      <td>59965</td>\n",
       "      <td>0.735596</td>\n",
       "      <td>0.033527</td>\n",
       "      <td>44110.0</td>\n",
       "      <td>15855.0</td>\n",
       "      <td>0.028419</td>\n",
       "      <td>0.067055</td>\n",
       "      <td>-0.858453</td>\n",
       "      <td>0.026782</td>\n",
       "      <td>0.142557</td>\n",
       "      <td>0.437131</td>\n",
       "    </tr>\n",
       "    <tr>\n",
       "      <th>7</th>\n",
       "      <td>(23.286, 25.854]</td>\n",
       "      <td>39994</td>\n",
       "      <td>0.703431</td>\n",
       "      <td>0.022361</td>\n",
       "      <td>28133.0</td>\n",
       "      <td>11861.0</td>\n",
       "      <td>0.018125</td>\n",
       "      <td>0.050163</td>\n",
       "      <td>-1.017967</td>\n",
       "      <td>0.032165</td>\n",
       "      <td>0.159514</td>\n",
       "      <td>0.437131</td>\n",
       "    </tr>\n",
       "    <tr>\n",
       "      <th>8</th>\n",
       "      <td>(25.854, 28.422]</td>\n",
       "      <td>13541</td>\n",
       "      <td>0.689240</td>\n",
       "      <td>0.007571</td>\n",
       "      <td>9333.0</td>\n",
       "      <td>4208.0</td>\n",
       "      <td>0.006013</td>\n",
       "      <td>0.017797</td>\n",
       "      <td>-1.085086</td>\n",
       "      <td>0.014190</td>\n",
       "      <td>0.067119</td>\n",
       "      <td>0.437131</td>\n",
       "    </tr>\n",
       "    <tr>\n",
       "      <th>9</th>\n",
       "      <td>(28.422, 30.99]</td>\n",
       "      <td>11756</td>\n",
       "      <td>0.702450</td>\n",
       "      <td>0.006573</td>\n",
       "      <td>8258.0</td>\n",
       "      <td>3498.0</td>\n",
       "      <td>0.005320</td>\n",
       "      <td>0.014794</td>\n",
       "      <td>-1.022664</td>\n",
       "      <td>0.013210</td>\n",
       "      <td>0.062422</td>\n",
       "      <td>0.437131</td>\n",
       "    </tr>\n",
       "  </tbody>\n",
       "</table>\n",
       "</div>"
      ],
      "text/plain": [
       "  int_rate_factor_f   n_obs  prop_good  prop_n_obs    n_good    n_bad  \\\n",
       "0    (5.284, 7.878]  249264   0.968567    0.139364  241429.0   7835.0   \n",
       "1   (7.878, 10.446]  320097   0.930218    0.178967  297760.0  22337.0   \n",
       "2  (10.446, 13.014]  411013   0.886330    0.229798  364293.0  46720.0   \n",
       "3  (13.014, 15.582]  326701   0.849716    0.182659  277603.0  49098.0   \n",
       "4   (15.582, 18.15]  228846   0.804401    0.127948  184084.0  44762.0   \n",
       "5   (18.15, 20.718]  127408   0.762378    0.071234   97133.0  30275.0   \n",
       "6  (20.718, 23.286]   59965   0.735596    0.033527   44110.0  15855.0   \n",
       "7  (23.286, 25.854]   39994   0.703431    0.022361   28133.0  11861.0   \n",
       "8  (25.854, 28.422]   13541   0.689240    0.007571    9333.0   4208.0   \n",
       "9   (28.422, 30.99]   11756   0.702450    0.006573    8258.0   3498.0   \n",
       "\n",
       "   prop_n_good  prop_n_bad       WoE  diff_prop_good  diff_WoE        IV  \n",
       "0     0.155546    0.033136  1.546320             NaN       NaN  0.437131  \n",
       "1     0.191839    0.094469  0.708389        0.038349  0.837931  0.437131  \n",
       "2     0.234704    0.197590  0.172131        0.043888  0.536257  0.437131  \n",
       "3     0.178852    0.207647 -0.149281        0.036614  0.321412  0.437131  \n",
       "4     0.118600    0.189309 -0.467622        0.045315  0.318341  0.437131  \n",
       "5     0.062580    0.128040 -0.715896        0.042024  0.248274  0.437131  \n",
       "6     0.028419    0.067055 -0.858453        0.026782  0.142557  0.437131  \n",
       "7     0.018125    0.050163 -1.017967        0.032165  0.159514  0.437131  \n",
       "8     0.006013    0.017797 -1.085086        0.014190  0.067119  0.437131  \n",
       "9     0.005320    0.014794 -1.022664        0.013210  0.062422  0.437131  "
      ]
     },
     "execution_count": 44,
     "metadata": {},
     "output_type": "execute_result"
    }
   ],
   "source": [
    "df_temp = woe_ordered_continuous(df_inputs_prepr,'int_rate_factor_f',df_targets_prepr)\n",
    "df_temp"
   ]
  },
  {
   "cell_type": "code",
   "execution_count": 45,
   "metadata": {},
   "outputs": [
    {
     "data": {
      "image/png": "[encoded data removed]",
      "text/plain": [
       "<Figure size 1296x432 with 1 Axes>"
      ]
     },
     "metadata": {
      "needs_background": "light"
     },
     "output_type": "display_data"
    }
   ],
   "source": [
    "plot_by_woe(df_temp, 90)"
   ]
  },
  {
   "cell_type": "code",
   "execution_count": 46,
   "metadata": {},
   "outputs": [],
   "source": [
    "df_inputs_prepr['int_rate_factor:1'] = np.where((df_inputs_prepr['int_rate_factor_f'].isin(range(8))),1,0)\n",
    "df_inputs_prepr['int_rate_factor:2'] = np.where((df_inputs_prepr['int_rate_factor_f'].isin(range(8,11))),1,0)\n",
    "df_inputs_prepr['int_rate_factor:3'] = np.where((df_inputs_prepr['int_rate_factor_f'].isin(range(11,13))),1,0)\n",
    "df_inputs_prepr['int_rate_factor:4'] = np.where((df_inputs_prepr['int_rate_factor_f'].isin(range(13,15))),1,0)\n",
    "df_inputs_prepr['int_rate_factor:5'] = np.where((df_inputs_prepr['int_rate_factor_f'].isin(range(15,17))),1,0)\n",
    "df_inputs_prepr['int_rate_factor:6'] = np.where((df_inputs_prepr['int_rate_factor_f'].isin(range(17,19))),1,0)\n",
    "df_inputs_prepr['int_rate_factor:7'] = np.where((df_inputs_prepr['int_rate_factor_f'].isin(range(19,21))),1,0)\n",
    "df_inputs_prepr['int_rate_factor:8'] = np.where((df_inputs_prepr['int_rate_factor_f'].isin(range(21,23))),1,0)\n",
    "df_inputs_prepr['int_rate_factor:9'] = np.where((df_inputs_prepr['int_rate_factor_f'].isin(range(23,25))),1,0)\n",
    "df_inputs_prepr['int_rate_factor:10'] = np.where((df_inputs_prepr['int_rate_factor_f'].isin(range(25,27))),1,0)\n",
    "df_inputs_prepr['int_rate_factor:11'] = np.where((df_inputs_prepr['int_rate_factor_f'].isin(range(27,int(df_inputs_prepr['int_rate_factor'].max())))),1,0)"
   ]
  },
  {
   "cell_type": "code",
   "execution_count": 47,
   "metadata": {},
   "outputs": [],
   "source": [
    "df_inputs_prepr = df_inputs_prepr.drop(['int_rate_factor','int_rate_factor_f'], axis=1)"
   ]
  },
  {
   "cell_type": "code",
   "execution_count": 48,
   "metadata": {},
   "outputs": [],
   "source": [
    "df_inputs_prepr['revol_util_factor_f'] = pd.cut(df_inputs_prepr['revol_util_factor'],30)"
   ]
  },
  {
   "cell_type": "code",
   "execution_count": 49,
   "metadata": {},
   "outputs": [
    {
     "name": "stderr",
     "output_type": "stream",
     "text": [
      "/Users/fayadabbasi/anaconda3/lib/python3.7/site-packages/ipykernel_launcher.py:11: RuntimeWarning: divide by zero encountered in log\n",
      "  # This is added back by InteractiveShellApp.init_path()\n",
      "/Users/fayadabbasi/anaconda3/lib/python3.7/site-packages/pandas/core/algorithms.py:1823: RuntimeWarning: invalid value encountered in subtract\n",
      "  out_arr[res_indexer] = arr[res_indexer] - arr[lag_indexer]\n"
     ]
    },
    {
     "data": {
      "text/html": [
       "<div>\n",
       "<style scoped>\n",
       "    .dataframe tbody tr th:only-of-type {\n",
       "        vertical-align: middle;\n",
       "    }\n",
       "\n",
       "    .dataframe tbody tr th {\n",
       "        vertical-align: top;\n",
       "    }\n",
       "\n",
       "    .dataframe thead th {\n",
       "        text-align: right;\n",
       "    }\n",
       "</style>\n",
       "<table border=\"1\" class=\"dataframe\">\n",
       "  <thead>\n",
       "    <tr style=\"text-align: right;\">\n",
       "      <th></th>\n",
       "      <th>revol_util_factor_f</th>\n",
       "      <th>n_obs</th>\n",
       "      <th>prop_good</th>\n",
       "      <th>prop_n_obs</th>\n",
       "      <th>n_good</th>\n",
       "      <th>n_bad</th>\n",
       "      <th>prop_n_good</th>\n",
       "      <th>prop_n_bad</th>\n",
       "      <th>WoE</th>\n",
       "      <th>diff_prop_good</th>\n",
       "      <th>diff_WoE</th>\n",
       "      <th>IV</th>\n",
       "    </tr>\n",
       "  </thead>\n",
       "  <tbody>\n",
       "    <tr>\n",
       "      <th>0</th>\n",
       "      <td>(-0.367, 12.22]</td>\n",
       "      <td>127270</td>\n",
       "      <td>0.905807</td>\n",
       "      <td>7.115681e-02</td>\n",
       "      <td>115282.0</td>\n",
       "      <td>11988.0</td>\n",
       "      <td>0.074273</td>\n",
       "      <td>0.050700</td>\n",
       "      <td>0.381820</td>\n",
       "      <td>NaN</td>\n",
       "      <td>NaN</td>\n",
       "      <td>inf</td>\n",
       "    </tr>\n",
       "    <tr>\n",
       "      <th>1</th>\n",
       "      <td>(12.22, 24.44]</td>\n",
       "      <td>190313</td>\n",
       "      <td>0.902151</td>\n",
       "      <td>1.064042e-01</td>\n",
       "      <td>171691.0</td>\n",
       "      <td>18622.0</td>\n",
       "      <td>0.110616</td>\n",
       "      <td>0.078757</td>\n",
       "      <td>0.339698</td>\n",
       "      <td>0.003656</td>\n",
       "      <td>0.042122</td>\n",
       "      <td>inf</td>\n",
       "    </tr>\n",
       "    <tr>\n",
       "      <th>2</th>\n",
       "      <td>(24.44, 36.66]</td>\n",
       "      <td>262426</td>\n",
       "      <td>0.884958</td>\n",
       "      <td>1.467227e-01</td>\n",
       "      <td>232236.0</td>\n",
       "      <td>30190.0</td>\n",
       "      <td>0.149623</td>\n",
       "      <td>0.127681</td>\n",
       "      <td>0.158589</td>\n",
       "      <td>0.017193</td>\n",
       "      <td>0.181109</td>\n",
       "      <td>inf</td>\n",
       "    </tr>\n",
       "    <tr>\n",
       "      <th>3</th>\n",
       "      <td>(36.66, 48.88]</td>\n",
       "      <td>295553</td>\n",
       "      <td>0.870182</td>\n",
       "      <td>1.652440e-01</td>\n",
       "      <td>257185.0</td>\n",
       "      <td>38368.0</td>\n",
       "      <td>0.165697</td>\n",
       "      <td>0.162268</td>\n",
       "      <td>0.020917</td>\n",
       "      <td>0.014776</td>\n",
       "      <td>0.137671</td>\n",
       "      <td>inf</td>\n",
       "    </tr>\n",
       "    <tr>\n",
       "      <th>4</th>\n",
       "      <td>(48.88, 61.1]</td>\n",
       "      <td>297253</td>\n",
       "      <td>0.857882</td>\n",
       "      <td>1.661945e-01</td>\n",
       "      <td>255008.0</td>\n",
       "      <td>42245.0</td>\n",
       "      <td>0.164295</td>\n",
       "      <td>0.178664</td>\n",
       "      <td>-0.083846</td>\n",
       "      <td>0.012300</td>\n",
       "      <td>0.104763</td>\n",
       "      <td>inf</td>\n",
       "    </tr>\n",
       "    <tr>\n",
       "      <th>5</th>\n",
       "      <td>(61.1, 73.32]</td>\n",
       "      <td>258864</td>\n",
       "      <td>0.849697</td>\n",
       "      <td>1.447312e-01</td>\n",
       "      <td>219956.0</td>\n",
       "      <td>38908.0</td>\n",
       "      <td>0.141712</td>\n",
       "      <td>0.164551</td>\n",
       "      <td>-0.149427</td>\n",
       "      <td>0.008185</td>\n",
       "      <td>0.065581</td>\n",
       "      <td>inf</td>\n",
       "    </tr>\n",
       "    <tr>\n",
       "      <th>6</th>\n",
       "      <td>(73.32, 85.54]</td>\n",
       "      <td>201884</td>\n",
       "      <td>0.845099</td>\n",
       "      <td>1.128736e-01</td>\n",
       "      <td>170612.0</td>\n",
       "      <td>31272.0</td>\n",
       "      <td>0.109921</td>\n",
       "      <td>0.132257</td>\n",
       "      <td>-0.184986</td>\n",
       "      <td>0.004598</td>\n",
       "      <td>0.035559</td>\n",
       "      <td>inf</td>\n",
       "    </tr>\n",
       "    <tr>\n",
       "      <th>7</th>\n",
       "      <td>(85.54, 97.76]</td>\n",
       "      <td>134476</td>\n",
       "      <td>0.841340</td>\n",
       "      <td>7.518569e-02</td>\n",
       "      <td>113140.0</td>\n",
       "      <td>21336.0</td>\n",
       "      <td>0.072893</td>\n",
       "      <td>0.090235</td>\n",
       "      <td>-0.213425</td>\n",
       "      <td>0.003759</td>\n",
       "      <td>0.028439</td>\n",
       "      <td>inf</td>\n",
       "    </tr>\n",
       "    <tr>\n",
       "      <th>8</th>\n",
       "      <td>(97.76, 109.98]</td>\n",
       "      <td>20171</td>\n",
       "      <td>0.829359</td>\n",
       "      <td>1.127763e-02</td>\n",
       "      <td>16729.0</td>\n",
       "      <td>3442.0</td>\n",
       "      <td>0.010778</td>\n",
       "      <td>0.014557</td>\n",
       "      <td>-0.300564</td>\n",
       "      <td>0.011981</td>\n",
       "      <td>0.087139</td>\n",
       "      <td>inf</td>\n",
       "    </tr>\n",
       "    <tr>\n",
       "      <th>9</th>\n",
       "      <td>(109.98, 122.2]</td>\n",
       "      <td>255</td>\n",
       "      <td>0.803922</td>\n",
       "      <td>1.425708e-04</td>\n",
       "      <td>205.0</td>\n",
       "      <td>50.0</td>\n",
       "      <td>0.000132</td>\n",
       "      <td>0.000211</td>\n",
       "      <td>-0.470668</td>\n",
       "      <td>0.025437</td>\n",
       "      <td>0.170104</td>\n",
       "      <td>inf</td>\n",
       "    </tr>\n",
       "    <tr>\n",
       "      <th>10</th>\n",
       "      <td>(122.2, 134.42]</td>\n",
       "      <td>81</td>\n",
       "      <td>0.765432</td>\n",
       "      <td>4.528720e-05</td>\n",
       "      <td>62.0</td>\n",
       "      <td>19.0</td>\n",
       "      <td>0.000040</td>\n",
       "      <td>0.000080</td>\n",
       "      <td>-0.698959</td>\n",
       "      <td>0.038489</td>\n",
       "      <td>0.228292</td>\n",
       "      <td>inf</td>\n",
       "    </tr>\n",
       "    <tr>\n",
       "      <th>11</th>\n",
       "      <td>(134.42, 146.64]</td>\n",
       "      <td>17</td>\n",
       "      <td>0.764706</td>\n",
       "      <td>9.504720e-06</td>\n",
       "      <td>13.0</td>\n",
       "      <td>4.0</td>\n",
       "      <td>0.000008</td>\n",
       "      <td>0.000017</td>\n",
       "      <td>-0.703000</td>\n",
       "      <td>0.000726</td>\n",
       "      <td>0.004040</td>\n",
       "      <td>inf</td>\n",
       "    </tr>\n",
       "    <tr>\n",
       "      <th>12</th>\n",
       "      <td>(146.64, 158.86]</td>\n",
       "      <td>8</td>\n",
       "      <td>0.625000</td>\n",
       "      <td>4.472810e-06</td>\n",
       "      <td>5.0</td>\n",
       "      <td>3.0</td>\n",
       "      <td>0.000003</td>\n",
       "      <td>0.000013</td>\n",
       "      <td>-1.370829</td>\n",
       "      <td>0.139706</td>\n",
       "      <td>0.667829</td>\n",
       "      <td>inf</td>\n",
       "    </tr>\n",
       "    <tr>\n",
       "      <th>13</th>\n",
       "      <td>(158.86, 171.08]</td>\n",
       "      <td>5</td>\n",
       "      <td>0.800000</td>\n",
       "      <td>2.795506e-06</td>\n",
       "      <td>4.0</td>\n",
       "      <td>1.0</td>\n",
       "      <td>0.000003</td>\n",
       "      <td>0.000004</td>\n",
       "      <td>-0.495360</td>\n",
       "      <td>0.175000</td>\n",
       "      <td>0.875469</td>\n",
       "      <td>inf</td>\n",
       "    </tr>\n",
       "    <tr>\n",
       "      <th>14</th>\n",
       "      <td>(171.08, 183.3]</td>\n",
       "      <td>4</td>\n",
       "      <td>1.000000</td>\n",
       "      <td>2.236405e-06</td>\n",
       "      <td>4.0</td>\n",
       "      <td>0.0</td>\n",
       "      <td>0.000003</td>\n",
       "      <td>0.000000</td>\n",
       "      <td>inf</td>\n",
       "      <td>0.200000</td>\n",
       "      <td>inf</td>\n",
       "      <td>inf</td>\n",
       "    </tr>\n",
       "    <tr>\n",
       "      <th>15</th>\n",
       "      <td>(183.3, 195.52]</td>\n",
       "      <td>4</td>\n",
       "      <td>1.000000</td>\n",
       "      <td>2.236405e-06</td>\n",
       "      <td>4.0</td>\n",
       "      <td>0.0</td>\n",
       "      <td>0.000003</td>\n",
       "      <td>0.000000</td>\n",
       "      <td>inf</td>\n",
       "      <td>0.000000</td>\n",
       "      <td>NaN</td>\n",
       "      <td>inf</td>\n",
       "    </tr>\n",
       "    <tr>\n",
       "      <th>16</th>\n",
       "      <td>(195.52, 207.74]</td>\n",
       "      <td>0</td>\n",
       "      <td>NaN</td>\n",
       "      <td>0.000000e+00</td>\n",
       "      <td>NaN</td>\n",
       "      <td>NaN</td>\n",
       "      <td>NaN</td>\n",
       "      <td>NaN</td>\n",
       "      <td>NaN</td>\n",
       "      <td>NaN</td>\n",
       "      <td>NaN</td>\n",
       "      <td>inf</td>\n",
       "    </tr>\n",
       "    <tr>\n",
       "      <th>17</th>\n",
       "      <td>(207.74, 219.96]</td>\n",
       "      <td>0</td>\n",
       "      <td>NaN</td>\n",
       "      <td>0.000000e+00</td>\n",
       "      <td>NaN</td>\n",
       "      <td>NaN</td>\n",
       "      <td>NaN</td>\n",
       "      <td>NaN</td>\n",
       "      <td>NaN</td>\n",
       "      <td>NaN</td>\n",
       "      <td>NaN</td>\n",
       "      <td>inf</td>\n",
       "    </tr>\n",
       "    <tr>\n",
       "      <th>18</th>\n",
       "      <td>(219.96, 232.18]</td>\n",
       "      <td>0</td>\n",
       "      <td>NaN</td>\n",
       "      <td>0.000000e+00</td>\n",
       "      <td>NaN</td>\n",
       "      <td>NaN</td>\n",
       "      <td>NaN</td>\n",
       "      <td>NaN</td>\n",
       "      <td>NaN</td>\n",
       "      <td>NaN</td>\n",
       "      <td>NaN</td>\n",
       "      <td>inf</td>\n",
       "    </tr>\n",
       "    <tr>\n",
       "      <th>19</th>\n",
       "      <td>(232.18, 244.4]</td>\n",
       "      <td>0</td>\n",
       "      <td>NaN</td>\n",
       "      <td>0.000000e+00</td>\n",
       "      <td>NaN</td>\n",
       "      <td>NaN</td>\n",
       "      <td>NaN</td>\n",
       "      <td>NaN</td>\n",
       "      <td>NaN</td>\n",
       "      <td>NaN</td>\n",
       "      <td>NaN</td>\n",
       "      <td>inf</td>\n",
       "    </tr>\n",
       "    <tr>\n",
       "      <th>20</th>\n",
       "      <td>(244.4, 256.62]</td>\n",
       "      <td>0</td>\n",
       "      <td>NaN</td>\n",
       "      <td>0.000000e+00</td>\n",
       "      <td>NaN</td>\n",
       "      <td>NaN</td>\n",
       "      <td>NaN</td>\n",
       "      <td>NaN</td>\n",
       "      <td>NaN</td>\n",
       "      <td>NaN</td>\n",
       "      <td>NaN</td>\n",
       "      <td>inf</td>\n",
       "    </tr>\n",
       "    <tr>\n",
       "      <th>21</th>\n",
       "      <td>(256.62, 268.84]</td>\n",
       "      <td>0</td>\n",
       "      <td>NaN</td>\n",
       "      <td>0.000000e+00</td>\n",
       "      <td>NaN</td>\n",
       "      <td>NaN</td>\n",
       "      <td>NaN</td>\n",
       "      <td>NaN</td>\n",
       "      <td>NaN</td>\n",
       "      <td>NaN</td>\n",
       "      <td>NaN</td>\n",
       "      <td>inf</td>\n",
       "    </tr>\n",
       "    <tr>\n",
       "      <th>22</th>\n",
       "      <td>(268.84, 281.06]</td>\n",
       "      <td>0</td>\n",
       "      <td>NaN</td>\n",
       "      <td>0.000000e+00</td>\n",
       "      <td>NaN</td>\n",
       "      <td>NaN</td>\n",
       "      <td>NaN</td>\n",
       "      <td>NaN</td>\n",
       "      <td>NaN</td>\n",
       "      <td>NaN</td>\n",
       "      <td>NaN</td>\n",
       "      <td>inf</td>\n",
       "    </tr>\n",
       "    <tr>\n",
       "      <th>23</th>\n",
       "      <td>(281.06, 293.28]</td>\n",
       "      <td>0</td>\n",
       "      <td>NaN</td>\n",
       "      <td>0.000000e+00</td>\n",
       "      <td>NaN</td>\n",
       "      <td>NaN</td>\n",
       "      <td>NaN</td>\n",
       "      <td>NaN</td>\n",
       "      <td>NaN</td>\n",
       "      <td>NaN</td>\n",
       "      <td>NaN</td>\n",
       "      <td>inf</td>\n",
       "    </tr>\n",
       "    <tr>\n",
       "      <th>24</th>\n",
       "      <td>(293.28, 305.5]</td>\n",
       "      <td>0</td>\n",
       "      <td>NaN</td>\n",
       "      <td>0.000000e+00</td>\n",
       "      <td>NaN</td>\n",
       "      <td>NaN</td>\n",
       "      <td>NaN</td>\n",
       "      <td>NaN</td>\n",
       "      <td>NaN</td>\n",
       "      <td>NaN</td>\n",
       "      <td>NaN</td>\n",
       "      <td>inf</td>\n",
       "    </tr>\n",
       "    <tr>\n",
       "      <th>25</th>\n",
       "      <td>(305.5, 317.72]</td>\n",
       "      <td>0</td>\n",
       "      <td>NaN</td>\n",
       "      <td>0.000000e+00</td>\n",
       "      <td>NaN</td>\n",
       "      <td>NaN</td>\n",
       "      <td>NaN</td>\n",
       "      <td>NaN</td>\n",
       "      <td>NaN</td>\n",
       "      <td>NaN</td>\n",
       "      <td>NaN</td>\n",
       "      <td>inf</td>\n",
       "    </tr>\n",
       "    <tr>\n",
       "      <th>26</th>\n",
       "      <td>(317.72, 329.94]</td>\n",
       "      <td>0</td>\n",
       "      <td>NaN</td>\n",
       "      <td>0.000000e+00</td>\n",
       "      <td>NaN</td>\n",
       "      <td>NaN</td>\n",
       "      <td>NaN</td>\n",
       "      <td>NaN</td>\n",
       "      <td>NaN</td>\n",
       "      <td>NaN</td>\n",
       "      <td>NaN</td>\n",
       "      <td>inf</td>\n",
       "    </tr>\n",
       "    <tr>\n",
       "      <th>27</th>\n",
       "      <td>(329.94, 342.16]</td>\n",
       "      <td>0</td>\n",
       "      <td>NaN</td>\n",
       "      <td>0.000000e+00</td>\n",
       "      <td>NaN</td>\n",
       "      <td>NaN</td>\n",
       "      <td>NaN</td>\n",
       "      <td>NaN</td>\n",
       "      <td>NaN</td>\n",
       "      <td>NaN</td>\n",
       "      <td>NaN</td>\n",
       "      <td>inf</td>\n",
       "    </tr>\n",
       "    <tr>\n",
       "      <th>28</th>\n",
       "      <td>(342.16, 354.38]</td>\n",
       "      <td>0</td>\n",
       "      <td>NaN</td>\n",
       "      <td>0.000000e+00</td>\n",
       "      <td>NaN</td>\n",
       "      <td>NaN</td>\n",
       "      <td>NaN</td>\n",
       "      <td>NaN</td>\n",
       "      <td>NaN</td>\n",
       "      <td>NaN</td>\n",
       "      <td>NaN</td>\n",
       "      <td>inf</td>\n",
       "    </tr>\n",
       "    <tr>\n",
       "      <th>29</th>\n",
       "      <td>(354.38, 366.6]</td>\n",
       "      <td>1</td>\n",
       "      <td>0.000000</td>\n",
       "      <td>5.591012e-07</td>\n",
       "      <td>0.0</td>\n",
       "      <td>1.0</td>\n",
       "      <td>0.000000</td>\n",
       "      <td>0.000004</td>\n",
       "      <td>-inf</td>\n",
       "      <td>NaN</td>\n",
       "      <td>NaN</td>\n",
       "      <td>inf</td>\n",
       "    </tr>\n",
       "  </tbody>\n",
       "</table>\n",
       "</div>"
      ],
      "text/plain": [
       "   revol_util_factor_f   n_obs  prop_good    prop_n_obs    n_good    n_bad  \\\n",
       "0      (-0.367, 12.22]  127270   0.905807  7.115681e-02  115282.0  11988.0   \n",
       "1       (12.22, 24.44]  190313   0.902151  1.064042e-01  171691.0  18622.0   \n",
       "2       (24.44, 36.66]  262426   0.884958  1.467227e-01  232236.0  30190.0   \n",
       "3       (36.66, 48.88]  295553   0.870182  1.652440e-01  257185.0  38368.0   \n",
       "4        (48.88, 61.1]  297253   0.857882  1.661945e-01  255008.0  42245.0   \n",
       "5        (61.1, 73.32]  258864   0.849697  1.447312e-01  219956.0  38908.0   \n",
       "6       (73.32, 85.54]  201884   0.845099  1.128736e-01  170612.0  31272.0   \n",
       "7       (85.54, 97.76]  134476   0.841340  7.518569e-02  113140.0  21336.0   \n",
       "8      (97.76, 109.98]   20171   0.829359  1.127763e-02   16729.0   3442.0   \n",
       "9      (109.98, 122.2]     255   0.803922  1.425708e-04     205.0     50.0   \n",
       "10     (122.2, 134.42]      81   0.765432  4.528720e-05      62.0     19.0   \n",
       "11    (134.42, 146.64]      17   0.764706  9.504720e-06      13.0      4.0   \n",
       "12    (146.64, 158.86]       8   0.625000  4.472810e-06       5.0      3.0   \n",
       "13    (158.86, 171.08]       5   0.800000  2.795506e-06       4.0      1.0   \n",
       "14     (171.08, 183.3]       4   1.000000  2.236405e-06       4.0      0.0   \n",
       "15     (183.3, 195.52]       4   1.000000  2.236405e-06       4.0      0.0   \n",
       "16    (195.52, 207.74]       0        NaN  0.000000e+00       NaN      NaN   \n",
       "17    (207.74, 219.96]       0        NaN  0.000000e+00       NaN      NaN   \n",
       "18    (219.96, 232.18]       0        NaN  0.000000e+00       NaN      NaN   \n",
       "19     (232.18, 244.4]       0        NaN  0.000000e+00       NaN      NaN   \n",
       "20     (244.4, 256.62]       0        NaN  0.000000e+00       NaN      NaN   \n",
       "21    (256.62, 268.84]       0        NaN  0.000000e+00       NaN      NaN   \n",
       "22    (268.84, 281.06]       0        NaN  0.000000e+00       NaN      NaN   \n",
       "23    (281.06, 293.28]       0        NaN  0.000000e+00       NaN      NaN   \n",
       "24     (293.28, 305.5]       0        NaN  0.000000e+00       NaN      NaN   \n",
       "25     (305.5, 317.72]       0        NaN  0.000000e+00       NaN      NaN   \n",
       "26    (317.72, 329.94]       0        NaN  0.000000e+00       NaN      NaN   \n",
       "27    (329.94, 342.16]       0        NaN  0.000000e+00       NaN      NaN   \n",
       "28    (342.16, 354.38]       0        NaN  0.000000e+00       NaN      NaN   \n",
       "29     (354.38, 366.6]       1   0.000000  5.591012e-07       0.0      1.0   \n",
       "\n",
       "    prop_n_good  prop_n_bad       WoE  diff_prop_good  diff_WoE   IV  \n",
       "0      0.074273    0.050700  0.381820             NaN       NaN  inf  \n",
       "1      0.110616    0.078757  0.339698        0.003656  0.042122  inf  \n",
       "2      0.149623    0.127681  0.158589        0.017193  0.181109  inf  \n",
       "3      0.165697    0.162268  0.020917        0.014776  0.137671  inf  \n",
       "4      0.164295    0.178664 -0.083846        0.012300  0.104763  inf  \n",
       "5      0.141712    0.164551 -0.149427        0.008185  0.065581  inf  \n",
       "6      0.109921    0.132257 -0.184986        0.004598  0.035559  inf  \n",
       "7      0.072893    0.090235 -0.213425        0.003759  0.028439  inf  \n",
       "8      0.010778    0.014557 -0.300564        0.011981  0.087139  inf  \n",
       "9      0.000132    0.000211 -0.470668        0.025437  0.170104  inf  \n",
       "10     0.000040    0.000080 -0.698959        0.038489  0.228292  inf  \n",
       "11     0.000008    0.000017 -0.703000        0.000726  0.004040  inf  \n",
       "12     0.000003    0.000013 -1.370829        0.139706  0.667829  inf  \n",
       "13     0.000003    0.000004 -0.495360        0.175000  0.875469  inf  \n",
       "14     0.000003    0.000000       inf        0.200000       inf  inf  \n",
       "15     0.000003    0.000000       inf        0.000000       NaN  inf  \n",
       "16          NaN         NaN       NaN             NaN       NaN  inf  \n",
       "17          NaN         NaN       NaN             NaN       NaN  inf  \n",
       "18          NaN         NaN       NaN             NaN       NaN  inf  \n",
       "19          NaN         NaN       NaN             NaN       NaN  inf  \n",
       "20          NaN         NaN       NaN             NaN       NaN  inf  \n",
       "21          NaN         NaN       NaN             NaN       NaN  inf  \n",
       "22          NaN         NaN       NaN             NaN       NaN  inf  \n",
       "23          NaN         NaN       NaN             NaN       NaN  inf  \n",
       "24          NaN         NaN       NaN             NaN       NaN  inf  \n",
       "25          NaN         NaN       NaN             NaN       NaN  inf  \n",
       "26          NaN         NaN       NaN             NaN       NaN  inf  \n",
       "27          NaN         NaN       NaN             NaN       NaN  inf  \n",
       "28          NaN         NaN       NaN             NaN       NaN  inf  \n",
       "29     0.000000    0.000004      -inf             NaN       NaN  inf  "
      ]
     },
     "execution_count": 49,
     "metadata": {},
     "output_type": "execute_result"
    }
   ],
   "source": [
    "df_temp = woe_ordered_continuous(df_inputs_prepr,'revol_util_factor_f',df_targets_prepr)\n",
    "df_temp"
   ]
  },
  {
   "cell_type": "code",
   "execution_count": 50,
   "metadata": {},
   "outputs": [
    {
     "data": {
      "image/png": "[encoded data removed]",
      "text/plain": [
       "<Figure size 1296x432 with 1 Axes>"
      ]
     },
     "metadata": {
      "needs_background": "light"
     },
     "output_type": "display_data"
    }
   ],
   "source": [
    "plot_by_woe(df_temp, 90)"
   ]
  },
  {
   "cell_type": "code",
   "execution_count": 51,
   "metadata": {},
   "outputs": [],
   "source": [
    "df_inputs_prepr['revol_util_factor:1'] = np.where((df_inputs_prepr['revol_util_factor_f'].isin(range(12))),1,0)\n",
    "df_inputs_prepr['revol_util_factor:2'] = np.where((df_inputs_prepr['revol_util_factor_f'].isin(range(12,24))),1,0)\n",
    "df_inputs_prepr['revol_util_factor:3'] = np.where((df_inputs_prepr['revol_util_factor_f'].isin(range(24,36))),1,0)\n",
    "df_inputs_prepr['revol_util_factor:4'] = np.where((df_inputs_prepr['revol_util_factor_f'].isin(range(36,48))),1,0)\n",
    "df_inputs_prepr['revol_util_factor:5'] = np.where((df_inputs_prepr['revol_util_factor_f'].isin(range(48,60))),1,0)\n",
    "df_inputs_prepr['revol_util_factor:6'] = np.where((df_inputs_prepr['revol_util_factor_f'].isin(range(60,72))),1,0)\n",
    "df_inputs_prepr['revol_util_factor:7'] = np.where((df_inputs_prepr['revol_util_factor_f'].isin(range(72,84))),1,0)\n",
    "df_inputs_prepr['revol_util_factor:8'] = np.where((df_inputs_prepr['revol_util_factor_f'].isin(range(84,96))),1,0)\n",
    "df_inputs_prepr['revol_util_factor:9'] = np.where((df_inputs_prepr['revol_util_factor_f'].isin(range(96,int(df_inputs_prepr['revol_util_factor'].max())))),1,0)"
   ]
  },
  {
   "cell_type": "code",
   "execution_count": 52,
   "metadata": {},
   "outputs": [],
   "source": [
    "df_inputs_prepr = df_inputs_prepr.drop(['revol_util_factor','revol_util_factor_f'], axis=1)"
   ]
  },
  {
   "cell_type": "code",
   "execution_count": 53,
   "metadata": {},
   "outputs": [
    {
     "data": {
      "text/html": [
       "<div>\n",
       "<style scoped>\n",
       "    .dataframe tbody tr th:only-of-type {\n",
       "        vertical-align: middle;\n",
       "    }\n",
       "\n",
       "    .dataframe tbody tr th {\n",
       "        vertical-align: top;\n",
       "    }\n",
       "\n",
       "    .dataframe thead th {\n",
       "        text-align: right;\n",
       "    }\n",
       "</style>\n",
       "<table border=\"1\" class=\"dataframe\">\n",
       "  <thead>\n",
       "    <tr style=\"text-align: right;\">\n",
       "      <th></th>\n",
       "      <th>grade:A</th>\n",
       "      <th>grade:B</th>\n",
       "      <th>grade:C</th>\n",
       "      <th>grade:D</th>\n",
       "      <th>grade:E</th>\n",
       "      <th>grade:F</th>\n",
       "      <th>grade:G</th>\n",
       "      <th>home_ownership:ANY</th>\n",
       "      <th>home_ownership:MORTGAGE</th>\n",
       "      <th>home_ownership:NONE</th>\n",
       "      <th>...</th>\n",
       "      <th>int_rate_factor:11</th>\n",
       "      <th>revol_util_factor:1</th>\n",
       "      <th>revol_util_factor:2</th>\n",
       "      <th>revol_util_factor:3</th>\n",
       "      <th>revol_util_factor:4</th>\n",
       "      <th>revol_util_factor:5</th>\n",
       "      <th>revol_util_factor:6</th>\n",
       "      <th>revol_util_factor:7</th>\n",
       "      <th>revol_util_factor:8</th>\n",
       "      <th>revol_util_factor:9</th>\n",
       "    </tr>\n",
       "  </thead>\n",
       "  <tbody>\n",
       "    <tr>\n",
       "      <th>1378684</th>\n",
       "      <td>0</td>\n",
       "      <td>0</td>\n",
       "      <td>1</td>\n",
       "      <td>0</td>\n",
       "      <td>0</td>\n",
       "      <td>0</td>\n",
       "      <td>0</td>\n",
       "      <td>0</td>\n",
       "      <td>1</td>\n",
       "      <td>0</td>\n",
       "      <td>...</td>\n",
       "      <td>0</td>\n",
       "      <td>0</td>\n",
       "      <td>0</td>\n",
       "      <td>0</td>\n",
       "      <td>0</td>\n",
       "      <td>0</td>\n",
       "      <td>0</td>\n",
       "      <td>1</td>\n",
       "      <td>1</td>\n",
       "      <td>0</td>\n",
       "    </tr>\n",
       "    <tr>\n",
       "      <th>1047648</th>\n",
       "      <td>0</td>\n",
       "      <td>0</td>\n",
       "      <td>1</td>\n",
       "      <td>0</td>\n",
       "      <td>0</td>\n",
       "      <td>0</td>\n",
       "      <td>0</td>\n",
       "      <td>0</td>\n",
       "      <td>1</td>\n",
       "      <td>0</td>\n",
       "      <td>...</td>\n",
       "      <td>0</td>\n",
       "      <td>1</td>\n",
       "      <td>1</td>\n",
       "      <td>0</td>\n",
       "      <td>0</td>\n",
       "      <td>0</td>\n",
       "      <td>0</td>\n",
       "      <td>0</td>\n",
       "      <td>0</td>\n",
       "      <td>0</td>\n",
       "    </tr>\n",
       "  </tbody>\n",
       "</table>\n",
       "<p>2 rows × 75 columns</p>\n",
       "</div>"
      ],
      "text/plain": [
       "         grade:A  grade:B  grade:C  grade:D  grade:E  grade:F  grade:G  \\\n",
       "1378684        0        0        1        0        0        0        0   \n",
       "1047648        0        0        1        0        0        0        0   \n",
       "\n",
       "         home_ownership:ANY  home_ownership:MORTGAGE  home_ownership:NONE  \\\n",
       "1378684                   0                        1                    0   \n",
       "1047648                   0                        1                    0   \n",
       "\n",
       "                ...           int_rate_factor:11  revol_util_factor:1  \\\n",
       "1378684         ...                            0                    0   \n",
       "1047648         ...                            0                    1   \n",
       "\n",
       "         revol_util_factor:2  revol_util_factor:3  revol_util_factor:4  \\\n",
       "1378684                    0                    0                    0   \n",
       "1047648                    1                    0                    0   \n",
       "\n",
       "         revol_util_factor:5  revol_util_factor:6  revol_util_factor:7  \\\n",
       "1378684                    0                    0                    1   \n",
       "1047648                    0                    0                    0   \n",
       "\n",
       "         revol_util_factor:8  revol_util_factor:9  \n",
       "1378684                    1                    0  \n",
       "1047648                    0                    0  \n",
       "\n",
       "[2 rows x 75 columns]"
      ]
     },
     "execution_count": 53,
     "metadata": {},
     "output_type": "execute_result"
    }
   ],
   "source": [
    "df_inputs_prepr.head(2)\n",
    "# will need to make sure I am dropping columns as I do the appends"
   ]
  },
  {
   "cell_type": "code",
   "execution_count": 54,
   "metadata": {},
   "outputs": [
    {
     "data": {
      "text/plain": [
       "1378684    1\n",
       "Name: good_bad, dtype: int64"
      ]
     },
     "execution_count": 54,
     "metadata": {},
     "output_type": "execute_result"
    }
   ],
   "source": [
    "loan_data_target_train.head(1)"
   ]
  },
  {
   "cell_type": "code",
   "execution_count": 55,
   "metadata": {},
   "outputs": [
    {
     "data": {
      "text/plain": [
       "(1788585, 75)"
      ]
     },
     "execution_count": 55,
     "metadata": {},
     "output_type": "execute_result"
    }
   ],
   "source": [
    "df_inputs_prepr.shape"
   ]
  },
  {
   "cell_type": "markdown",
   "metadata": {},
   "source": [
    "### Apply same breakdown for test data\n",
    "Since I did train test split already, need to make sure applying the same methodology to test data"
   ]
  },
  {
   "cell_type": "code",
   "execution_count": 56,
   "metadata": {},
   "outputs": [],
   "source": [
    "df_inputs_prepr_t, df_targets_prepr_t = loan_data_input_test, loan_data_target_test"
   ]
  },
  {
   "cell_type": "code",
   "execution_count": 57,
   "metadata": {},
   "outputs": [],
   "source": [
    "df_inputs_prepr_t['loan_amnt_factor'] = pd.cut(df_inputs_prepr_t['loan_amnt'],30)"
   ]
  },
  {
   "cell_type": "code",
   "execution_count": 58,
   "metadata": {},
   "outputs": [],
   "source": [
    "df_inputs_prepr_t['loan_amnt_factor:1'] = np.where((df_inputs_prepr_t['loan_amnt_factor'].isin(range(1817))),1,0)\n",
    "df_inputs_prepr_t['loan_amnt_factor:2'] = np.where((df_inputs_prepr_t['loan_amnt_factor'].isin(range(1817,7084))),1,0)\n",
    "df_inputs_prepr_t['loan_amnt_factor:3'] = np.where((df_inputs_prepr_t['loan_amnt_factor'].isin(range(7084,11034))),1,0)\n",
    "df_inputs_prepr_t['loan_amnt_factor:4'] = np.where((df_inputs_prepr_t['loan_amnt_factor'].isin(range(11034,28150))),1,0)\n",
    "df_inputs_prepr_t['loan_amnt_factor:5'] = np.where((df_inputs_prepr_t['loan_amnt_factor'].isin(range(28150,28160))),1,0)\n",
    "df_inputs_prepr_t['loan_amnt_factor:6'] = np.where((df_inputs_prepr_t['loan_amnt_factor'].isin(range(28160,32100))),1,0)\n",
    "df_inputs_prepr_t['loan_amnt_factor:7'] = np.where((df_inputs_prepr_t['loan_amnt_factor'].isin(range(32100,36050))),1,0)\n",
    "df_inputs_prepr_t['loan_amnt_factor:8'] = np.where((df_inputs_prepr_t['loan_amnt_factor'].isin(range(36050,int(df_inputs_prepr_t['loan_amnt'].max())))),1,0)"
   ]
  },
  {
   "cell_type": "code",
   "execution_count": 59,
   "metadata": {},
   "outputs": [],
   "source": [
    "df_inputs_prepr_t = df_inputs_prepr_t.drop(['loan_amnt', 'loan_amnt_factor'], axis=1)"
   ]
  },
  {
   "cell_type": "code",
   "execution_count": 60,
   "metadata": {},
   "outputs": [],
   "source": [
    "df_inputs_prepr_t['annual_inc_factor'] = pd.cut(df_inputs_prepr_t['annual_inc'],100)"
   ]
  },
  {
   "cell_type": "code",
   "execution_count": 61,
   "metadata": {},
   "outputs": [],
   "source": [
    "df_inputs_prepr_t['annual_inc_factor:1'] = np.where((df_inputs_prepr_t['annual_inc_factor'].isin(range(7000))),1,0)\n",
    "df_inputs_prepr_t['annual_inc_factor:2'] = np.where((df_inputs_prepr_t['annual_inc_factor'].isin(range(7000,42000))),1,0)\n",
    "df_inputs_prepr_t['annual_inc_factor:3'] = np.where((df_inputs_prepr_t['annual_inc_factor'].isin(range(42000,70000))),1,0)\n",
    "df_inputs_prepr_t['annual_inc_factor:4'] = np.where((df_inputs_prepr_t['annual_inc_factor'].isin(range(70000,100000))),1,0)\n",
    "df_inputs_prepr_t['annual_inc_factor:5'] = np.where((df_inputs_prepr_t['annual_inc_factor'].isin(range(100000,112000))),1,0)\n",
    "df_inputs_prepr_t['annual_inc_factor:6'] = np.where((df_inputs_prepr_t['annual_inc_factor'].isin(range(112000,126000))),1,0)\n",
    "df_inputs_prepr_t['annual_inc_factor:7'] = np.where((df_inputs_prepr_t['annual_inc_factor'].isin(range(126000,int(df_inputs_prepr_t['annual_inc'].max())))),1,0)"
   ]
  },
  {
   "cell_type": "code",
   "execution_count": 62,
   "metadata": {},
   "outputs": [],
   "source": [
    "df_inputs_prepr_t = df_inputs_prepr_t.drop(['annual_inc','annual_inc_factor'], axis=1)"
   ]
  },
  {
   "cell_type": "code",
   "execution_count": 63,
   "metadata": {},
   "outputs": [],
   "source": [
    "df_inputs_prepr_t['int_rate_factor_f'] = pd.cut(df_inputs_prepr_t['int_rate_factor'],10)"
   ]
  },
  {
   "cell_type": "code",
   "execution_count": 64,
   "metadata": {},
   "outputs": [],
   "source": [
    "df_inputs_prepr_t['int_rate_factor:1'] = np.where((df_inputs_prepr_t['int_rate_factor_f'].isin(range(8))),1,0)\n",
    "df_inputs_prepr_t['int_rate_factor:2'] = np.where((df_inputs_prepr_t['int_rate_factor_f'].isin(range(8,11))),1,0)\n",
    "df_inputs_prepr_t['int_rate_factor:3'] = np.where((df_inputs_prepr_t['int_rate_factor_f'].isin(range(11,13))),1,0)\n",
    "df_inputs_prepr_t['int_rate_factor:4'] = np.where((df_inputs_prepr_t['int_rate_factor_f'].isin(range(13,15))),1,0)\n",
    "df_inputs_prepr_t['int_rate_factor:5'] = np.where((df_inputs_prepr_t['int_rate_factor_f'].isin(range(15,17))),1,0)\n",
    "df_inputs_prepr_t['int_rate_factor:6'] = np.where((df_inputs_prepr_t['int_rate_factor_f'].isin(range(17,19))),1,0)\n",
    "df_inputs_prepr_t['int_rate_factor:7'] = np.where((df_inputs_prepr_t['int_rate_factor_f'].isin(range(19,21))),1,0)\n",
    "df_inputs_prepr_t['int_rate_factor:8'] = np.where((df_inputs_prepr_t['int_rate_factor_f'].isin(range(21,23))),1,0)\n",
    "df_inputs_prepr_t['int_rate_factor:9'] = np.where((df_inputs_prepr_t['int_rate_factor_f'].isin(range(23,25))),1,0)\n",
    "df_inputs_prepr_t['int_rate_factor:10'] = np.where((df_inputs_prepr_t['int_rate_factor_f'].isin(range(25,27))),1,0)\n",
    "df_inputs_prepr_t['int_rate_factor:11'] = np.where((df_inputs_prepr_t['int_rate_factor_f'].isin(range(27,int(df_inputs_prepr_t['int_rate_factor'].max())))),1,0)"
   ]
  },
  {
   "cell_type": "code",
   "execution_count": 65,
   "metadata": {},
   "outputs": [],
   "source": [
    "df_inputs_prepr_t = df_inputs_prepr_t.drop(['int_rate_factor','int_rate_factor_f'], axis=1)"
   ]
  },
  {
   "cell_type": "code",
   "execution_count": 66,
   "metadata": {},
   "outputs": [],
   "source": [
    "df_inputs_prepr_t['revol_util_factor_f'] = pd.cut(df_inputs_prepr_t['revol_util_factor'],30)"
   ]
  },
  {
   "cell_type": "code",
   "execution_count": 67,
   "metadata": {},
   "outputs": [],
   "source": [
    "df_inputs_prepr_t['revol_util_factor:1'] = np.where((df_inputs_prepr_t['revol_util_factor_f'].isin(range(12))),1,0)\n",
    "df_inputs_prepr_t['revol_util_factor:2'] = np.where((df_inputs_prepr_t['revol_util_factor_f'].isin(range(12,24))),1,0)\n",
    "df_inputs_prepr_t['revol_util_factor:3'] = np.where((df_inputs_prepr_t['revol_util_factor_f'].isin(range(24,36))),1,0)\n",
    "df_inputs_prepr_t['revol_util_factor:4'] = np.where((df_inputs_prepr_t['revol_util_factor_f'].isin(range(36,48))),1,0)\n",
    "df_inputs_prepr_t['revol_util_factor:5'] = np.where((df_inputs_prepr_t['revol_util_factor_f'].isin(range(48,60))),1,0)\n",
    "df_inputs_prepr_t['revol_util_factor:6'] = np.where((df_inputs_prepr_t['revol_util_factor_f'].isin(range(60,72))),1,0)\n",
    "df_inputs_prepr_t['revol_util_factor:7'] = np.where((df_inputs_prepr_t['revol_util_factor_f'].isin(range(72,84))),1,0)\n",
    "df_inputs_prepr_t['revol_util_factor:8'] = np.where((df_inputs_prepr_t['revol_util_factor_f'].isin(range(84,96))),1,0)\n",
    "df_inputs_prepr_t['revol_util_factor:9'] = np.where((df_inputs_prepr_t['revol_util_factor_f'].isin(range(96,int(df_inputs_prepr_t['revol_util_factor'].max())))),1,0)"
   ]
  },
  {
   "cell_type": "code",
   "execution_count": 68,
   "metadata": {},
   "outputs": [],
   "source": [
    "df_inputs_prepr_t = df_inputs_prepr_t.drop(['revol_util_factor','revol_util_factor_f'], axis=1)"
   ]
  },
  {
   "cell_type": "code",
   "execution_count": 69,
   "metadata": {},
   "outputs": [],
   "source": [
    "loan_data_input_train = df_inputs_prepr\n",
    "loan_data_input_test = df_inputs_prepr_t"
   ]
  },
  {
   "cell_type": "markdown",
   "metadata": {},
   "source": [
    "## Logistic Regression Modeling"
   ]
  },
  {
   "cell_type": "code",
   "execution_count": 70,
   "metadata": {},
   "outputs": [],
   "source": [
    "from sklearn.linear_model import LogisticRegression\n",
    "from sklearn import metrics"
   ]
  },
  {
   "cell_type": "code",
   "execution_count": 71,
   "metadata": {},
   "outputs": [],
   "source": [
    "from sklearn import linear_model\n",
    "import scipy.stats as stat"
   ]
  },
  {
   "cell_type": "code",
   "execution_count": 72,
   "metadata": {},
   "outputs": [],
   "source": [
    "loan_data_target_train = pd.DataFrame(loan_data_target_train)"
   ]
  },
  {
   "cell_type": "code",
   "execution_count": 73,
   "metadata": {},
   "outputs": [],
   "source": [
    "loan_data_target_test = pd.DataFrame(loan_data_target_test)"
   ]
  },
  {
   "cell_type": "code",
   "execution_count": 74,
   "metadata": {},
   "outputs": [
    {
     "name": "stdout",
     "output_type": "stream",
     "text": [
      "input train shape: (1788585, 75) \n",
      "targets train shape: (1788585, 1)\n"
     ]
    }
   ],
   "source": [
    "print(\"input train shape: {} \\ntargets train shape: {}\".format(loan_data_input_train.shape, loan_data_target_train.shape))"
   ]
  },
  {
   "cell_type": "code",
   "execution_count": 75,
   "metadata": {},
   "outputs": [
    {
     "name": "stdout",
     "output_type": "stream",
     "text": [
      "inputs test shape: (596196, 75) \n",
      "targets test shape: (596196, 1)\n"
     ]
    }
   ],
   "source": [
    "print(\"inputs test shape: {} \\ntargets test shape: {}\".format(loan_data_input_test.shape, loan_data_target_test.shape))"
   ]
  },
  {
   "cell_type": "markdown",
   "metadata": {},
   "source": [
    "### Drop k-1 from One Hot Encoding"
   ]
  },
  {
   "cell_type": "code",
   "execution_count": 76,
   "metadata": {},
   "outputs": [],
   "source": [
    "ref_categories = ['grade:G','home_ownership:RENT','purpose:wedding','emp_length_int:10.0','revol_util_factor:9','int_rate_factor:11','annual_inc_factor:7','loan_amnt_factor:8','term_int:60.0']"
   ]
  },
  {
   "cell_type": "code",
   "execution_count": 77,
   "metadata": {},
   "outputs": [],
   "source": [
    "input_train = loan_data_input_train"
   ]
  },
  {
   "cell_type": "code",
   "execution_count": 78,
   "metadata": {},
   "outputs": [],
   "source": [
    "input_train = input_train.drop(ref_categories, axis=1)"
   ]
  },
  {
   "cell_type": "code",
   "execution_count": 79,
   "metadata": {},
   "outputs": [],
   "source": [
    "reg = LogisticRegression()"
   ]
  },
  {
   "cell_type": "code",
   "execution_count": 80,
   "metadata": {},
   "outputs": [
    {
     "name": "stderr",
     "output_type": "stream",
     "text": [
      "/Users/fayadabbasi/anaconda3/lib/python3.7/site-packages/sklearn/utils/validation.py:578: DataConversionWarning: A column-vector y was passed when a 1d array was expected. Please change the shape of y to (n_samples, ), for example using ravel().\n",
      "  y = column_or_1d(y, warn=True)\n"
     ]
    },
    {
     "data": {
      "text/plain": [
       "LogisticRegression(C=1.0, class_weight=None, dual=False, fit_intercept=True,\n",
       "          intercept_scaling=1, max_iter=100, multi_class='ovr', n_jobs=1,\n",
       "          penalty='l2', random_state=None, solver='liblinear', tol=0.0001,\n",
       "          verbose=0, warm_start=False)"
      ]
     },
     "execution_count": 80,
     "metadata": {},
     "output_type": "execute_result"
    }
   ],
   "source": [
    "reg.fit(input_train, loan_data_target_train)"
   ]
  },
  {
   "cell_type": "code",
   "execution_count": 81,
   "metadata": {},
   "outputs": [
    {
     "data": {
      "text/html": [
       "<div>\n",
       "<style scoped>\n",
       "    .dataframe tbody tr th:only-of-type {\n",
       "        vertical-align: middle;\n",
       "    }\n",
       "\n",
       "    .dataframe tbody tr th {\n",
       "        vertical-align: top;\n",
       "    }\n",
       "\n",
       "    .dataframe thead th {\n",
       "        text-align: right;\n",
       "    }\n",
       "</style>\n",
       "<table border=\"1\" class=\"dataframe\">\n",
       "  <thead>\n",
       "    <tr style=\"text-align: right;\">\n",
       "      <th></th>\n",
       "      <th>Feature name</th>\n",
       "      <th>Coefficients</th>\n",
       "    </tr>\n",
       "  </thead>\n",
       "  <tbody>\n",
       "    <tr>\n",
       "      <th>0</th>\n",
       "      <td>Intercept</td>\n",
       "      <td>1.108513</td>\n",
       "    </tr>\n",
       "    <tr>\n",
       "      <th>1</th>\n",
       "      <td>grade:A</td>\n",
       "      <td>3.749299</td>\n",
       "    </tr>\n",
       "    <tr>\n",
       "      <th>2</th>\n",
       "      <td>grade:B</td>\n",
       "      <td>3.155008</td>\n",
       "    </tr>\n",
       "    <tr>\n",
       "      <th>3</th>\n",
       "      <td>grade:C</td>\n",
       "      <td>2.538188</td>\n",
       "    </tr>\n",
       "    <tr>\n",
       "      <th>4</th>\n",
       "      <td>grade:D</td>\n",
       "      <td>1.820178</td>\n",
       "    </tr>\n",
       "    <tr>\n",
       "      <th>5</th>\n",
       "      <td>grade:E</td>\n",
       "      <td>0.968513</td>\n",
       "    </tr>\n",
       "    <tr>\n",
       "      <th>6</th>\n",
       "      <td>grade:F</td>\n",
       "      <td>0.305412</td>\n",
       "    </tr>\n",
       "    <tr>\n",
       "      <th>7</th>\n",
       "      <td>home_ownership:ANY</td>\n",
       "      <td>1.328037</td>\n",
       "    </tr>\n",
       "    <tr>\n",
       "      <th>8</th>\n",
       "      <td>home_ownership:MORTGAGE</td>\n",
       "      <td>0.269970</td>\n",
       "    </tr>\n",
       "    <tr>\n",
       "      <th>9</th>\n",
       "      <td>home_ownership:NONE</td>\n",
       "      <td>-0.170585</td>\n",
       "    </tr>\n",
       "    <tr>\n",
       "      <th>10</th>\n",
       "      <td>home_ownership:OTHER</td>\n",
       "      <td>-0.987629</td>\n",
       "    </tr>\n",
       "    <tr>\n",
       "      <th>11</th>\n",
       "      <td>home_ownership:OWN</td>\n",
       "      <td>0.129463</td>\n",
       "    </tr>\n",
       "    <tr>\n",
       "      <th>12</th>\n",
       "      <td>purpose:car</td>\n",
       "      <td>0.056356</td>\n",
       "    </tr>\n",
       "    <tr>\n",
       "      <th>13</th>\n",
       "      <td>purpose:credit_card</td>\n",
       "      <td>-0.050331</td>\n",
       "    </tr>\n",
       "    <tr>\n",
       "      <th>14</th>\n",
       "      <td>purpose:debt_consolidation</td>\n",
       "      <td>-0.115257</td>\n",
       "    </tr>\n",
       "    <tr>\n",
       "      <th>15</th>\n",
       "      <td>purpose:educational</td>\n",
       "      <td>-1.265292</td>\n",
       "    </tr>\n",
       "    <tr>\n",
       "      <th>16</th>\n",
       "      <td>purpose:home_improvement</td>\n",
       "      <td>-0.105971</td>\n",
       "    </tr>\n",
       "    <tr>\n",
       "      <th>17</th>\n",
       "      <td>purpose:house</td>\n",
       "      <td>0.025120</td>\n",
       "    </tr>\n",
       "    <tr>\n",
       "      <th>18</th>\n",
       "      <td>purpose:major_purchase</td>\n",
       "      <td>-0.124571</td>\n",
       "    </tr>\n",
       "    <tr>\n",
       "      <th>19</th>\n",
       "      <td>purpose:medical</td>\n",
       "      <td>-0.150624</td>\n",
       "    </tr>\n",
       "    <tr>\n",
       "      <th>20</th>\n",
       "      <td>purpose:moving</td>\n",
       "      <td>-0.103937</td>\n",
       "    </tr>\n",
       "    <tr>\n",
       "      <th>21</th>\n",
       "      <td>purpose:other</td>\n",
       "      <td>-0.030848</td>\n",
       "    </tr>\n",
       "    <tr>\n",
       "      <th>22</th>\n",
       "      <td>purpose:renewable_energy</td>\n",
       "      <td>-0.161078</td>\n",
       "    </tr>\n",
       "    <tr>\n",
       "      <th>23</th>\n",
       "      <td>purpose:small_business</td>\n",
       "      <td>-0.342511</td>\n",
       "    </tr>\n",
       "    <tr>\n",
       "      <th>24</th>\n",
       "      <td>purpose:vacation</td>\n",
       "      <td>-0.087469</td>\n",
       "    </tr>\n",
       "    <tr>\n",
       "      <th>25</th>\n",
       "      <td>emp_length_int:0.0</td>\n",
       "      <td>-0.156056</td>\n",
       "    </tr>\n",
       "    <tr>\n",
       "      <th>26</th>\n",
       "      <td>emp_length_int:1.0</td>\n",
       "      <td>-0.043647</td>\n",
       "    </tr>\n",
       "    <tr>\n",
       "      <th>27</th>\n",
       "      <td>emp_length_int:2.0</td>\n",
       "      <td>-0.029164</td>\n",
       "    </tr>\n",
       "    <tr>\n",
       "      <th>28</th>\n",
       "      <td>emp_length_int:3.0</td>\n",
       "      <td>-0.036574</td>\n",
       "    </tr>\n",
       "    <tr>\n",
       "      <th>29</th>\n",
       "      <td>emp_length_int:4.0</td>\n",
       "      <td>-0.023396</td>\n",
       "    </tr>\n",
       "    <tr>\n",
       "      <th>...</th>\n",
       "      <td>...</td>\n",
       "      <td>...</td>\n",
       "    </tr>\n",
       "    <tr>\n",
       "      <th>37</th>\n",
       "      <td>loan_amnt_factor:2</td>\n",
       "      <td>-0.095242</td>\n",
       "    </tr>\n",
       "    <tr>\n",
       "      <th>38</th>\n",
       "      <td>loan_amnt_factor:3</td>\n",
       "      <td>-0.232838</td>\n",
       "    </tr>\n",
       "    <tr>\n",
       "      <th>39</th>\n",
       "      <td>loan_amnt_factor:4</td>\n",
       "      <td>-0.298241</td>\n",
       "    </tr>\n",
       "    <tr>\n",
       "      <th>40</th>\n",
       "      <td>loan_amnt_factor:5</td>\n",
       "      <td>-0.028732</td>\n",
       "    </tr>\n",
       "    <tr>\n",
       "      <th>41</th>\n",
       "      <td>loan_amnt_factor:6</td>\n",
       "      <td>-0.130670</td>\n",
       "    </tr>\n",
       "    <tr>\n",
       "      <th>42</th>\n",
       "      <td>loan_amnt_factor:7</td>\n",
       "      <td>-0.197865</td>\n",
       "    </tr>\n",
       "    <tr>\n",
       "      <th>43</th>\n",
       "      <td>annual_inc_factor:1</td>\n",
       "      <td>-0.054883</td>\n",
       "    </tr>\n",
       "    <tr>\n",
       "      <th>44</th>\n",
       "      <td>annual_inc_factor:2</td>\n",
       "      <td>-0.054883</td>\n",
       "    </tr>\n",
       "    <tr>\n",
       "      <th>45</th>\n",
       "      <td>annual_inc_factor:3</td>\n",
       "      <td>-0.054883</td>\n",
       "    </tr>\n",
       "    <tr>\n",
       "      <th>46</th>\n",
       "      <td>annual_inc_factor:4</td>\n",
       "      <td>-0.054883</td>\n",
       "    </tr>\n",
       "    <tr>\n",
       "      <th>47</th>\n",
       "      <td>annual_inc_factor:5</td>\n",
       "      <td>-0.054883</td>\n",
       "    </tr>\n",
       "    <tr>\n",
       "      <th>48</th>\n",
       "      <td>annual_inc_factor:6</td>\n",
       "      <td>-0.054883</td>\n",
       "    </tr>\n",
       "    <tr>\n",
       "      <th>49</th>\n",
       "      <td>int_rate_factor:1</td>\n",
       "      <td>-0.844343</td>\n",
       "    </tr>\n",
       "    <tr>\n",
       "      <th>50</th>\n",
       "      <td>int_rate_factor:2</td>\n",
       "      <td>-1.263554</td>\n",
       "    </tr>\n",
       "    <tr>\n",
       "      <th>51</th>\n",
       "      <td>int_rate_factor:3</td>\n",
       "      <td>-0.679112</td>\n",
       "    </tr>\n",
       "    <tr>\n",
       "      <th>52</th>\n",
       "      <td>int_rate_factor:4</td>\n",
       "      <td>-0.725774</td>\n",
       "    </tr>\n",
       "    <tr>\n",
       "      <th>53</th>\n",
       "      <td>int_rate_factor:5</td>\n",
       "      <td>-0.584792</td>\n",
       "    </tr>\n",
       "    <tr>\n",
       "      <th>54</th>\n",
       "      <td>int_rate_factor:6</td>\n",
       "      <td>-0.538130</td>\n",
       "    </tr>\n",
       "    <tr>\n",
       "      <th>55</th>\n",
       "      <td>int_rate_factor:7</td>\n",
       "      <td>-0.825276</td>\n",
       "    </tr>\n",
       "    <tr>\n",
       "      <th>56</th>\n",
       "      <td>int_rate_factor:8</td>\n",
       "      <td>-0.585483</td>\n",
       "    </tr>\n",
       "    <tr>\n",
       "      <th>57</th>\n",
       "      <td>int_rate_factor:9</td>\n",
       "      <td>-0.036830</td>\n",
       "    </tr>\n",
       "    <tr>\n",
       "      <th>58</th>\n",
       "      <td>int_rate_factor:10</td>\n",
       "      <td>-0.279064</td>\n",
       "    </tr>\n",
       "    <tr>\n",
       "      <th>59</th>\n",
       "      <td>revol_util_factor:1</td>\n",
       "      <td>-0.067683</td>\n",
       "    </tr>\n",
       "    <tr>\n",
       "      <th>60</th>\n",
       "      <td>revol_util_factor:2</td>\n",
       "      <td>0.033184</td>\n",
       "    </tr>\n",
       "    <tr>\n",
       "      <th>61</th>\n",
       "      <td>revol_util_factor:3</td>\n",
       "      <td>-0.041296</td>\n",
       "    </tr>\n",
       "    <tr>\n",
       "      <th>62</th>\n",
       "      <td>revol_util_factor:4</td>\n",
       "      <td>-0.013741</td>\n",
       "    </tr>\n",
       "    <tr>\n",
       "      <th>63</th>\n",
       "      <td>revol_util_factor:5</td>\n",
       "      <td>-0.063185</td>\n",
       "    </tr>\n",
       "    <tr>\n",
       "      <th>64</th>\n",
       "      <td>revol_util_factor:6</td>\n",
       "      <td>-0.026909</td>\n",
       "    </tr>\n",
       "    <tr>\n",
       "      <th>65</th>\n",
       "      <td>revol_util_factor:7</td>\n",
       "      <td>-0.050139</td>\n",
       "    </tr>\n",
       "    <tr>\n",
       "      <th>66</th>\n",
       "      <td>revol_util_factor:8</td>\n",
       "      <td>0.001979</td>\n",
       "    </tr>\n",
       "  </tbody>\n",
       "</table>\n",
       "<p>67 rows × 2 columns</p>\n",
       "</div>"
      ],
      "text/plain": [
       "                  Feature name  Coefficients\n",
       "0                    Intercept      1.108513\n",
       "1                      grade:A      3.749299\n",
       "2                      grade:B      3.155008\n",
       "3                      grade:C      2.538188\n",
       "4                      grade:D      1.820178\n",
       "5                      grade:E      0.968513\n",
       "6                      grade:F      0.305412\n",
       "7           home_ownership:ANY      1.328037\n",
       "8      home_ownership:MORTGAGE      0.269970\n",
       "9          home_ownership:NONE     -0.170585\n",
       "10        home_ownership:OTHER     -0.987629\n",
       "11          home_ownership:OWN      0.129463\n",
       "12                 purpose:car      0.056356\n",
       "13         purpose:credit_card     -0.050331\n",
       "14  purpose:debt_consolidation     -0.115257\n",
       "15         purpose:educational     -1.265292\n",
       "16    purpose:home_improvement     -0.105971\n",
       "17               purpose:house      0.025120\n",
       "18      purpose:major_purchase     -0.124571\n",
       "19             purpose:medical     -0.150624\n",
       "20              purpose:moving     -0.103937\n",
       "21               purpose:other     -0.030848\n",
       "22    purpose:renewable_energy     -0.161078\n",
       "23      purpose:small_business     -0.342511\n",
       "24            purpose:vacation     -0.087469\n",
       "25          emp_length_int:0.0     -0.156056\n",
       "26          emp_length_int:1.0     -0.043647\n",
       "27          emp_length_int:2.0     -0.029164\n",
       "28          emp_length_int:3.0     -0.036574\n",
       "29          emp_length_int:4.0     -0.023396\n",
       "..                         ...           ...\n",
       "37          loan_amnt_factor:2     -0.095242\n",
       "38          loan_amnt_factor:3     -0.232838\n",
       "39          loan_amnt_factor:4     -0.298241\n",
       "40          loan_amnt_factor:5     -0.028732\n",
       "41          loan_amnt_factor:6     -0.130670\n",
       "42          loan_amnt_factor:7     -0.197865\n",
       "43         annual_inc_factor:1     -0.054883\n",
       "44         annual_inc_factor:2     -0.054883\n",
       "45         annual_inc_factor:3     -0.054883\n",
       "46         annual_inc_factor:4     -0.054883\n",
       "47         annual_inc_factor:5     -0.054883\n",
       "48         annual_inc_factor:6     -0.054883\n",
       "49           int_rate_factor:1     -0.844343\n",
       "50           int_rate_factor:2     -1.263554\n",
       "51           int_rate_factor:3     -0.679112\n",
       "52           int_rate_factor:4     -0.725774\n",
       "53           int_rate_factor:5     -0.584792\n",
       "54           int_rate_factor:6     -0.538130\n",
       "55           int_rate_factor:7     -0.825276\n",
       "56           int_rate_factor:8     -0.585483\n",
       "57           int_rate_factor:9     -0.036830\n",
       "58          int_rate_factor:10     -0.279064\n",
       "59         revol_util_factor:1     -0.067683\n",
       "60         revol_util_factor:2      0.033184\n",
       "61         revol_util_factor:3     -0.041296\n",
       "62         revol_util_factor:4     -0.013741\n",
       "63         revol_util_factor:5     -0.063185\n",
       "64         revol_util_factor:6     -0.026909\n",
       "65         revol_util_factor:7     -0.050139\n",
       "66         revol_util_factor:8      0.001979\n",
       "\n",
       "[67 rows x 2 columns]"
      ]
     },
     "execution_count": 81,
     "metadata": {},
     "output_type": "execute_result"
    }
   ],
   "source": [
    "feature_name = input_train.columns.values\n",
    "summary_table = pd.DataFrame(columns=['Feature name'], data=feature_name)\n",
    "summary_table['Coefficients'] = np.transpose(reg.coef_)\n",
    "summary_table.index = summary_table.index + 1\n",
    "summary_table.loc[0] = ['Intercept', reg.intercept_[0]]\n",
    "summary_table = summary_table.sort_index()\n",
    "summary_table"
   ]
  },
  {
   "cell_type": "code",
   "execution_count": 82,
   "metadata": {},
   "outputs": [
    {
     "name": "stdout",
     "output_type": "stream",
     "text": [
      "Linear Regression training model score: 86.779%\n"
     ]
    }
   ],
   "source": [
    "print(\"Linear Regression training model score: {:.3%}\".format(reg.score(input_train,loan_data_target_train)))"
   ]
  },
  {
   "cell_type": "markdown",
   "metadata": {},
   "source": [
    "### Apply model to test data set"
   ]
  },
  {
   "cell_type": "code",
   "execution_count": 83,
   "metadata": {},
   "outputs": [],
   "source": [
    "input_test = loan_data_input_test"
   ]
  },
  {
   "cell_type": "code",
   "execution_count": 84,
   "metadata": {},
   "outputs": [],
   "source": [
    "input_test = input_test.drop(ref_categories, axis=1)"
   ]
  },
  {
   "cell_type": "code",
   "execution_count": 85,
   "metadata": {},
   "outputs": [],
   "source": [
    "yhat_test = reg.predict(input_test)"
   ]
  },
  {
   "cell_type": "code",
   "execution_count": 86,
   "metadata": {},
   "outputs": [],
   "source": [
    "yhat_test_proba = reg.predict_proba(input_test)"
   ]
  },
  {
   "cell_type": "code",
   "execution_count": 87,
   "metadata": {},
   "outputs": [],
   "source": [
    "yhat_test_proba = yhat_test_proba[: ][: ,1]"
   ]
  },
  {
   "cell_type": "code",
   "execution_count": 88,
   "metadata": {},
   "outputs": [],
   "source": [
    "loan_data_targets_test_temp = loan_data_target_test"
   ]
  },
  {
   "cell_type": "code",
   "execution_count": 89,
   "metadata": {},
   "outputs": [
    {
     "data": {
      "text/plain": [
       "(596196, 1)"
      ]
     },
     "execution_count": 89,
     "metadata": {},
     "output_type": "execute_result"
    }
   ],
   "source": [
    "loan_data_targets_test_temp.shape"
   ]
  },
  {
   "cell_type": "code",
   "execution_count": 90,
   "metadata": {},
   "outputs": [],
   "source": [
    "loan_data_targets_test_temp.reset_index(drop = True, inplace = True)"
   ]
  },
  {
   "cell_type": "code",
   "execution_count": 91,
   "metadata": {},
   "outputs": [],
   "source": [
    "df_actual_predicted_probs = pd.concat([loan_data_targets_test_temp, pd.DataFrame(yhat_test_proba)], axis=1)"
   ]
  },
  {
   "cell_type": "code",
   "execution_count": 92,
   "metadata": {},
   "outputs": [],
   "source": [
    "df_actual_predicted_probs.columns = ['loan_data_targets_test','yhat_test_proba']"
   ]
  },
  {
   "cell_type": "code",
   "execution_count": 93,
   "metadata": {},
   "outputs": [],
   "source": [
    "df_actual_predicted_probs.index = loan_data_input_test.index"
   ]
  },
  {
   "cell_type": "code",
   "execution_count": 94,
   "metadata": {},
   "outputs": [
    {
     "data": {
      "text/html": [
       "<div>\n",
       "<style scoped>\n",
       "    .dataframe tbody tr th:only-of-type {\n",
       "        vertical-align: middle;\n",
       "    }\n",
       "\n",
       "    .dataframe tbody tr th {\n",
       "        vertical-align: top;\n",
       "    }\n",
       "\n",
       "    .dataframe thead th {\n",
       "        text-align: right;\n",
       "    }\n",
       "</style>\n",
       "<table border=\"1\" class=\"dataframe\">\n",
       "  <thead>\n",
       "    <tr style=\"text-align: right;\">\n",
       "      <th></th>\n",
       "      <th>loan_data_targets_test</th>\n",
       "      <th>yhat_test_proba</th>\n",
       "    </tr>\n",
       "  </thead>\n",
       "  <tbody>\n",
       "    <tr>\n",
       "      <th>1946925</th>\n",
       "      <td>1</td>\n",
       "      <td>0.915966</td>\n",
       "    </tr>\n",
       "    <tr>\n",
       "      <th>2112432</th>\n",
       "      <td>1</td>\n",
       "      <td>0.937687</td>\n",
       "    </tr>\n",
       "    <tr>\n",
       "      <th>1734738</th>\n",
       "      <td>1</td>\n",
       "      <td>0.824680</td>\n",
       "    </tr>\n",
       "    <tr>\n",
       "      <th>896150</th>\n",
       "      <td>0</td>\n",
       "      <td>0.826767</td>\n",
       "    </tr>\n",
       "    <tr>\n",
       "      <th>734854</th>\n",
       "      <td>1</td>\n",
       "      <td>0.900025</td>\n",
       "    </tr>\n",
       "  </tbody>\n",
       "</table>\n",
       "</div>"
      ],
      "text/plain": [
       "         loan_data_targets_test  yhat_test_proba\n",
       "1946925                       1         0.915966\n",
       "2112432                       1         0.937687\n",
       "1734738                       1         0.824680\n",
       "896150                        0         0.826767\n",
       "734854                        1         0.900025"
      ]
     },
     "execution_count": 94,
     "metadata": {},
     "output_type": "execute_result"
    }
   ],
   "source": [
    "df_actual_predicted_probs.head()"
   ]
  },
  {
   "cell_type": "markdown",
   "metadata": {},
   "source": [
    "### Apply ROC Curve\n",
    "Also take a look at confusion matrix"
   ]
  },
  {
   "cell_type": "code",
   "execution_count": 154,
   "metadata": {},
   "outputs": [],
   "source": [
    "tr = 0.5\n",
    "df_actual_predicted_probs['yhat_test'] = np.where(df_actual_predicted_probs['yhat_test_proba'] > tr, 1, 0)"
   ]
  },
  {
   "cell_type": "code",
   "execution_count": 155,
   "metadata": {},
   "outputs": [
    {
     "data": {
      "text/html": [
       "<div>\n",
       "<style scoped>\n",
       "    .dataframe tbody tr th:only-of-type {\n",
       "        vertical-align: middle;\n",
       "    }\n",
       "\n",
       "    .dataframe tbody tr th {\n",
       "        vertical-align: top;\n",
       "    }\n",
       "\n",
       "    .dataframe thead th {\n",
       "        text-align: right;\n",
       "    }\n",
       "</style>\n",
       "<table border=\"1\" class=\"dataframe\">\n",
       "  <thead>\n",
       "    <tr style=\"text-align: right;\">\n",
       "      <th>Predicted</th>\n",
       "      <th>0</th>\n",
       "      <th>1</th>\n",
       "    </tr>\n",
       "    <tr>\n",
       "      <th>Actual</th>\n",
       "      <th></th>\n",
       "      <th></th>\n",
       "    </tr>\n",
       "  </thead>\n",
       "  <tbody>\n",
       "    <tr>\n",
       "      <th>0</th>\n",
       "      <td>272</td>\n",
       "      <td>78845</td>\n",
       "    </tr>\n",
       "    <tr>\n",
       "      <th>1</th>\n",
       "      <td>228</td>\n",
       "      <td>516851</td>\n",
       "    </tr>\n",
       "  </tbody>\n",
       "</table>\n",
       "</div>"
      ],
      "text/plain": [
       "Predicted    0       1\n",
       "Actual                \n",
       "0          272   78845\n",
       "1          228  516851"
      ]
     },
     "execution_count": 155,
     "metadata": {},
     "output_type": "execute_result"
    }
   ],
   "source": [
    "pd.crosstab(df_actual_predicted_probs['loan_data_targets_test'], df_actual_predicted_probs['yhat_test'], rownames=['Actual'], colnames=['Predicted'])"
   ]
  },
  {
   "cell_type": "code",
   "execution_count": 156,
   "metadata": {},
   "outputs": [
    {
     "data": {
      "text/html": [
       "<div>\n",
       "<style scoped>\n",
       "    .dataframe tbody tr th:only-of-type {\n",
       "        vertical-align: middle;\n",
       "    }\n",
       "\n",
       "    .dataframe tbody tr th {\n",
       "        vertical-align: top;\n",
       "    }\n",
       "\n",
       "    .dataframe thead th {\n",
       "        text-align: right;\n",
       "    }\n",
       "</style>\n",
       "<table border=\"1\" class=\"dataframe\">\n",
       "  <thead>\n",
       "    <tr style=\"text-align: right;\">\n",
       "      <th>Predicted</th>\n",
       "      <th>0</th>\n",
       "      <th>1</th>\n",
       "    </tr>\n",
       "    <tr>\n",
       "      <th>Actual</th>\n",
       "      <th></th>\n",
       "      <th></th>\n",
       "    </tr>\n",
       "  </thead>\n",
       "  <tbody>\n",
       "    <tr>\n",
       "      <th>0</th>\n",
       "      <td>0.000456</td>\n",
       "      <td>0.132247</td>\n",
       "    </tr>\n",
       "    <tr>\n",
       "      <th>1</th>\n",
       "      <td>0.000382</td>\n",
       "      <td>0.866915</td>\n",
       "    </tr>\n",
       "  </tbody>\n",
       "</table>\n",
       "</div>"
      ],
      "text/plain": [
       "Predicted         0         1\n",
       "Actual                       \n",
       "0          0.000456  0.132247\n",
       "1          0.000382  0.866915"
      ]
     },
     "execution_count": 156,
     "metadata": {},
     "output_type": "execute_result"
    }
   ],
   "source": [
    "pd.crosstab(df_actual_predicted_probs['loan_data_targets_test'], df_actual_predicted_probs['yhat_test'], rownames=['Actual'], colnames=['Predicted']) / df_actual_predicted_probs.shape[0]"
   ]
  },
  {
   "cell_type": "code",
   "execution_count": 157,
   "metadata": {},
   "outputs": [],
   "source": [
    "from sklearn.metrics import confusion_matrix, classification_report"
   ]
  },
  {
   "cell_type": "code",
   "execution_count": 158,
   "metadata": {},
   "outputs": [
    {
     "name": "stdout",
     "output_type": "stream",
     "text": [
      "[[   272  78845]\n",
      " [   228 516851]]\n"
     ]
    }
   ],
   "source": [
    "print(confusion_matrix(df_actual_predicted_probs['loan_data_targets_test'], df_actual_predicted_probs['yhat_test']))"
   ]
  },
  {
   "cell_type": "code",
   "execution_count": 159,
   "metadata": {},
   "outputs": [
    {
     "name": "stdout",
     "output_type": "stream",
     "text": [
      "             precision    recall  f1-score   support\n",
      "\n",
      "          0       0.54      0.00      0.01     79117\n",
      "          1       0.87      1.00      0.93    517079\n",
      "\n",
      "avg / total       0.82      0.87      0.81    596196\n",
      "\n"
     ]
    }
   ],
   "source": [
    "print(classification_report(df_actual_predicted_probs['loan_data_targets_test'], df_actual_predicted_probs['yhat_test']))"
   ]
  },
  {
   "cell_type": "code",
   "execution_count": null,
   "metadata": {},
   "outputs": [],
   "source": []
  },
  {
   "cell_type": "code",
   "execution_count": 160,
   "metadata": {},
   "outputs": [],
   "source": [
    "from sklearn.metrics import roc_curve, roc_auc_score"
   ]
  },
  {
   "cell_type": "code",
   "execution_count": 161,
   "metadata": {},
   "outputs": [
    {
     "data": {
      "text/plain": [
       "(array([0.        , 0.        , 0.        , ..., 0.99994944, 0.99994944,\n",
       "        1.        ]),\n",
       " array([1.93394046e-06, 3.28769878e-05, 3.86788092e-05, ...,\n",
       "        9.99998066e-01, 1.00000000e+00, 1.00000000e+00]),\n",
       " array([0.99383587, 0.99220689, 0.99210715, ..., 0.27325846, 0.26544191,\n",
       "        0.07459798]))"
      ]
     },
     "execution_count": 161,
     "metadata": {},
     "output_type": "execute_result"
    }
   ],
   "source": [
    "roc_curve(df_actual_predicted_probs['loan_data_targets_test'], df_actual_predicted_probs['yhat_test_proba'])"
   ]
  },
  {
   "cell_type": "code",
   "execution_count": 162,
   "metadata": {},
   "outputs": [],
   "source": [
    "fpr, tpr, thresholds = roc_curve(df_actual_predicted_probs['loan_data_targets_test'], df_actual_predicted_probs['yhat_test_proba'])"
   ]
  },
  {
   "cell_type": "code",
   "execution_count": null,
   "metadata": {},
   "outputs": [],
   "source": []
  },
  {
   "cell_type": "code",
   "execution_count": 163,
   "metadata": {},
   "outputs": [
    {
     "ename": "TypeError",
     "evalue": "'str' object is not callable",
     "output_type": "error",
     "traceback": [
      "\u001b[0;31m---------------------------------------------------------------------------\u001b[0m",
      "\u001b[0;31mTypeError\u001b[0m                                 Traceback (most recent call last)",
      "\u001b[0;32m<ipython-input-163-1718fdbf5244>\u001b[0m in \u001b[0;36m<module>\u001b[0;34m()\u001b[0m\n\u001b[1;32m      2\u001b[0m \u001b[0mplt\u001b[0m\u001b[0;34m.\u001b[0m\u001b[0mplot\u001b[0m\u001b[0;34m(\u001b[0m\u001b[0mfpr\u001b[0m\u001b[0;34m,\u001b[0m\u001b[0mfpr\u001b[0m\u001b[0;34m,\u001b[0m \u001b[0mlinestyle\u001b[0m\u001b[0;34m=\u001b[0m\u001b[0;34m'--'\u001b[0m\u001b[0;34m,\u001b[0m \u001b[0mcolor\u001b[0m\u001b[0;34m=\u001b[0m\u001b[0;34m'k'\u001b[0m\u001b[0;34m)\u001b[0m\u001b[0;34m\u001b[0m\u001b[0m\n\u001b[1;32m      3\u001b[0m \u001b[0mplt\u001b[0m\u001b[0;34m.\u001b[0m\u001b[0mtitle\u001b[0m\u001b[0;34m(\u001b[0m\u001b[0;34m'ROC'\u001b[0m\u001b[0;34m)\u001b[0m\u001b[0;34m\u001b[0m\u001b[0m\n\u001b[0;32m----> 4\u001b[0;31m \u001b[0mplt\u001b[0m\u001b[0;34m.\u001b[0m\u001b[0mxlabel\u001b[0m\u001b[0;34m(\u001b[0m\u001b[0;34m'False Pos Rate'\u001b[0m\u001b[0;34m)\u001b[0m\u001b[0;34m\u001b[0m\u001b[0m\n\u001b[0m\u001b[1;32m      5\u001b[0m \u001b[0mplt\u001b[0m\u001b[0;34m.\u001b[0m\u001b[0mylabel\u001b[0m\u001b[0;34m(\u001b[0m\u001b[0;34m'True Pos Rate'\u001b[0m\u001b[0;34m)\u001b[0m\u001b[0;34m;\u001b[0m\u001b[0;34m\u001b[0m\u001b[0m\n",
      "\u001b[0;31mTypeError\u001b[0m: 'str' object is not callable"
     ]
    },
    {
     "data": {
      "image/png": "[encoded data removed]",
      "text/plain": [
       "<Figure size 432x288 with 1 Axes>"
      ]
     },
     "metadata": {
      "needs_background": "light"
     },
     "output_type": "display_data"
    }
   ],
   "source": [
    "plt.plot(fpr,tpr)\n",
    "plt.plot(fpr,fpr, linestyle='--', color='k')\n",
    "plt.title('ROC')\n",
    "plt.xlabel('False Pos Rate')\n",
    "plt.ylabel('True Pos Rate');"
   ]
  },
  {
   "cell_type": "code",
   "execution_count": 164,
   "metadata": {},
   "outputs": [],
   "source": [
    "auroc = roc_auc_score(df_actual_predicted_probs['loan_data_targets_test'], df_actual_predicted_probs['yhat_test_proba'])"
   ]
  },
  {
   "cell_type": "code",
   "execution_count": 165,
   "metadata": {},
   "outputs": [
    {
     "name": "stdout",
     "output_type": "stream",
     "text": [
      "The Area Under the Curve for the ROC is: 0.699893\n"
     ]
    }
   ],
   "source": [
    "print(\"The Area Under the Curve for the ROC is: {:3f}\".format(auroc))"
   ]
  },
  {
   "cell_type": "code",
   "execution_count": 107,
   "metadata": {},
   "outputs": [
    {
     "name": "stderr",
     "output_type": "stream",
     "text": [
      "/Users/fayadabbasi/anaconda3/lib/python3.7/site-packages/sklearn/ensemble/weight_boosting.py:29: DeprecationWarning: numpy.core.umath_tests is an internal NumPy module and should not be imported. It will be removed in a future NumPy release.\n",
      "  from numpy.core.umath_tests import inner1d\n"
     ]
    }
   ],
   "source": [
    "from sklearn.ensemble import RandomForestClassifier"
   ]
  },
  {
   "cell_type": "code",
   "execution_count": 182,
   "metadata": {},
   "outputs": [],
   "source": [
    "rf = RandomForestClassifier(n_estimators=100, max_depth=None, random_state=42, n_jobs=-1).fit(input_train, y_glb)"
   ]
  },
  {
   "cell_type": "code",
   "execution_count": 183,
   "metadata": {},
   "outputs": [
    {
     "name": "stdout",
     "output_type": "stream",
     "text": [
      "The random forest classifier score is is: 88.216272%\n"
     ]
    }
   ],
   "source": [
    "print(\"The random forest classifier score is is: {:3%}\".format(rf.score(input_train, y_glb)))"
   ]
  },
  {
   "cell_type": "code",
   "execution_count": 184,
   "metadata": {},
   "outputs": [],
   "source": [
    "yhat_test_rf = rf.predict_proba(input_test)"
   ]
  },
  {
   "cell_type": "code",
   "execution_count": 185,
   "metadata": {},
   "outputs": [],
   "source": [
    "yhat_test_rf = pd.DataFrame(yhat_test_rf)"
   ]
  },
  {
   "cell_type": "code",
   "execution_count": 186,
   "metadata": {},
   "outputs": [],
   "source": [
    "# df_actual_predicted_probs_rf = pd.concat([loan_data_target_test, yhat_test_rf.iloc[:,1]], axis=1)"
   ]
  },
  {
   "cell_type": "code",
   "execution_count": 187,
   "metadata": {},
   "outputs": [
    {
     "data": {
      "text/html": [
       "<div>\n",
       "<style scoped>\n",
       "    .dataframe tbody tr th:only-of-type {\n",
       "        vertical-align: middle;\n",
       "    }\n",
       "\n",
       "    .dataframe tbody tr th {\n",
       "        vertical-align: top;\n",
       "    }\n",
       "\n",
       "    .dataframe thead th {\n",
       "        text-align: right;\n",
       "    }\n",
       "</style>\n",
       "<table border=\"1\" class=\"dataframe\">\n",
       "  <thead>\n",
       "    <tr style=\"text-align: right;\">\n",
       "      <th></th>\n",
       "      <th>loan_data_targets_test</th>\n",
       "      <th>yhat_test_rf</th>\n",
       "    </tr>\n",
       "  </thead>\n",
       "  <tbody>\n",
       "    <tr>\n",
       "      <th>1946925</th>\n",
       "      <td>1</td>\n",
       "      <td>0.908268</td>\n",
       "    </tr>\n",
       "    <tr>\n",
       "      <th>2112432</th>\n",
       "      <td>1</td>\n",
       "      <td>0.978853</td>\n",
       "    </tr>\n",
       "    <tr>\n",
       "      <th>1734738</th>\n",
       "      <td>1</td>\n",
       "      <td>0.972326</td>\n",
       "    </tr>\n",
       "  </tbody>\n",
       "</table>\n",
       "</div>"
      ],
      "text/plain": [
       "         loan_data_targets_test  yhat_test_rf\n",
       "1946925                       1      0.908268\n",
       "2112432                       1      0.978853\n",
       "1734738                       1      0.972326"
      ]
     },
     "execution_count": 187,
     "metadata": {},
     "output_type": "execute_result"
    }
   ],
   "source": [
    "df_actual_predicted_probs_rf = pd.concat([loan_data_target_test, yhat_test_rf.iloc[:,1]], axis=1)\n",
    "df_actual_predicted_probs_rf.columns = ['loan_data_targets_test','yhat_test_rf']\n",
    "df_actual_predicted_probs_rf.index = loan_data_input_test.index\n",
    "df_actual_predicted_probs_rf.head(3)"
   ]
  },
  {
   "cell_type": "code",
   "execution_count": 188,
   "metadata": {},
   "outputs": [],
   "source": [
    "tr = 0.5\n",
    "df_actual_predicted_probs_rf['yhat_test_proba_rf'] = np.where(df_actual_predicted_probs_rf['yhat_test_rf'] > tr, 1, 0)"
   ]
  },
  {
   "cell_type": "code",
   "execution_count": 189,
   "metadata": {},
   "outputs": [
    {
     "data": {
      "text/html": [
       "<div>\n",
       "<style scoped>\n",
       "    .dataframe tbody tr th:only-of-type {\n",
       "        vertical-align: middle;\n",
       "    }\n",
       "\n",
       "    .dataframe tbody tr th {\n",
       "        vertical-align: top;\n",
       "    }\n",
       "\n",
       "    .dataframe thead th {\n",
       "        text-align: right;\n",
       "    }\n",
       "</style>\n",
       "<table border=\"1\" class=\"dataframe\">\n",
       "  <thead>\n",
       "    <tr style=\"text-align: right;\">\n",
       "      <th>Predicted</th>\n",
       "      <th>0</th>\n",
       "      <th>1</th>\n",
       "    </tr>\n",
       "    <tr>\n",
       "      <th>Actual</th>\n",
       "      <th></th>\n",
       "      <th></th>\n",
       "    </tr>\n",
       "  </thead>\n",
       "  <tbody>\n",
       "    <tr>\n",
       "      <th>0</th>\n",
       "      <td>2478</td>\n",
       "      <td>76639</td>\n",
       "    </tr>\n",
       "    <tr>\n",
       "      <th>1</th>\n",
       "      <td>4152</td>\n",
       "      <td>512927</td>\n",
       "    </tr>\n",
       "  </tbody>\n",
       "</table>\n",
       "</div>"
      ],
      "text/plain": [
       "Predicted     0       1\n",
       "Actual                 \n",
       "0          2478   76639\n",
       "1          4152  512927"
      ]
     },
     "execution_count": 189,
     "metadata": {},
     "output_type": "execute_result"
    }
   ],
   "source": [
    "pd.crosstab(df_actual_predicted_probs_rf['loan_data_targets_test'], df_actual_predicted_probs_rf['yhat_test_proba_rf'], rownames=['Actual'], colnames=['Predicted'])"
   ]
  },
  {
   "cell_type": "code",
   "execution_count": 190,
   "metadata": {},
   "outputs": [
    {
     "name": "stdout",
     "output_type": "stream",
     "text": [
      "[[  2478  76639]\n",
      " [  4152 512927]]\n"
     ]
    }
   ],
   "source": [
    "print(confusion_matrix(df_actual_predicted_probs_rf['loan_data_targets_test'], df_actual_predicted_probs_rf['yhat_test_proba_rf']))"
   ]
  },
  {
   "cell_type": "code",
   "execution_count": 191,
   "metadata": {},
   "outputs": [
    {
     "name": "stdout",
     "output_type": "stream",
     "text": [
      "             precision    recall  f1-score   support\n",
      "\n",
      "          0       0.37      0.03      0.06     79117\n",
      "          1       0.87      0.99      0.93    517079\n",
      "\n",
      "avg / total       0.80      0.86      0.81    596196\n",
      "\n"
     ]
    }
   ],
   "source": [
    "print(classification_report(df_actual_predicted_probs_rf['loan_data_targets_test'], df_actual_predicted_probs_rf['yhat_test_proba_rf']))"
   ]
  },
  {
   "cell_type": "code",
   "execution_count": 192,
   "metadata": {},
   "outputs": [],
   "source": [
    "fpr_rf, tpr_rf, thresholds_rf = roc_curve(df_actual_predicted_probs_rf['loan_data_targets_test'], df_actual_predicted_probs_rf['yhat_test_rf'])"
   ]
  },
  {
   "cell_type": "code",
   "execution_count": 193,
   "metadata": {},
   "outputs": [
    {
     "ename": "TypeError",
     "evalue": "'str' object is not callable",
     "output_type": "error",
     "traceback": [
      "\u001b[0;31m---------------------------------------------------------------------------\u001b[0m",
      "\u001b[0;31mTypeError\u001b[0m                                 Traceback (most recent call last)",
      "\u001b[0;32m<ipython-input-193-e668fcb3f504>\u001b[0m in \u001b[0;36m<module>\u001b[0;34m()\u001b[0m\n\u001b[1;32m      2\u001b[0m \u001b[0mplt\u001b[0m\u001b[0;34m.\u001b[0m\u001b[0mplot\u001b[0m\u001b[0;34m(\u001b[0m\u001b[0mfpr_rf\u001b[0m\u001b[0;34m,\u001b[0m\u001b[0mfpr_rf\u001b[0m\u001b[0;34m,\u001b[0m \u001b[0mlinestyle\u001b[0m\u001b[0;34m=\u001b[0m\u001b[0;34m'--'\u001b[0m\u001b[0;34m,\u001b[0m \u001b[0mcolor\u001b[0m\u001b[0;34m=\u001b[0m\u001b[0;34m'k'\u001b[0m\u001b[0;34m)\u001b[0m\u001b[0;34m\u001b[0m\u001b[0m\n\u001b[1;32m      3\u001b[0m \u001b[0mplt\u001b[0m\u001b[0;34m.\u001b[0m\u001b[0mtitle\u001b[0m\u001b[0;34m(\u001b[0m\u001b[0;34m'ROC for Random Forest'\u001b[0m\u001b[0;34m)\u001b[0m\u001b[0;34m\u001b[0m\u001b[0m\n\u001b[0;32m----> 4\u001b[0;31m \u001b[0mplt\u001b[0m\u001b[0;34m.\u001b[0m\u001b[0mxlabel\u001b[0m\u001b[0;34m(\u001b[0m\u001b[0;34m'False Pos Rate'\u001b[0m\u001b[0;34m)\u001b[0m\u001b[0;34m\u001b[0m\u001b[0m\n\u001b[0m\u001b[1;32m      5\u001b[0m \u001b[0mplt\u001b[0m\u001b[0;34m.\u001b[0m\u001b[0mylabel\u001b[0m\u001b[0;34m(\u001b[0m\u001b[0;34m'True Pos Rate'\u001b[0m\u001b[0;34m)\u001b[0m\u001b[0;34m;\u001b[0m\u001b[0;34m\u001b[0m\u001b[0m\n",
      "\u001b[0;31mTypeError\u001b[0m: 'str' object is not callable"
     ]
    },
    {
     "data": {
      "image/png": "[encoded data removed]",
      "text/plain": [
       "<Figure size 432x288 with 1 Axes>"
      ]
     },
     "metadata": {
      "needs_background": "light"
     },
     "output_type": "display_data"
    }
   ],
   "source": [
    "plt.plot(fpr_rf,tpr_rf)\n",
    "plt.plot(fpr_rf,fpr_rf, linestyle='--', color='k')\n",
    "plt.title('ROC for Random Forest')\n",
    "plt.xlabel('False Pos Rate')\n",
    "plt.ylabel('True Pos Rate');"
   ]
  },
  {
   "cell_type": "code",
   "execution_count": 194,
   "metadata": {},
   "outputs": [
    {
     "name": "stdout",
     "output_type": "stream",
     "text": [
      "The Area Under the Curve for the ROC is: 0.661555\n"
     ]
    }
   ],
   "source": [
    "auroc_rf = roc_auc_score(df_actual_predicted_probs_rf['loan_data_targets_test'], df_actual_predicted_probs_rf['yhat_test_rf'])\n",
    "print(\"The Area Under the Curve for the ROC is: {:3f}\".format(auroc_rf))"
   ]
  },
  {
   "cell_type": "markdown",
   "metadata": {},
   "source": [
    "### Try my Random Forest again with a different class weighting"
   ]
  },
  {
   "cell_type": "code",
   "execution_count": 205,
   "metadata": {},
   "outputs": [],
   "source": [
    "rf_imb = RandomForestClassifier(n_estimators=100, max_depth=None, class_weight={0:10, 1:1}, random_state=42, n_jobs=-1).fit(input_train, y_glb)"
   ]
  },
  {
   "cell_type": "code",
   "execution_count": 206,
   "metadata": {},
   "outputs": [
    {
     "name": "stdout",
     "output_type": "stream",
     "text": [
      "The random forest classifier with class weighting of 10 to 1 for bad to good score is: 59.950855%\n"
     ]
    }
   ],
   "source": [
    "print(\"The random forest classifier with class weighting of 10 to 1 for bad to good score is: {:3%}\".format(rf_imb.score(input_train, y_glb)))"
   ]
  },
  {
   "cell_type": "code",
   "execution_count": 207,
   "metadata": {},
   "outputs": [],
   "source": [
    "yhat_test_rf_imb = rf_imb.predict_proba(input_test)\n",
    "yhat_test_rf_imb = pd.DataFrame(yhat_test_rf_imb)"
   ]
  },
  {
   "cell_type": "code",
   "execution_count": 208,
   "metadata": {},
   "outputs": [
    {
     "data": {
      "text/html": [
       "<div>\n",
       "<style scoped>\n",
       "    .dataframe tbody tr th:only-of-type {\n",
       "        vertical-align: middle;\n",
       "    }\n",
       "\n",
       "    .dataframe tbody tr th {\n",
       "        vertical-align: top;\n",
       "    }\n",
       "\n",
       "    .dataframe thead th {\n",
       "        text-align: right;\n",
       "    }\n",
       "</style>\n",
       "<table border=\"1\" class=\"dataframe\">\n",
       "  <thead>\n",
       "    <tr style=\"text-align: right;\">\n",
       "      <th></th>\n",
       "      <th>loan_data_targets_test</th>\n",
       "      <th>yhat_test_rf_imb</th>\n",
       "    </tr>\n",
       "  </thead>\n",
       "  <tbody>\n",
       "    <tr>\n",
       "      <th>1946925</th>\n",
       "      <td>1</td>\n",
       "      <td>0.898130</td>\n",
       "    </tr>\n",
       "    <tr>\n",
       "      <th>2112432</th>\n",
       "      <td>1</td>\n",
       "      <td>0.950765</td>\n",
       "    </tr>\n",
       "    <tr>\n",
       "      <th>1734738</th>\n",
       "      <td>1</td>\n",
       "      <td>0.960909</td>\n",
       "    </tr>\n",
       "  </tbody>\n",
       "</table>\n",
       "</div>"
      ],
      "text/plain": [
       "         loan_data_targets_test  yhat_test_rf_imb\n",
       "1946925                       1          0.898130\n",
       "2112432                       1          0.950765\n",
       "1734738                       1          0.960909"
      ]
     },
     "execution_count": 208,
     "metadata": {},
     "output_type": "execute_result"
    }
   ],
   "source": [
    "df_actual_predicted_probs_rf_imb = pd.concat([loan_data_target_test, yhat_test_rf_imb.iloc[:,1]], axis=1)\n",
    "df_actual_predicted_probs_rf_imb.columns = ['loan_data_targets_test','yhat_test_rf_imb']\n",
    "df_actual_predicted_probs_rf_imb.index = loan_data_input_test.index\n",
    "df_actual_predicted_probs_rf_imb.head(3)"
   ]
  },
  {
   "cell_type": "code",
   "execution_count": 209,
   "metadata": {},
   "outputs": [],
   "source": [
    "tr = 0.5\n",
    "df_actual_predicted_probs_rf_imb['yhat_test_proba_rf_imb'] = np.where(df_actual_predicted_probs_rf_imb['yhat_test_rf_imb'] > tr, 1, 0)"
   ]
  },
  {
   "cell_type": "code",
   "execution_count": 210,
   "metadata": {},
   "outputs": [
    {
     "name": "stdout",
     "output_type": "stream",
     "text": [
      "[[ 29207  49910]\n",
      " [102847 414232]]\n",
      "             precision    recall  f1-score   support\n",
      "\n",
      "          0       0.22      0.37      0.28     79117\n",
      "          1       0.89      0.80      0.84    517079\n",
      "\n",
      "avg / total       0.80      0.74      0.77    596196\n",
      "\n"
     ]
    }
   ],
   "source": [
    "print(confusion_matrix(df_actual_predicted_probs_rf_imb['loan_data_targets_test'], df_actual_predicted_probs_rf_imb['yhat_test_proba_rf_imb']))\n",
    "print(classification_report(df_actual_predicted_probs_rf_imb['loan_data_targets_test'], df_actual_predicted_probs_rf_imb['yhat_test_proba_rf_imb']))"
   ]
  },
  {
   "cell_type": "code",
   "execution_count": 211,
   "metadata": {},
   "outputs": [],
   "source": [
    "fpr_rf_imb, tpr_rf_imb, thresholds_rf_imb = roc_curve(df_actual_predicted_probs_rf_imb['loan_data_targets_test'], df_actual_predicted_probs_rf_imb['yhat_test_rf_imb'])"
   ]
  },
  {
   "cell_type": "code",
   "execution_count": 212,
   "metadata": {},
   "outputs": [
    {
     "ename": "TypeError",
     "evalue": "'str' object is not callable",
     "output_type": "error",
     "traceback": [
      "\u001b[0;31m---------------------------------------------------------------------------\u001b[0m",
      "\u001b[0;31mTypeError\u001b[0m                                 Traceback (most recent call last)",
      "\u001b[0;32m<ipython-input-212-9e55b2b2e0bb>\u001b[0m in \u001b[0;36m<module>\u001b[0;34m()\u001b[0m\n\u001b[1;32m      2\u001b[0m \u001b[0mplt\u001b[0m\u001b[0;34m.\u001b[0m\u001b[0mplot\u001b[0m\u001b[0;34m(\u001b[0m\u001b[0mfpr_rf_imb\u001b[0m\u001b[0;34m,\u001b[0m\u001b[0mfpr_rf_imb\u001b[0m\u001b[0;34m,\u001b[0m \u001b[0mlinestyle\u001b[0m\u001b[0;34m=\u001b[0m\u001b[0;34m'--'\u001b[0m\u001b[0;34m,\u001b[0m \u001b[0mcolor\u001b[0m\u001b[0;34m=\u001b[0m\u001b[0;34m'k'\u001b[0m\u001b[0;34m)\u001b[0m\u001b[0;34m\u001b[0m\u001b[0m\n\u001b[1;32m      3\u001b[0m \u001b[0mplt\u001b[0m\u001b[0;34m.\u001b[0m\u001b[0mtitle\u001b[0m\u001b[0;34m(\u001b[0m\u001b[0;34m'ROC for Random Forest after adjusting class weights'\u001b[0m\u001b[0;34m)\u001b[0m\u001b[0;34m\u001b[0m\u001b[0m\n\u001b[0;32m----> 4\u001b[0;31m \u001b[0mplt\u001b[0m\u001b[0;34m.\u001b[0m\u001b[0mxlabel\u001b[0m\u001b[0;34m(\u001b[0m\u001b[0;34m'False Pos Rate'\u001b[0m\u001b[0;34m)\u001b[0m\u001b[0;34m\u001b[0m\u001b[0m\n\u001b[0m\u001b[1;32m      5\u001b[0m \u001b[0mplt\u001b[0m\u001b[0;34m.\u001b[0m\u001b[0mylabel\u001b[0m\u001b[0;34m(\u001b[0m\u001b[0;34m'True Pos Rate'\u001b[0m\u001b[0;34m)\u001b[0m\u001b[0;34m;\u001b[0m\u001b[0;34m\u001b[0m\u001b[0m\n",
      "\u001b[0;31mTypeError\u001b[0m: 'str' object is not callable"
     ]
    },
    {
     "data": {
      "image/png": "[encoded data removed]",
      "text/plain": [
       "<Figure size 432x288 with 1 Axes>"
      ]
     },
     "metadata": {
      "needs_background": "light"
     },
     "output_type": "display_data"
    }
   ],
   "source": [
    "plt.plot(fpr_rf_imb,tpr_rf_imb)\n",
    "plt.plot(fpr_rf_imb,fpr_rf_imb, linestyle='--', color='k')\n",
    "plt.title('ROC for Random Forest after adjusting class weights')\n",
    "plt.xlabel('False Pos Rate')\n",
    "plt.ylabel('True Pos Rate');"
   ]
  },
  {
   "cell_type": "code",
   "execution_count": 213,
   "metadata": {},
   "outputs": [
    {
     "name": "stdout",
     "output_type": "stream",
     "text": [
      "The Area Under the Curve for the ROC is: 0.634935\n"
     ]
    }
   ],
   "source": [
    "auroc_rf_imb = roc_auc_score(df_actual_predicted_probs_rf_imb['loan_data_targets_test'], df_actual_predicted_probs_rf_imb['yhat_test_rf_imb'])\n",
    "print(\"The Area Under the Curve for the ROC is: {:3f}\".format(auroc_rf_imb))"
   ]
  },
  {
   "cell_type": "code",
   "execution_count": null,
   "metadata": {},
   "outputs": [],
   "source": []
  },
  {
   "cell_type": "code",
   "execution_count": null,
   "metadata": {},
   "outputs": [],
   "source": []
  },
  {
   "cell_type": "code",
   "execution_count": null,
   "metadata": {},
   "outputs": [],
   "source": []
  },
  {
   "cell_type": "code",
   "execution_count": null,
   "metadata": {},
   "outputs": [],
   "source": []
  },
  {
   "cell_type": "code",
   "execution_count": 328,
   "metadata": {},
   "outputs": [],
   "source": [
    "indices = np.argsort(rf.feature_importances_)[::-1]"
   ]
  },
  {
   "cell_type": "code",
   "execution_count": 339,
   "metadata": {},
   "outputs": [
    {
     "data": {
      "image/png": "[encoded data removed]",
      "text/plain": [
       "<Figure size 432x288 with 1 Axes>"
      ]
     },
     "metadata": {
      "needs_background": "light"
     },
     "output_type": "display_data"
    }
   ],
   "source": [
    "plt.barh(range(input_train.shape[1]), rf.feature_importances_[indices])\n",
    "plt.yticks(range(input_train.shape[1]), [input_train.columns[i] for i in indices]);"
   ]
  },
  {
   "cell_type": "code",
   "execution_count": 343,
   "metadata": {},
   "outputs": [],
   "source": [
    "from sklearn.feature_selection import SelectFromModel"
   ]
  },
  {
   "cell_type": "code",
   "execution_count": 352,
   "metadata": {},
   "outputs": [],
   "source": [
    "selector = SelectFromModel(rf, threshold=0.5)"
   ]
  },
  {
   "cell_type": "code",
   "execution_count": 355,
   "metadata": {},
   "outputs": [],
   "source": [
    "# features_important = selector.fit_transform(input_train, loan_data_target_train)"
   ]
  },
  {
   "cell_type": "code",
   "execution_count": null,
   "metadata": {},
   "outputs": [],
   "source": [
    "model = rf.fit(features_important, loan_data_target_train)"
   ]
  },
  {
   "cell_type": "code",
   "execution_count": null,
   "metadata": {},
   "outputs": [],
   "source": [
    "print(\"The random forest classifier score is is: {:3%}\".format(rf.score(features_important, y_glb)))"
   ]
  },
  {
   "cell_type": "code",
   "execution_count": 316,
   "metadata": {},
   "outputs": [],
   "source": [
    "from sklearn.ensemble import GradientBoostingClassifier"
   ]
  },
  {
   "cell_type": "code",
   "execution_count": 109,
   "metadata": {},
   "outputs": [],
   "source": [
    "y_glb = loan_data_target_train.iloc[:,0]\n",
    "# convert dataframe to a series"
   ]
  },
  {
   "cell_type": "code",
   "execution_count": 353,
   "metadata": {},
   "outputs": [],
   "source": [
    "#gbl = GradientBoostingClassifier(loss='deviance', learning_rate=0.001, n_estimators=300, subsample=1, min_samples_leaf=1, max_depth=2, random_state=42).fit(input_train, y_glb)\n",
    "# takes about 15-20 min to run w n_est at 300, learning rate at 0.001, and max_depth at 2"
   ]
  },
  {
   "cell_type": "code",
   "execution_count": 354,
   "metadata": {},
   "outputs": [
    {
     "name": "stdout",
     "output_type": "stream",
     "text": [
      "Accuracy on Gradient Boost training model: 86.780%\n"
     ]
    }
   ],
   "source": [
    "print(\"Accuracy on Gradient Boost training model: {:.3%}\".format(gbl.score(input_train, y_glb)))"
   ]
  },
  {
   "cell_type": "code",
   "execution_count": null,
   "metadata": {},
   "outputs": [],
   "source": []
  }
 ],
 "metadata": {
  "kernelspec": {
   "display_name": "Python 3",
   "language": "python",
   "name": "python3"
  },
  "language_info": {
   "codemirror_mode": {
    "name": "ipython",
    "version": 3
   },
   "file_extension": ".py",
   "mimetype": "text/x-python",
   "name": "python",
   "nbconvert_exporter": "python",
   "pygments_lexer": "ipython3",
   "version": "3.7.0"
  }
 },
 "nbformat": 4,
 "nbformat_minor": 2
}
