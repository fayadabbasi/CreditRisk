{
 "cells": [
  {
   "cell_type": "code",
   "execution_count": 1,
   "metadata": {},
   "outputs": [],
   "source": [
    "import pandas as pd\n",
    "import numpy as np\n",
    "import matplotlib.pyplot as plt\n",
    "%matplotlib inline"
   ]
  },
  {
   "cell_type": "code",
   "execution_count": 6,
   "metadata": {},
   "outputs": [],
   "source": [
    "X_train = pd.read_csv('/Users/fayadabbasi/Desktop/Python_Scripts/Galvanize/DSI/CreditRisk/X_train.csv')\n",
    "y_train = pd.read_csv('/Users/fayadabbasi/Desktop/Python_Scripts/Galvanize/DSI/CreditRisk/y_train.csv', header=None)"
   ]
  },
  {
   "cell_type": "code",
   "execution_count": 19,
   "metadata": {},
   "outputs": [
    {
     "data": {
      "text/plain": [
       "Index(['loan_amnt', 'grade'], dtype='object')"
      ]
     },
     "execution_count": 19,
     "metadata": {},
     "output_type": "execute_result"
    }
   ],
   "source": [
    "X_train.columns"
   ]
  },
  {
   "cell_type": "code",
   "execution_count": 20,
   "metadata": {},
   "outputs": [],
   "source": [
    "X_train = X_train[['loan_amnt', 'grade']]\n",
    "#y_train = y_train[['loan_amnt', 'grade']]"
   ]
  },
  {
   "cell_type": "code",
   "execution_count": 21,
   "metadata": {},
   "outputs": [],
   "source": [
    "def action_woe(X_train, y_train):\n",
    "    '''\n",
    "    This manually assigned the appropriate range for Weight of Evidence for the selected one hot encoded categories\n",
    "\n",
    "    Output - new train and test inputs and targets\n",
    "    '''\n",
    "    df_inputs_prepr, df_targets_prepr = X_train, y_train\n",
    "    if 'loan_amnt' in X_train:\n",
    "        df_inputs_prepr['loan_amnt_factor'] = pd.cut(df_inputs_prepr['loan_amnt'],30)\n",
    "        df_inputs_prepr['loan_amnt_factor:1'] = np.where((df_inputs_prepr['loan_amnt_factor'].isin(range(1817))),1,0)\n",
    "        df_inputs_prepr['loan_amnt_factor:2'] = np.where((df_inputs_prepr['loan_amnt_factor'].isin(range(1817,7084))),1,0)\n",
    "        df_inputs_prepr['loan_amnt_factor:3'] = np.where((df_inputs_prepr['loan_amnt_factor'].isin(range(7084,11034))),1,0)\n",
    "        df_inputs_prepr['loan_amnt_factor:4'] = np.where((df_inputs_prepr['loan_amnt_factor'].isin(range(11034,28150))),1,0)\n",
    "        df_inputs_prepr['loan_amnt_factor:5'] = np.where((df_inputs_prepr['loan_amnt_factor'].isin(range(28150,28160))),1,0)\n",
    "        df_inputs_prepr['loan_amnt_factor:6'] = np.where((df_inputs_prepr['loan_amnt_factor'].isin(range(28160,32100))),1,0)\n",
    "        df_inputs_prepr['loan_amnt_factor:7'] = np.where((df_inputs_prepr['loan_amnt_factor'].isin(range(32100,36050))),1,0)\n",
    "        df_inputs_prepr['loan_amnt_factor:8'] = np.where((df_inputs_prepr['loan_amnt_factor'].isin(range(36050,int(df_inputs_prepr['loan_amnt'].max())))),1,0)\n",
    "        df_inputs_prepr = df_inputs_prepr.drop(['loan_amnt', 'loan_amnt_factor'], axis=1)\n",
    "    else:\n",
    "        pass\n",
    "    \n",
    "    if 'mths_since_issue_d' in X_train:\n",
    "        df_inputs_prepr['mths_since_issue_d_factor:'+'<'+'38'] = np.where(df_inputs_prepr['mths_since_issue_d'].isin(range(38)),1,0)\n",
    "        df_inputs_prepr['mths_since_issue_d_factor:'+'38-59'] = np.where(df_inputs_prepr['mths_since_issue_d'].isin(range(38,59)),1,0)\n",
    "        df_inputs_prepr['mths_since_issue_d_factor:'+'59-63'] = np.where(df_inputs_prepr['mths_since_issue_d'].isin(range(59,63)),1,0)\n",
    "        df_inputs_prepr['mths_since_issue_d_factor:'+'63-67'] = np.where(df_inputs_prepr['mths_since_issue_d'].isin(range(63,67)),1,0)\n",
    "        df_inputs_prepr['mths_since_issue_d_factor:'+'67-70'] = np.where(df_inputs_prepr['mths_since_issue_d'].isin(range(67,70)),1,0)\n",
    "        df_inputs_prepr['mths_since_issue_d_factor:'+'70-85'] = np.where(df_inputs_prepr['mths_since_issue_d'].isin(range(70,85)),1,0)\n",
    "        df_inputs_prepr['mths_since_issue_d_factor:'+'85-95'] = np.where(df_inputs_prepr['mths_since_issue_d'].isin(range(85,95)),1,0)\n",
    "        df_inputs_prepr['mths_since_issue_d_factor:'+'95+'] = np.where(df_inputs_prepr['mths_since_issue_d'].isin(range(95,int(df_inputs_prepr['mths_since_issue_d'].max()))),1,0)\n",
    "    else:\n",
    "        pass\n",
    "    \n",
    "    return df_inputs_prepr"
   ]
  },
  {
   "cell_type": "code",
   "execution_count": 22,
   "metadata": {},
   "outputs": [],
   "source": [
    "z = action_woe(X_train, y_train)"
   ]
  },
  {
   "cell_type": "code",
   "execution_count": 23,
   "metadata": {},
   "outputs": [
    {
     "data": {
      "text/html": [
       "<div>\n",
       "<style scoped>\n",
       "    .dataframe tbody tr th:only-of-type {\n",
       "        vertical-align: middle;\n",
       "    }\n",
       "\n",
       "    .dataframe tbody tr th {\n",
       "        vertical-align: top;\n",
       "    }\n",
       "\n",
       "    .dataframe thead th {\n",
       "        text-align: right;\n",
       "    }\n",
       "</style>\n",
       "<table border=\"1\" class=\"dataframe\">\n",
       "  <thead>\n",
       "    <tr style=\"text-align: right;\">\n",
       "      <th></th>\n",
       "      <th>grade</th>\n",
       "      <th>loan_amnt_factor:1</th>\n",
       "      <th>loan_amnt_factor:2</th>\n",
       "      <th>loan_amnt_factor:3</th>\n",
       "      <th>loan_amnt_factor:4</th>\n",
       "      <th>loan_amnt_factor:5</th>\n",
       "      <th>loan_amnt_factor:6</th>\n",
       "      <th>loan_amnt_factor:7</th>\n",
       "      <th>loan_amnt_factor:8</th>\n",
       "    </tr>\n",
       "  </thead>\n",
       "  <tbody>\n",
       "    <tr>\n",
       "      <th>0</th>\n",
       "      <td>A</td>\n",
       "      <td>0</td>\n",
       "      <td>0</td>\n",
       "      <td>0</td>\n",
       "      <td>1</td>\n",
       "      <td>0</td>\n",
       "      <td>0</td>\n",
       "      <td>0</td>\n",
       "      <td>0</td>\n",
       "    </tr>\n",
       "    <tr>\n",
       "      <th>1</th>\n",
       "      <td>A</td>\n",
       "      <td>0</td>\n",
       "      <td>0</td>\n",
       "      <td>1</td>\n",
       "      <td>0</td>\n",
       "      <td>0</td>\n",
       "      <td>0</td>\n",
       "      <td>0</td>\n",
       "      <td>0</td>\n",
       "    </tr>\n",
       "  </tbody>\n",
       "</table>\n",
       "</div>"
      ],
      "text/plain": [
       "  grade  loan_amnt_factor:1  loan_amnt_factor:2  loan_amnt_factor:3  \\\n",
       "0     A                   0                   0                   0   \n",
       "1     A                   0                   0                   1   \n",
       "\n",
       "   loan_amnt_factor:4  loan_amnt_factor:5  loan_amnt_factor:6  \\\n",
       "0                   1                   0                   0   \n",
       "1                   0                   0                   0   \n",
       "\n",
       "   loan_amnt_factor:7  loan_amnt_factor:8  \n",
       "0                   0                   0  \n",
       "1                   0                   0  "
      ]
     },
     "execution_count": 23,
     "metadata": {},
     "output_type": "execute_result"
    }
   ],
   "source": [
    "z.head(2)"
   ]
  },
  {
   "cell_type": "code",
   "execution_count": null,
   "metadata": {},
   "outputs": [],
   "source": [
    "z.columns"
   ]
  },
  {
   "cell_type": "code",
   "execution_count": null,
   "metadata": {},
   "outputs": [],
   "source": []
  }
 ],
 "metadata": {
  "kernelspec": {
   "display_name": "Python 3",
   "language": "python",
   "name": "python3"
  },
  "language_info": {
   "codemirror_mode": {
    "name": "ipython",
    "version": 3
   },
   "file_extension": ".py",
   "mimetype": "text/x-python",
   "name": "python",
   "nbconvert_exporter": "python",
   "pygments_lexer": "ipython3",
   "version": "3.7.0"
  }
 },
 "nbformat": 4,
 "nbformat_minor": 2
}
